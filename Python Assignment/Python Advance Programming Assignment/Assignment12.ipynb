{
 "cells": [
  {
   "cell_type": "code",
   "execution_count": 9,
   "id": "de537aa4",
   "metadata": {},
   "outputs": [
    {
     "data": {
      "text/plain": [
       "31499"
      ]
     },
     "execution_count": 9,
     "metadata": {},
     "output_type": "execute_result"
    }
   ],
   "source": [
    "#Q1. meme_sum\n",
    "def meme_sum(n1, n2):\n",
    "    n1, n2, n, max_length = str(n1), str(n2), '', 0\n",
    "    if len(n1) != len(n2):\n",
    "        max_length = max(len(n1),len(n2))\n",
    "        n1, n2 = n1.zfill(max_length), n2.zfill(max_length)\n",
    "    for i in range(max_length):\n",
    "        n += str(int(n1[i]) + int(n2[i]))\n",
    "    return int(n)\n",
    "meme_sum(1222, 30277)"
   ]
  },
  {
   "cell_type": "code",
   "execution_count": 11,
   "id": "d8b496a3",
   "metadata": {},
   "outputs": [
    {
     "data": {
      "text/plain": [
       "11"
      ]
     },
     "execution_count": 11,
     "metadata": {},
     "output_type": "execute_result"
    }
   ],
   "source": [
    "#Q2. Given an integer, create a function that returns the next prime. If the number is prime, return the number itself.\n",
    "def isprime(num):\n",
    "    for n in range(2,int(num**1/2)+1):\n",
    "        if num%n==0:\n",
    "            return False\n",
    "    return True\n",
    "def next_prime(n):\n",
    "    if isprime(n):\n",
    "        return n\n",
    "    return n + 1\n",
    "next_prime(11)"
   ]
  },
  {
   "cell_type": "code",
   "execution_count": 16,
   "id": "43ba50cb",
   "metadata": {},
   "outputs": [
    {
     "data": {
      "text/plain": [
       "30.0"
      ]
     },
     "execution_count": 16,
     "metadata": {},
     "output_type": "execute_result"
    }
   ],
   "source": [
    "#Q3. If a person traveled up a hill for 18mins at 20mph and then traveled back down the same path \n",
    "#    at 60mph then their average speed traveled was 30mph.\n",
    "#    Write a function that returns the average speed traveled given an uphill time, uphill rate and a \n",
    "#    downhill rate. Uphill time is given in minutes. Return the rate as an integer (mph). No rounding \n",
    "#    is necessary.\n",
    "def ave_spd(a, b, c):\n",
    "    return (b + b)/(1 + (b/c))\n",
    "ave_spd(18, 20, 60)"
   ]
  },
  {
   "cell_type": "code",
   "execution_count": 25,
   "id": "06f7dd80",
   "metadata": {},
   "outputs": [
    {
     "data": {
      "text/plain": [
       "2"
      ]
     },
     "execution_count": 25,
     "metadata": {},
     "output_type": "execute_result"
    }
   ],
   "source": [
    "#Q4. The Kempner Function, applied to a composite number, permits to find the smallest integer greater \n",
    "#    than zero whose factorial is exactly divided by the number.\n",
    "#    A Kempner Function applied to a prime will always return the prime itself.\n",
    "def isprime(num):\n",
    "    for n in range(2,int(num**1/2)+1):\n",
    "        if num%n==0:\n",
    "            return False\n",
    "    return True\n",
    "def factorial(n):\n",
    "    return 1 if (n==1 or n==0) else n * factorial(n - 1);\n",
    "def kempner(n):\n",
    "    if isprime(n):\n",
    "        return n\n",
    "    for i in range(3, n+1):\n",
    "        if factorial(i) % n == 0:\n",
    "            return i\n",
    "    return False\n",
    "kempner(2)"
   ]
  },
  {
   "cell_type": "code",
   "execution_count": 29,
   "id": "f93e1ec9",
   "metadata": {},
   "outputs": [
    {
     "data": {
      "text/plain": [
       "5"
      ]
     },
     "execution_count": 29,
     "metadata": {},
     "output_type": "execute_result"
    }
   ],
   "source": [
    "#Q5. You work in a factory, and your job is to take items from a conveyor belt and pack them into boxes. \n",
    "#    Each box can hold a maximum of 10 kgs. Given a list containing the weight (in kg) of each item, \n",
    "#    how many boxes would you need to pack all of the items?\n",
    "def boxes(l):\n",
    "    box, s = 0, 0\n",
    "    for i in l:\n",
    "        if s + i < 10:\n",
    "            s+=i\n",
    "        else:\n",
    "            box+=1\n",
    "            s=i\n",
    "    return box\n",
    "boxes([2, 1, 2, 5, 4, 3, 6, 1, 1, 9, 3, 2])"
   ]
  },
  {
   "cell_type": "code",
   "execution_count": null,
   "id": "ae31f072",
   "metadata": {},
   "outputs": [],
   "source": []
  }
 ],
 "metadata": {
  "kernelspec": {
   "display_name": "Python 3",
   "language": "python",
   "name": "python3"
  },
  "language_info": {
   "codemirror_mode": {
    "name": "ipython",
    "version": 3
   },
   "file_extension": ".py",
   "mimetype": "text/x-python",
   "name": "python",
   "nbconvert_exporter": "python",
   "pygments_lexer": "ipython3",
   "version": "3.8.10"
  }
 },
 "nbformat": 4,
 "nbformat_minor": 5
}
