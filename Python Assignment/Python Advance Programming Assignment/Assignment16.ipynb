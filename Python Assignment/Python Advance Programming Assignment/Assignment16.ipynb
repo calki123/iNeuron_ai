{
 "cells": [
  {
   "cell_type": "code",
   "execution_count": 14,
   "id": "91f49f55",
   "metadata": {},
   "outputs": [
    {
     "data": {
      "text/plain": [
       "False"
      ]
     },
     "execution_count": 14,
     "metadata": {},
     "output_type": "execute_result"
    }
   ],
   "source": [
    "#Q1. Rondo Form is a type of musical structure, in which there is a recurring theme/refrain, notated as A. \n",
    "#    Here are the rules for valid rondo forms:\n",
    "\n",
    "#   - Rondo forms always start and end with an A section.\n",
    "#   - In between the A sections, there should be contrasting sections notated as B, then C, then D, etc... No letter should be skipped.\n",
    "#   - There shouldn't be any repeats in the sequence (such as ABBACCA).\n",
    "\n",
    "#Create a function which validates whether a given string is a valid Rondo Form.\n",
    "def valid_rondo(s):\n",
    "    x = 65\n",
    "    if (s[0] == s[-1] != \"A\") or len(s) < 2:\n",
    "        return False\n",
    "    for i in range(1,len(s),2):\n",
    "        x+=1\n",
    "        if ord(s[i]) != x:\n",
    "            return False\n",
    "    return True\n",
    "valid_rondo(\"A\")"
   ]
  },
  {
   "cell_type": "code",
   "execution_count": 25,
   "id": "308f9ff9",
   "metadata": {},
   "outputs": [
    {
     "data": {
      "text/plain": [
       "''"
      ]
     },
     "execution_count": 25,
     "metadata": {},
     "output_type": "execute_result"
    }
   ],
   "source": [
    "#Q2. Create a function that returns the whole of the first sentence which contains a specific word. \n",
    "#    Include the full stop at the end of the sentence.\n",
    "txt = \"I have a cat. I have a mat. Things are going swell.\"\n",
    "def sentence_searcher(txt, s):\n",
    "    for i in txt.split(\".\"):\n",
    "        if s.lower() in i.lower():\n",
    "            return i.strip() + '.'\n",
    "    return ''\n",
    "sentence_searcher(txt, \"flat\")"
   ]
  },
  {
   "cell_type": "code",
   "execution_count": 37,
   "id": "99ce41d9",
   "metadata": {},
   "outputs": [
    {
     "data": {
      "text/plain": [
       "'10 200 4000 50000'"
      ]
     },
     "execution_count": 37,
     "metadata": {},
     "output_type": "execute_result"
    }
   ],
   "source": [
    "#Q3. Given a number, find the \"round \"of each digit of the number. An integer is called \"round\" if all\n",
    "#    its digits except the leftmost (most significant) are equal to zero.\n",
    "\n",
    "#    - Round numbers: 4000, 1, 9, 800, 90\n",
    "#    - Not round numbers: 110, 707, 222, 1001\n",
    "\n",
    "#    Create a function that takes a number and returns the \"round\" of each digit (except if the digit is zero) \n",
    "#    as a string. Check out the following examples for more clarification.\n",
    "def sum_round(num):\n",
    "  nums = []\n",
    "  num = str(num)[::-1]\n",
    "  for i, digit in enumerate(num):\n",
    "    if digit == \"0\":\n",
    "      continue\n",
    "    power = pow(10, i)\n",
    "    nums.append(str(int(digit)*power))\n",
    "  return \" \".join(nums)\n",
    "sum_round(54210) "
   ]
  },
  {
   "cell_type": "code",
   "execution_count": 42,
   "id": "b31029f6",
   "metadata": {},
   "outputs": [
    {
     "data": {
      "text/plain": [
       "[[1]]"
      ]
     },
     "execution_count": 42,
     "metadata": {},
     "output_type": "execute_result"
    }
   ],
   "source": [
    "#Q4. Your task, is to create N x N multiplication table, of size n provided in parameter.\n",
    "def multiplication_table(num):\n",
    "    return [[i*j for i in range(1, num+1)] for j in range(1, num+1)]\n",
    "multiplication_table(1)"
   ]
  },
  {
   "cell_type": "code",
   "execution_count": 47,
   "id": "85635ca1",
   "metadata": {},
   "outputs": [
    {
     "data": {
      "text/plain": [
       "False"
      ]
     },
     "execution_count": 47,
     "metadata": {},
     "output_type": "execute_result"
    }
   ],
   "source": [
    "#Q5. Create a function that returns True if two lines rhyme and False otherwise. For the purposes of \n",
    "#    this exercise, two lines rhyme if the last word from each sentence contains the same vowels.\n",
    "def does_rhyme(s1, s2):\n",
    "    v = \"aeiou\"\n",
    "    if set(s1.split()[-1].lower()) & set(v) == set(s2.split()[-1].lower()) & set(v):\n",
    "        return True\n",
    "    return False\n",
    "does_rhyme(\"and frequently do?\", \"you gotta move.\")"
   ]
  },
  {
   "cell_type": "code",
   "execution_count": null,
   "id": "92042e59",
   "metadata": {},
   "outputs": [],
   "source": []
  }
 ],
 "metadata": {
  "kernelspec": {
   "display_name": "Python 3",
   "language": "python",
   "name": "python3"
  },
  "language_info": {
   "codemirror_mode": {
    "name": "ipython",
    "version": 3
   },
   "file_extension": ".py",
   "mimetype": "text/x-python",
   "name": "python",
   "nbconvert_exporter": "python",
   "pygments_lexer": "ipython3",
   "version": "3.8.10"
  }
 },
 "nbformat": 4,
 "nbformat_minor": 5
}
