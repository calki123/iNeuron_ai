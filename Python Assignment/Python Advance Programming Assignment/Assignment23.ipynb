{
 "cells": [
  {
   "cell_type": "markdown",
   "id": "571901c0",
   "metadata": {},
   "source": [
    "#Q1. Create a class Sudoku that takes a string as an argument. The string will contain the numbers of a regular 9x9 sudoku board left to right and top to bottom, with zeros filling up the empty cells.\n",
    "\n",
    "Attributes\n",
    "\n",
    "An instance of the class Sudoku will have one attribute:\n",
    "\n",
    "   - board: a list representing the board, with sublits for each row, with the numbers as integers. Empty cell represented with 0.\n",
    "\n",
    "Methods\n",
    "\n",
    "An instance of the class Sudoku wil have three methods:\n",
    "\n",
    "   - get_row(n): will return the row in position n.\n",
    "   - get_col(n): will return the column in position n.\n",
    "   - get_sqr([n, m]): will return the square in position n if only one argument is given, and the square to which the cell in position (n, m) belongs to if two arguments are given."
   ]
  },
  {
   "cell_type": "code",
   "execution_count": 23,
   "id": "216bfd19",
   "metadata": {},
   "outputs": [
    {
     "name": "stdout",
     "output_type": "stream",
     "text": [
      "[[4, 1, 7, 9, 5, 0, 0, 3, 0], [0, 0, 0, 0, 0, 0, 7, 0, 0], [0, 6, 0, 0, 0, 7, 0, 0, 0], [0, 5, 0, 0, 0, 9, 1, 0, 6], [8, 0, 0, 6, 0, 0, 0, 0, 0], [0, 0, 0, 0, 0, 3, 4, 0, 0], [9, 0, 0, 0, 0, 5, 0, 0, 0], [0, 0, 0, 4, 3, 0, 0, 0, 0], [2, 0, 0, 7, 0, 1, 5, 8, 0]]\n",
      "[4, 1, 7, 9, 5, 0, 0, 3, 0]\n",
      "(0, 0, 0, 6, 0, 0, 0, 0, 0)\n",
      "[0, 0, 5, 4, 3, 0, 7, 0, 1]\n"
     ]
    }
   ],
   "source": [
    "class Sudoku:\n",
    "    def __init__(self, value):\n",
    "        self.board = [[int(value[i+j]) for j in range(9)] for i in range(0, len(value)-1, 9)]\n",
    "        \n",
    "    def get_row(self, n):\n",
    "        return self.board[n]\n",
    "    def get_col(self, n):\n",
    "        a = list(zip(*self.board))\n",
    "        return a[n]\n",
    "    def get_sqr(self, n, m=False):\n",
    "        if m:\n",
    "            n = n = n//3*3 + m//3\n",
    "        return [self.board[r][c] for r in range(n//3*3, n//3*3+3) for c in range(n%3*3, n%3*3+3)]\n",
    "    \n",
    "game = Sudoku(\"417950030000000700060007000050009106800600000000003400900005000000430000200701580\")\n",
    "print(game.board)\n",
    "print(game.get_row(0))\n",
    "print(game.get_col(8))\n",
    "print(game.get_sqr(8, 3))"
   ]
  },
  {
   "cell_type": "markdown",
   "id": "a9c8683d",
   "metadata": {},
   "source": [
    "#Q2. The function input is two non-empty linked lists representing two non-negative integers. The digits are stored in reverse order, and each of their nodes contains a single digit. Add the two numbers and return the sum as a linked list, in which the digits are also stored in reversed order. The class ListNode, building block of the linked list, is defined in the Tests tab.\n",
    "\n",
    "Class definition\n",
    "\n",
    "class ListNode:\n",
    "    def __init__(self, val=0, next=None):\n",
    "        self.val = val\n",
    "        self.next = next"
   ]
  },
  {
   "cell_type": "code",
   "execution_count": 87,
   "id": "6b11f1f8",
   "metadata": {},
   "outputs": [
    {
     "name": "stdout",
     "output_type": "stream",
     "text": [
      "[2, 4, 3]\n",
      "[5, 6, 4]\n",
      "[7, 0, 8]\n"
     ]
    }
   ],
   "source": [
    "class ListNode:\n",
    "    def __init__(self, val=0, next=None):\n",
    "        self.val = [val]\n",
    "        self.next = next\n",
    "        \n",
    "    def add_data(self, l=None):\n",
    "        self.val = self.val + l\n",
    "        \n",
    "    def get_data(self):\n",
    "        return self.val\n",
    "class add_two_numbers:\n",
    "    def __init__(self, a, b):\n",
    "        self.a = a.get_data()\n",
    "        self.b = b.get_data()\n",
    "    def get_data(self):\n",
    "        x = ''.join([str(i) for i in self.a])\n",
    "        y = ''.join([str(i) for i in self.b])\n",
    "        return [int(o) for o in str(int(x) + int(y))][::-1]\n",
    "    \n",
    "lt1 = ListNode(2)\n",
    "lt1.add_data([4, 3])\n",
    "lt2 = ListNode(5)\n",
    "lt2.add_data([6, 4])\n",
    "print(lt1.get_data())\n",
    "print(lt2.get_data())\n",
    "print(add_two_numbers(lt1, lt2).get_data())"
   ]
  },
  {
   "cell_type": "markdown",
   "id": "1b363bab",
   "metadata": {},
   "source": [
    "#Q3. Write a class called CoffeeShop, which has three instance variables:\n",
    "\n",
    "   1. name : a string (basically, of the shop)\n",
    "   2. menu : a list of items (of dict type), with each item containing the item (name of the item), type (whether a food or a drink) and price.\n",
    "   3. orders : an empty list\n",
    "\n",
    "and seven methods:\n",
    "\n",
    "  1. add_order: adds the name of the item to the end of the orders list if it exists on the menu, otherwise, return \"This item is currently unavailable!\"\n",
    "  2. fulfill_order: if the orders list is not empty, return \"The {item} is ready!\". If the orders list is empty, return \"All orders have been fulfilled!\"\n",
    "  3. list_orders: returns the item names of the orders taken, otherwise, an empty list.\n",
    "  4. due_amount: returns the total amount due for the orders taken.\n",
    "  5. cheapest_item: returns the name of the cheapest item on the menu.\n",
    "  6. drinks_only: returns only the item names of type drink from the menu.\n",
    "  7. food_only: returns only the item names of type food from the menu.\n",
    "\n",
    "IMPORTANT: Orders are fulfilled in a FIFO (first-in, first-out) order."
   ]
  },
  {
   "cell_type": "code",
   "execution_count": 30,
   "id": "44597a64",
   "metadata": {},
   "outputs": [
    {
     "name": "stdout",
     "output_type": "stream",
     "text": [
      "This item is currently unavailable!\n",
      "This item is currently unavailable!\n",
      "Order added!\n",
      "Order added!\n",
      "['cinnamon roll', 'iced coffee']\n",
      "3.95\n",
      "The cinnamon roll is ready!\n",
      "The iced coffee is ready!\n",
      "All orders have been fulfilled!\n",
      "[]\n",
      "0\n",
      "lemonade\n",
      "['orange juice', 'lemonade', 'iced coffee']\n",
      "['cinnamon roll', 'tuna sandwich', 'steak']\n"
     ]
    }
   ],
   "source": [
    "class CoffeeShop:\n",
    "    def __init__(self, name, menu):\n",
    "        self.name = name\n",
    "        self.menu = menu\n",
    "        self.orders = []\n",
    "        \n",
    "    def add_order(self, name):\n",
    "        if name in self.menu:\n",
    "            self.orders.append(name)\n",
    "            return \"Order added!\"\n",
    "        else:\n",
    "            return \"This item is currently unavailable!\"\n",
    "    \n",
    "    def fulfill_order(self):\n",
    "        if not self.orders:\n",
    "            return \"All orders have been fulfilled!\"\n",
    "        item = self.orders.pop(0)\n",
    "        return f\"The {item} is ready!\"\n",
    "    \n",
    "    def list_orders(self):\n",
    "        return self.orders or []\n",
    "    \n",
    "    def due_amount(self):\n",
    "        return sum([self.menu.get(i)[1] for i in self.orders])\n",
    "    \n",
    "    def cheapest_item(self):\n",
    "        return min([(v[1], k) for k, v in self.menu.items()])[1]\n",
    "    \n",
    "    def drinks_only(self):\n",
    "        return list(filter(lambda l: 'drinks' in self.menu.get(l), self.menu))\n",
    "    \n",
    "    def food_only(self):\n",
    "        return list(filter(lambda l: 'food' in self.menu.get(l), self.menu))\n",
    "    \n",
    "menu = {\"orange juice\":[\"drinks\",3.0], \"lemonade\":[\"drinks\", 1.25], \"iced coffee\":[\"drinks\",2.1],\n",
    "       \"cinnamon roll\":[\"food\", 1.85], \"tuna sandwich\":[\"food\",4.25], \"steak\":[\"food\", 9.5]\n",
    "       }\n",
    "tcs = CoffeeShop('TCS',menu)\n",
    "\n",
    "print(tcs.add_order(\"hot cocoa\"))\n",
    "print(tcs.add_order(\"iced tea\"))\n",
    "print(tcs.add_order(\"cinnamon roll\"))\n",
    "\n",
    "print(tcs.add_order(\"iced coffee\"))\n",
    "print(tcs.list_orders())\n",
    "print(tcs.due_amount())\n",
    "print(tcs.fulfill_order())\n",
    "\n",
    "print(tcs.fulfill_order())\n",
    "print(tcs.fulfill_order())\n",
    "print(tcs.list_orders())\n",
    "print(tcs.due_amount())\n",
    "print(tcs.cheapest_item())\n",
    "\n",
    "print(tcs.drinks_only())\n",
    "print(tcs.food_only())"
   ]
  },
  {
   "cell_type": "markdown",
   "id": "fecb88d1",
   "metadata": {},
   "source": [
    "#Q4. In this challenge, write a funcion loneliest_number to find the last Lonely number inside a sequence. A number is Lonely if the distance from its closest Prime sets a new record of the sequence.\n",
    "\n",
    "Sequence = from 0 to 3\n",
    "\n",
    "#Any number lower than 3 doesn't have a Prime preceeding it...\n",
    "#...so that you'll consider only its next closest Prime.\n",
    "\n",
    "0 has distance 2 from its closest Prime (2)\n",
    "#It's a new record! 0 It's the first lonely number of the sequence\n",
    "1 has distance 1 from its closest Prime (2)\n",
    "2 has distance 1 from 3\n",
    "3 has distance 1 from 2\n",
    "\n",
    "#The sequence 0 to 3  has only one Lonely number: 0\n",
    "\n",
    "Sequence = Numbers from 5 to 10\n",
    "\n",
    "5 has distance 2 from its closest Prime (3 or 7)\n",
    "#It's a new record! 5 It's the first lonely number of the sequence\n",
    "6 has distance 1 from 5 or 7\n",
    "7 has distance 2 from 5\n",
    "8 has distance 1 from 7\n",
    "9 has distance 2 from 7 or 11\n",
    "10 has distance 1 from 11\n",
    "\n",
    "#The sequence 5 to 10  has only one Lonely number: 5\n",
    "\n",
    "Sequence = Numbers from 19 to 24\n",
    "\n",
    "19 has distance 2 from its closest Prime (17)\n",
    "#It's a new record! 19 It's the first lonely number of the sequence\n",
    "20 has distance 1 from 19\n",
    "21 has distance 2 from 5\n",
    "22 has distance 1 from 23\n",
    "23 has distance 4 from 17 or 29\n",
    "#It's a new record! 23 is the second lonely number of the sequence\n",
    "24 has distance 1 from 23\n",
    "\n",
    "#The sequence 19 to 24  has two Lonely numbers: 19 and 23\n",
    "\n",
    "The function loneliest_number must accept two integers lo and hi being the inclusive bounds of the sequence to analyze, and returns a dictionay (dict) object with the following keys and values:\n",
    "\n",
    "   - number: is the last Lonely number found in the given sequence;\n",
    "   - distance: is the distance of the number from its closest Prime;\n",
    "   - closest: is the Prime closest to number (if two Primes are equally distant from number, return the higher Prime)."
   ]
  },
  {
   "cell_type": "code",
   "execution_count": 3,
   "id": "c7f57d7c",
   "metadata": {},
   "outputs": [
    {
     "data": {
      "text/plain": [
       "{'number': 211, 'distance': 12, 'closest': 223}"
      ]
     },
     "execution_count": 3,
     "metadata": {},
     "output_type": "execute_result"
    }
   ],
   "source": [
    "from math import sqrt\n",
    "class getPrimeList:\n",
    "    def __init__(self, v):\n",
    "        self.v = v\n",
    "        self.max_prime = 0\n",
    "        self.prime_list = []\n",
    "    def isPrime(self, n):\n",
    "        prime_flag = 0\n",
    "        if(n > 1):\n",
    "            for i in range(2, int(sqrt(n)) + 1):\n",
    "                if (n % i == 0):\n",
    "                    prime_flag = 1\n",
    "                    break\n",
    "            if (prime_flag == 0):\n",
    "                return True\n",
    "            else:\n",
    "                return False\n",
    "        else:\n",
    "            return False\n",
    "    def primeList(self):\n",
    "        a = 0\n",
    "        while self.v > self.max_prime:\n",
    "            if self.isPrime(a):\n",
    "                self.prime_list.append(a)\n",
    "                self.max_prime = a\n",
    "            a+=1\n",
    "        return self.prime_list\n",
    "        \n",
    "def loneliest_number(a, b):\n",
    "    x = getPrimeList(b).primeList()\n",
    "    num, diff, closest = 0, 0, 0\n",
    "    for i in range(a, b):\n",
    "        y = list(filter(lambda l: l != i,x))\n",
    "        closest_no = min(y, key=lambda l: abs(l-i))\n",
    "        if diff < abs(closest_no - i):\n",
    "            closest_no = y[y.index(closest_no) + 1] if abs(y[y.index(closest_no) + 1] - i) == abs(i-closest_no) else closest_no\n",
    "            diff = abs(i-closest_no)\n",
    "            num = i\n",
    "            closest = closest_no\n",
    "    return {'number': num, 'distance': diff, 'closest': closest}\n",
    "\n",
    "loneliest_number(120, 1190)"
   ]
  },
  {
   "cell_type": "markdown",
   "id": "0f5e3cc6",
   "metadata": {},
   "source": [
    "#Q5. Implement a class Selfie that can store the current state of the object in the form of binary string. It can take multiple pictures and then recover to a state it was before. During testing an object will be provided with new attributes and their values. It will store its state. Then the values will be changed. Then it will be given new attributes. It will store its state again. It will be repeated few times.\n",
    "\n",
    "Later the states of the object will be recovered given an index. The return value should be a new Selfie with the requested historic state and the state history of the new object should be updated with a copy of current object's state history.\n",
    "\n",
    "The object also knows how many states it has stored. If the index is not within the range of stored states, the object stays as is. If the argument is invalid, n < 0 or n >= self.n_states(), the current object (or a copy thereof) should be returned."
   ]
  },
  {
   "cell_type": "code",
   "execution_count": 10,
   "id": "ead3cf35",
   "metadata": {},
   "outputs": [
    {
     "name": "stdout",
     "output_type": "stream",
     "text": [
      "2\n"
     ]
    }
   ],
   "source": [
    "import pickle\n",
    "class Selfie:\n",
    "    def __init__(self):\n",
    "        self.state = []\n",
    "        \n",
    "    def save_state(self):\n",
    "        self.state.append(pickle.dumps(self))\n",
    "        \n",
    "    def recover_state(self, index):\n",
    "        return pickle.loads(self.state[index]) if 0 <= index < len(self.state) else self\n",
    "    \n",
    "p = Selfie()\n",
    "p.x = 2\n",
    "p.save_state()\n",
    "p.x = 5\n",
    "p = p.recover_state(0)\n",
    "print(p.x)"
   ]
  },
  {
   "cell_type": "code",
   "execution_count": null,
   "id": "7005e774",
   "metadata": {},
   "outputs": [],
   "source": []
  }
 ],
 "metadata": {
  "kernelspec": {
   "display_name": "Python 3",
   "language": "python",
   "name": "python3"
  },
  "language_info": {
   "codemirror_mode": {
    "name": "ipython",
    "version": 3
   },
   "file_extension": ".py",
   "mimetype": "text/x-python",
   "name": "python",
   "nbconvert_exporter": "python",
   "pygments_lexer": "ipython3",
   "version": "3.8.10"
  }
 },
 "nbformat": 4,
 "nbformat_minor": 5
}
