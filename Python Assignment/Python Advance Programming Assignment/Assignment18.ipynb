{
 "cells": [
  {
   "cell_type": "code",
   "execution_count": 6,
   "id": "befb7dc4",
   "metadata": {},
   "outputs": [
    {
     "data": {
      "text/plain": [
       "[200, 10500]"
      ]
     },
     "execution_count": 6,
     "metadata": {},
     "output_type": "execute_result"
    }
   ],
   "source": [
    "#Q1. A robot has been given a list of movement instructions. Each instruction is either left, right, up or down, \n",
    "#    followed by a distance to move. The robot starts at [0, 0]. You want to calculate where the robot \n",
    "#    will end up and return its final position as a list.\n",
    "\n",
    "#   To illustrate, if the robot is given the following instructions:\n",
    "\n",
    "#   [\"right 10\", \"up 50\", \"left 30\", \"down 10\"]\n",
    "\n",
    "#   It will end up 20 left and 40 up from where it started, so we return [-20, 40].\n",
    "def track_robot(l):\n",
    "    v, h = 0, 0\n",
    "    for i in l:\n",
    "        d, l = i.split()\n",
    "        if d == \"left\":\n",
    "            h -= int(l)\n",
    "        elif d == \"right\":\n",
    "            h += int(l)\n",
    "        elif d == \"up\":\n",
    "            v += int(l)\n",
    "        else:\n",
    "            v -= int(l)\n",
    "    return [h, v]\n",
    "track_robot([\"right 100\", \"right 100\", \"up 500\", \"up 10000\"])"
   ]
  },
  {
   "cell_type": "code",
   "execution_count": 18,
   "id": "1fca1bdc",
   "metadata": {},
   "outputs": [
    {
     "data": {
      "text/plain": [
       "'forgetfulness'"
      ]
     },
     "execution_count": 18,
     "metadata": {},
     "output_type": "execute_result"
    }
   ],
   "source": [
    "#Q2. Write a function that will return the longest word in a sentence. In cases where more than one word is found, \n",
    "#    return the first one.\n",
    "def find_longest(s):\n",
    "    return max(s.split(), key=len).lower()\n",
    "find_longest(\"Forgetfulness is by all means powerless!\")"
   ]
  },
  {
   "cell_type": "code",
   "execution_count": 44,
   "id": "fbdf8902",
   "metadata": {},
   "outputs": [
    {
     "data": {
      "text/plain": [
       "'disqualified'"
      ]
     },
     "execution_count": 44,
     "metadata": {},
     "output_type": "execute_result"
    }
   ],
   "source": [
    "#Q3. Create a function to check if a candidate is qualified in an imaginary coding interview of an \n",
    "#    imaginary tech startup.\n",
    "\n",
    "#    The criteria for a candidate to be qualified in the coding interview is:\n",
    "#   1. The candidate should have complete all the questions.\n",
    "#   2. The maximum time given to complete the interview is 120 minutes.\n",
    "#   3. The maximum time given for very easy questions is 5 minutes each.\n",
    "#   4. The maximum time given for easy questions is 10 minutes each.\n",
    "#   5. The maximum time given for medium questions is 15 minutes each.\n",
    "#   6. The maximum time given for hard questions is 20 minutes each.\n",
    "\n",
    "#    If all the above conditions are satisfied, return \"qualified\", else return \"disqualified\".\n",
    "\n",
    "#    You will be given a list of time taken by a candidate to solve a particular question and the total \n",
    "#    time taken by the candidate to complete the interview.\n",
    "\n",
    "#    Given a list , in a true condition will always be in the format [very easy, very easy, easy, \n",
    "#    easy, medium, medium, hard, hard].\n",
    "\n",
    "#    The maximum time to complete the interview includes a buffer time of 20 minutes.\n",
    "def interview(l, t):\n",
    "    l2 = [5, 5, 10, 10, 15, 15, 20, 20]\n",
    "    if t > 120 or (len(l) != 8) or any(i[0] > i[1] for i in list(zip(l,l2))):\n",
    "        return \"disqualified\"\n",
    "    return \"qualified\"\n",
    "interview([5, 5, 10, 10, 15, 15, 20, 20], 130) "
   ]
  },
  {
   "cell_type": "code",
   "execution_count": 33,
   "id": "c764fa1a",
   "metadata": {},
   "outputs": [
    {
     "data": {
      "text/plain": [
       "[[2, 3, 4, 5, 6, 7]]"
      ]
     },
     "execution_count": 33,
     "metadata": {},
     "output_type": "execute_result"
    }
   ],
   "source": [
    "#Q4. Write a function that divides a list into chunks of size n, where n is the length of each chunk.\n",
    "def chunkify(l, n):\n",
    "    return [l[i:i + n] for i in range(0, len(l), n)] \n",
    "chunkify([2, 3, 4, 5, 6, 7], 7)"
   ]
  },
  {
   "cell_type": "code",
   "execution_count": 21,
   "id": "62d252d1",
   "metadata": {},
   "outputs": [
    {
     "data": {
      "text/plain": [
       "['5.99', '0.20', '8.50', '1.99']"
      ]
     },
     "execution_count": 21,
     "metadata": {},
     "output_type": "execute_result"
    }
   ],
   "source": [
    "#Q5. You are given a list of strings consisting of grocery items, with prices in parentheses. Return \n",
    "#    a list of prices in float format.\n",
    "def get_prices(l):\n",
    "    a = []\n",
    "    for i in l:\n",
    "        a.append(i.split(\"$\")[-1][:-1])\n",
    "    return a\n",
    "get_prices([\n",
    "  \"ice cream ($5.99)\",\n",
    "  \"banana ($0.20)\",\n",
    "  \"sandwich ($8.50)\",\n",
    "  \"soup ($1.99)\"\n",
    "])"
   ]
  },
  {
   "cell_type": "code",
   "execution_count": null,
   "id": "94c42c1f",
   "metadata": {},
   "outputs": [],
   "source": []
  }
 ],
 "metadata": {
  "kernelspec": {
   "display_name": "Python 3",
   "language": "python",
   "name": "python3"
  },
  "language_info": {
   "codemirror_mode": {
    "name": "ipython",
    "version": 3
   },
   "file_extension": ".py",
   "mimetype": "text/x-python",
   "name": "python",
   "nbconvert_exporter": "python",
   "pygments_lexer": "ipython3",
   "version": "3.8.10"
  }
 },
 "nbformat": 4,
 "nbformat_minor": 5
}
