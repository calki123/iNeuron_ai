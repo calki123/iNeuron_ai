{
 "cells": [
  {
   "cell_type": "code",
   "execution_count": 17,
   "id": "fc295a2d",
   "metadata": {},
   "outputs": [
    {
     "name": "stdout",
     "output_type": "stream",
     "text": [
      "['Banana']\n",
      "$0.5\n",
      "$1.25\n",
      "Banana Smoothie\n",
      "['Raspberries', 'Strawberries', 'Blueberries']\n",
      "$3.5\n",
      "$8.75\n",
      "Raspberry Strawberry Blueberry Fusion\n"
     ]
    }
   ],
   "source": [
    "#Q1. Create a class Smoothie and do the following:\n",
    "\n",
    "#    - Create an instance attribute called ingredients.\n",
    "#    - Create a get_cost method which calculates the total cost of the ingredients used to make the smoothie.\n",
    "#    - Create a get_price method which returns the number from get_cost plus the number from get_cost multiplied by 1.5. Round to two decimal places.\n",
    "#    - Create a get_name method which gets the ingredients and puts them in alphabetical order into a nice descriptive sentence. If there are multiple ingredients, add the word \"Fusion\" to the end but otherwise, add \"Smoothie\". Remember to change \"-berries\" to \"-berry\". See the examples below.\n",
    "\n",
    "#   Ingredient     Price\n",
    "#   Strawberries   $1.50\n",
    "#   Banana         $0.50\n",
    "#   Mango          $2.50\n",
    "#   Blueberries    $1.00\n",
    "#   Raspberries    $1.00\n",
    "#   Apple          $1.75\n",
    "#   Pineapple      $3.50\n",
    "class Smoothie:\n",
    "    def __init__(self, ingredients):\n",
    "        self.ingredients = ingredients\n",
    "        self.ingredient_price = {\n",
    "            \"Strawberries\": 1.50,\n",
    "            \"Banana\": 0.50,\n",
    "            \"Mango\": 2.50,\n",
    "            \"Blueberries\": 1.00,\n",
    "            \"Raspberries\": 1.00,\n",
    "            \"Apple\": 1.75,\n",
    "            \"Pineapple\": 3.50\n",
    "        }\n",
    "    \n",
    "    def get_cost(self):\n",
    "        self.total_cost = 0\n",
    "        for i in self.ingredients:\n",
    "            self.total_cost += self.ingredient_price.get(i)\n",
    "        return \"$\" + str(self.total_cost)\n",
    "    def get_price(self):\n",
    "        cost = float(self.get_cost().replace(\"$\", \"\"))\n",
    "        return \"$\" + str(cost+cost*1.5)\n",
    "    def get_name(self):\n",
    "        s = \"\"\n",
    "        if len(self.ingredients) > 1:\n",
    "            l = list(map(lambda l: l.replace(\"berries\",\"berry\"),self.ingredients))\n",
    "            s = ' '.join(l) + \" Fusion\"\n",
    "        else:\n",
    "            s = ' '.join(self.ingredients) + \" Smoothie\"\n",
    "        return s\n",
    "        \n",
    "s1 = Smoothie([\"Banana\"])\n",
    "print(s1.ingredients)\n",
    "print(s1.get_cost())\n",
    "print(s1.get_price())\n",
    "print(s1.get_name())\n",
    "s2 = Smoothie([\"Raspberries\", \"Strawberries\", \"Blueberries\"])\n",
    "print(s2.ingredients)\n",
    "print(s2.get_cost())\n",
    "print(s2.get_price())\n",
    "print(s2.get_name())"
   ]
  },
  {
   "cell_type": "code",
   "execution_count": 6,
   "id": "5d3bc270",
   "metadata": {},
   "outputs": [
    {
     "name": "stdout",
     "output_type": "stream",
     "text": [
      "No tests taken\n",
      "{'Maths': 'Passed! (80%)'}\n",
      "{'Chemistry': 'Failed! (25%)', 'Computing': 'Failed! (43%)'}\n"
     ]
    }
   ],
   "source": [
    "#Q2. Your task is to write a program which allows teachers to create a multiple choice test in a class \n",
    "#    called Testpaper and to be also able to assign a minimum pass mark. The testpaper's subject should \n",
    "#    also be included. The attributes are in the following order:\n",
    "\n",
    "#  1. subject\n",
    "#  2. markscheme\n",
    "#  3. pass_mark\n",
    "\n",
    "#   As well as that, we need to create student objects to take the test itself! Create another class called \n",
    "#   Student and do the following:\n",
    "\n",
    "#  - Create an attribute called tests_taken and set the default as 'No tests taken'.\n",
    "#  - Make a method called take_test(), which takes in the testpaper object they are completing and the \n",
    "#    student's answers. Compare what they wrote to the mark scheme, and append to the/create a dictionary \n",
    "#    assigned to tests_taken in the way as shown in the point below.\n",
    "#  - Each key in the dictionary should be the testpaper subject and each value should be a string in the \n",
    "#    format seen in the examples below (whether or not the student has failed, and their percentage in brackets).\n",
    "class Testpaper:\n",
    "    def __init__(self, subject, markscheme, pass_mark):\n",
    "        self.subject = subject\n",
    "        self.markscheme = markscheme\n",
    "        self.pass_mark = pass_mark\n",
    "        \n",
    "class Student:\n",
    "    def __init__(self):\n",
    "        self.tests_taken = \"No tests taken\"\n",
    "        \n",
    "    def take_test(self, testpaper, student_answers):\n",
    "        true_answer = testpaper.markscheme\n",
    "        diffrence = len(set(true_answer) - set(student_answers))\n",
    "        pr = round(((1 - diffrence/len(testpaper.markscheme))) * 100)\n",
    "        r = \"Passed!\" if pr > int(testpaper.pass_mark[:-1]) else \"Failed!\"\n",
    "        if type(self.tests_taken) == str:\n",
    "            self.tests_taken = {}\n",
    "        self.tests_taken[testpaper.subject] = r + f\" ({pr}%)\"\n",
    "        \n",
    "paper1 = Testpaper(\"Maths\", [\"1A\", \"2C\", \"3D\", \"4A\", \"5A\"], \"60%\")\n",
    "paper2 = Testpaper(\"Chemistry\", [\"1C\", \"2C\", \"3D\", \"4A\"], \"75%\")\n",
    "paper3 = Testpaper(\"Computing\", [\"1D\", \"2C\", \"3C\", \"4B\", \"5D\", \"6C\", \"7A\"], \"75%\")\n",
    "\n",
    "student1 = Student()\n",
    "student2 = Student()\n",
    "\n",
    "print(student1.tests_taken)\n",
    "student1.take_test(paper1, [\"1A\", \"2D\", \"3D\", \"4A\", \"5A\"])\n",
    "print(student1.tests_taken)\n",
    "\n",
    "student2.take_test(paper2, [\"1C\", \"2D\", \"3A\", \"4C\"])\n",
    "student2.take_test(paper3, [\"1A\", \"2C\", \"3A\", \"4C\", \"5D\", \"6C\", \"7B\"])\n",
    "print(student2.tests_taken)"
   ]
  },
  {
   "cell_type": "code",
   "execution_count": 16,
   "id": "c48fe35a",
   "metadata": {},
   "outputs": [
    {
     "name": "stdout",
     "output_type": "stream",
     "text": [
      "13:04\n",
      "14:20\n",
      "14:22\n"
     ]
    }
   ],
   "source": [
    "#Q3. Due to unforseen circumstances in Suburbia, the trains will be delayed by a further 10 minutes.\n",
    "\n",
    "#    Create a function that will help to plan out and manage these delays! Create a function called \n",
    "#    manage_delays that does the following:\n",
    "\n",
    "#   - Parameters will be the train object, a destination and number of minutes the delay is.\n",
    "#   - Increment to the train object's expected_time by the delay, if the destination given is in the\n",
    "#     train object's destinations.\n",
    "from datetime import datetime, timedelta\n",
    "class Train:\n",
    "    def __init__(self, station, expected_time):\n",
    "        self.station = station\n",
    "        self.expected_time = expected_time\n",
    "        \n",
    "def manage_delays(train, destination, minutes):\n",
    "    if destination in train.station:\n",
    "        train.expected_time = (datetime.strptime(train.expected_time, '%H:%M') + timedelta(minutes=minutes)).strftime(\"%H:%M\")\n",
    "trains = [\n",
    "  Train([\"Townsville\", \"Suburbia\", \"Urbantska\"], \"13:04\"),\n",
    "  Train([\"Farmsdale\", \"Suburbia\", \"Lakeside Valley\"], \"13:20\"),\n",
    "  Train([\"Suburbia\", \"Townsville\", \"Lakeside Valley\"], \"13:22\")\n",
    "]\n",
    "\n",
    "for t in trains:\n",
    "    manage_delays(t, \"Lakeside Valley\", 60)\n",
    "\n",
    "print(trains[0].expected_time)\n",
    "print(trains[1].expected_time)\n",
    "print(trains[2].expected_time)"
   ]
  },
  {
   "cell_type": "code",
   "execution_count": 7,
   "id": "388389cf",
   "metadata": {},
   "outputs": [
    {
     "name": "stdout",
     "output_type": "stream",
     "text": [
      "True\n",
      "1\n"
     ]
    }
   ],
   "source": [
    "#Q4. Ted works as a computer programmer at Minecraft Inc. His boss has just given him an important \n",
    "#    assignment to update the code for the minecart tracks by the end of April. However, he has recently \n",
    "#    had to self-isolate due to Corvid-19 and has left the code for the tracks BACK AT WORK!! He has \n",
    "#    the shorthand for the tracks he's supposed to look at, and where the carts are suppost to end up, \n",
    "#    but not the actual code.\n",
    "\n",
    "#    He knows that:\n",
    "\n",
    "#   1. \"-->\" = \"Speed-Up Track\" ⁠— If a minecart interacts with this track, it's velocity increases by 2.67 BPS unless it's at its maximum speed of 8 BPS.\n",
    "#   2. \"<-->\" = \"Powered Track\" ⁠— If a minecart interacts with this track, it's velocity remains the same.\n",
    "#   3. \"<--\" = \"Slow-Down Track\" ⁠— If a minecart interacts with this track, it's velocity decreases by 2.67 BPS unless it's velocity equals 0, at which point it stops.\n",
    "#   4. \"---\" = \"Unpowered Track\" ⁠— If a minecart interacts with this track, it's velocity decreases by 1 BPS unless it's velocity equals 0, at which point it stops.\n",
    "\n",
    "#    Help Ted by writing a class for the tracks that interact with the provided Minecart class as shown above. \n",
    "#    And then write a function that will take a list of the shorthand tracks and:\n",
    "\n",
    "#   - If the Minecart reaches the last peice of Track, return True.\n",
    "#   - Else return the index of the Track where the Minecart stops.\n",
    "class Minecart:\n",
    "    def __init__(self, v=0):\n",
    "        self.v = v\n",
    "\n",
    "    def add_speed(self, speed):\n",
    "        self.v = max(0,min(self.v+speed,24))\n",
    "\n",
    "def mine_run(tracks):\n",
    "    cart = Minecart()\n",
    "    boost = {\"-->\":8, \"<-->\":0, \"<--\":-8, \"---\":-3}\n",
    "    for i in range(len(tracks)-1):\n",
    "        cart.add_speed(boost[tracks[i]])\n",
    "        if cart.v == 0: return i\n",
    "    return True\n",
    "\n",
    "print(mine_run([\"-->\", \"-->\", \"-->\", \"<--\", \"<--\", \"<--\"]))\n",
    "print(mine_run([\"-->\", \"<--\", \"-->\", \"-->\", \"<-->\", \"---\"]))"
   ]
  },
  {
   "cell_type": "code",
   "execution_count": 41,
   "id": "f1356828",
   "metadata": {},
   "outputs": [
    {
     "name": "stdout",
     "output_type": "stream",
     "text": [
      "True\n",
      "False\n",
      "False\n"
     ]
    }
   ],
   "source": [
    "#Q5. Make a Rectangle class with four parameters, an x, a y (representing the top-left corner of \n",
    "#    the rectangle), a width and a height exclusively in that order.\n",
    "\n",
    "#    Lastly, make a function intersecting that takes two Rectangle objects and returns True if those \n",
    "#    objects are intersecting (colliding), else return False.\n",
    "\n",
    "class Rectangle:\n",
    "    def __init__(self, x, y, width, height):\n",
    "        self.x = x # top left x coordinate\n",
    "        self.y = y # top left y coordinate\n",
    "        self.width = width\n",
    "        self.height = height\n",
    "\n",
    "def intersecting(a, b):\n",
    "        return all([a.x <= b.x + b.width, a.x + a.width >= b.x, a.y <= b.y + b.height, a.y + a.height >= b.y])\n",
    "\n",
    "print(intersecting(a, b))\n",
    "print(intersecting(a, c))\n",
    "print(intersecting(b, c))"
   ]
  }
 ],
 "metadata": {
  "kernelspec": {
   "display_name": "Python 3",
   "language": "python",
   "name": "python3"
  },
  "language_info": {
   "codemirror_mode": {
    "name": "ipython",
    "version": 3
   },
   "file_extension": ".py",
   "mimetype": "text/x-python",
   "name": "python",
   "nbconvert_exporter": "python",
   "pygments_lexer": "ipython3",
   "version": "3.8.10"
  }
 },
 "nbformat": 4,
 "nbformat_minor": 5
}
