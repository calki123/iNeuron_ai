{
 "cells": [
  {
   "cell_type": "markdown",
   "id": "c037748d",
   "metadata": {},
   "source": [
    "#Q1. Write four functions that directly mutate a list:\n",
    "\n",
    "    1. repeat(lst, n): Repeat lst n times.\n",
    "    2. add(lst, x): Adds x to the end of the lst.\n",
    "    3. remove(lst, m, n): Removes all elements between indices m and n inclusive in lst.\n",
    "    4. concat(lst, x): concatenates lst with x (another list)."
   ]
  },
  {
   "cell_type": "code",
   "execution_count": 15,
   "id": "4b553854",
   "metadata": {},
   "outputs": [
    {
     "name": "stdout",
     "output_type": "stream",
     "text": [
      "[1, 2, 3, 4, 1, 2, 3, 4, 1, 2, 3, 4]\n",
      "[1, 2, 3, 4, 1, 2, 3, 4, 1, 2, 3, 4, 1]\n",
      "[1]\n",
      "[1, 3, 4]\n"
     ]
    }
   ],
   "source": [
    "def repeat(lst, n):\n",
    "    return lst * n\n",
    "\n",
    "def add(lst, x):\n",
    "    lst.append(x)\n",
    "    return lst\n",
    "\n",
    "def remove(lst, m, n):\n",
    "    lst = lst[:m] + lst[n+1:]\n",
    "    return lst\n",
    "    \n",
    "def concat(lst, x):\n",
    "    return lst + x\n",
    "lst = [1, 2, 3, 4]\n",
    "lst = repeat(lst, 3)\n",
    "print(lst)\n",
    "lst = add(lst, 1)\n",
    "print(lst)\n",
    "lst = remove(lst, 1, 12)\n",
    "print(lst)\n",
    "lst = concat(lst, [3, 4])\n",
    "print(lst)"
   ]
  },
  {
   "cell_type": "markdown",
   "id": "0d9aa0a7",
   "metadata": {},
   "source": [
    "#Q2. The classic game of Mastermind is played on a tray on which the Mastermind conceals a code and the Guesser has 10 tries to guess it. The code is a sequence of 4 (or 6, sometimes more) pegs of different colors. Each guess is a corresponding sequence of 4 (or more) pegs of different colors. A guess is \"correct\" when the color of every peg in the guess exactly matches the corresponding peg in the Mastermind's code.\n",
    "\n",
    "After each guess by the Guesser, the Mastermind will give a score comprising black & white pegs, not arranged in any order:\n",
    "\n",
    "   - Black peg == guess peg matches the color of a code peg in the same position.\n",
    "   - White peg == guess peg matches the color of a code peg in another position.\n",
    "\n",
    "Create a function that takes two strings, code and guess as arguments, and returns the score in a dictionary.\n",
    "\n",
    "   - The code and guess are strings of numeric digits\n",
    "   - The color of the pegs are represented by numeric digits\n",
    "   - no \"peg\" may be double-scored"
   ]
  },
  {
   "cell_type": "code",
   "execution_count": 22,
   "id": "14216044",
   "metadata": {},
   "outputs": [
    {
     "data": {
      "text/plain": [
       "{'black': 0, 'white': 2}"
      ]
     },
     "execution_count": 22,
     "metadata": {},
     "output_type": "execute_result"
    }
   ],
   "source": [
    "def guess_score(a, b):\n",
    "    x = {\"black\": 0, \"white\": 0}\n",
    "    for i in (set(b)):\n",
    "        if i in a:\n",
    "            if a.find(i) > -1 and b[a.find(i)] == i:\n",
    "                x['black'] += 1\n",
    "            else:\n",
    "                x['white'] += 1\n",
    "    return x\n",
    "guess_score(\"1423\", \"2211\")"
   ]
  },
  {
   "cell_type": "markdown",
   "id": "98e4d5de",
   "metadata": {},
   "source": [
    "#Q3. Create a function that takes a list lst and a number N and returns a list of two integers from lst whose product equals N."
   ]
  },
  {
   "cell_type": "code",
   "execution_count": 35,
   "id": "c2724cda",
   "metadata": {},
   "outputs": [
    {
     "data": {
      "text/plain": [
       "[2, 5]"
      ]
     },
     "execution_count": 35,
     "metadata": {},
     "output_type": "execute_result"
    }
   ],
   "source": [
    "def two_product(l, n):\n",
    "    for i in l:\n",
    "        for j in l[l.index(i):]:\n",
    "            if i*j == n:\n",
    "                return [i, j]\n",
    "    return \"None\"\n",
    "two_product([1, 2, 3, 4, 5], 10) "
   ]
  },
  {
   "cell_type": "markdown",
   "id": "6fc86925",
   "metadata": {},
   "source": [
    "#Q4. In this challenge, sort a list containing a series of dates given as strings. Each date is given in the format DD-MM-YYYY_HH:MM:\n",
    "\n",
    "\"12-02-2012_13:44\"\n",
    "\n",
    "The priority of criteria used for sorting will be:\n",
    "\n",
    "  - Year\n",
    "  - Month\n",
    "  - Day\n",
    "  - Hours\n",
    "  - Minutes\n",
    "\n",
    "Given a list lst and a string mode, implement a function that returns:\n",
    "\n",
    "   - if mode is equal to \"ASC\", the list lst sorted in ascending order.\n",
    "   - if mode is equal to \"DSC\", the list lst sorted in descending order."
   ]
  },
  {
   "cell_type": "code",
   "execution_count": 50,
   "id": "bcbd499a",
   "metadata": {},
   "outputs": [
    {
     "data": {
      "text/plain": [
       "['01-01-1999_00:55', '09-02-2000_10:03', '10-02-2000_18:29']"
      ]
     },
     "execution_count": 50,
     "metadata": {},
     "output_type": "execute_result"
    }
   ],
   "source": [
    "import re\n",
    "def sort_date(d):\n",
    "    a = re.split(r'\\D+', d)\n",
    "    return (a[2],a[1],a[0],a[3],a[4])\n",
    "def sort_dates(l, o):\n",
    "    if o == \"ASC\":\n",
    "        return sorted(l, key=sort_date)\n",
    "    return sorted(l, key=sort_date, reverse=True)\n",
    "sort_dates([\"09-02-2000_10:03\", \"10-02-2000_18:29\", \"01-01-1999_00:55\"], \"ASC\") "
   ]
  },
  {
   "cell_type": "markdown",
   "id": "0d702024",
   "metadata": {},
   "source": [
    "#Q5. Write a function that selects all words that have all the same vowels (in any order and/or number) as the first word, including the first word."
   ]
  },
  {
   "cell_type": "code",
   "execution_count": 64,
   "id": "ecbf3fc3",
   "metadata": {},
   "outputs": [
    {
     "data": {
      "text/plain": [
       "['hoops', 'bot', 'bottom']"
      ]
     },
     "execution_count": 64,
     "metadata": {},
     "output_type": "execute_result"
    }
   ],
   "source": [
    "def same_vowel_group(l):\n",
    "    v = {\"a\", \"e\", \"i\", \"o\", \"u\"}\n",
    "    a = []\n",
    "    for i in l:\n",
    "        if v.intersection(l[0]) == v.intersection(i):\n",
    "            a.append(i)\n",
    "    return a\n",
    "same_vowel_group([\"hoops\", \"chuff\", \"bot\", \"bottom\"])"
   ]
  },
  {
   "cell_type": "markdown",
   "id": "b77448bb",
   "metadata": {},
   "source": [
    "#Q6. Create a function that takes a list of more than three numbers and returns the Least Common Multiple (LCM)."
   ]
  },
  {
   "cell_type": "code",
   "execution_count": 72,
   "id": "751fabf6",
   "metadata": {},
   "outputs": [
    {
     "data": {
      "text/plain": [
       "2333760"
      ]
     },
     "execution_count": 72,
     "metadata": {},
     "output_type": "execute_result"
    }
   ],
   "source": [
    "import math\n",
    "\n",
    "def lcm_of_list(lst):\n",
    "    lcm = 1\n",
    "    for i in lst:\n",
    "        lcm = lcm*i//math.gcd(lcm, i)\n",
    "    return lcm\n",
    "lcm_of_list([44, 64, 12, 17, 65])"
   ]
  },
  {
   "cell_type": "code",
   "execution_count": null,
   "id": "7a9db92e",
   "metadata": {},
   "outputs": [],
   "source": []
  }
 ],
 "metadata": {
  "kernelspec": {
   "display_name": "Python 3",
   "language": "python",
   "name": "python3"
  },
  "language_info": {
   "codemirror_mode": {
    "name": "ipython",
    "version": 3
   },
   "file_extension": ".py",
   "mimetype": "text/x-python",
   "name": "python",
   "nbconvert_exporter": "python",
   "pygments_lexer": "ipython3",
   "version": "3.8.10"
  }
 },
 "nbformat": 4,
 "nbformat_minor": 5
}
