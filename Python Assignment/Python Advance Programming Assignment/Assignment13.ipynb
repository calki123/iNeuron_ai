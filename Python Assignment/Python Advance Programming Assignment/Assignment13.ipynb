{
 "cells": [
  {
   "cell_type": "code",
   "execution_count": 10,
   "id": "727434f1",
   "metadata": {},
   "outputs": [
    {
     "data": {
      "text/plain": [
       "[]"
      ]
     },
     "execution_count": 10,
     "metadata": {},
     "output_type": "execute_result"
    }
   ],
   "source": [
    "#Q1. Create a function that takes a list and string. The function should remove the letters in the \n",
    "#    string from the list, and return the list.\n",
    "def remove_letters(l, s):\n",
    "    for i in s:\n",
    "        if i in l:\n",
    "            l.remove(i)\n",
    "    return l\n",
    "remove_letters([\"d\", \"b\", \"t\", \"e\", \"a\", \"i\"], \"edabit\")"
   ]
  },
  {
   "cell_type": "code",
   "execution_count": 18,
   "id": "2e9e9e4e",
   "metadata": {},
   "outputs": [
    {
     "data": {
      "text/plain": [
       "39"
      ]
     },
     "execution_count": 18,
     "metadata": {},
     "output_type": "execute_result"
    }
   ],
   "source": [
    "#Q2. A block sequence in three dimensions.\n",
    "#    Create a function that takes a number (step) as an argument and returns the amount of blocks in that step.\n",
    "def blocks(n):\n",
    "    a, b = 5, 7\n",
    "    if n == 1:\n",
    "        return a\n",
    "    for i in range(n-1):\n",
    "        a += b\n",
    "        b += 1\n",
    "    return a\n",
    "blocks(5)"
   ]
  },
  {
   "cell_type": "code",
   "execution_count": 43,
   "id": "39a89225",
   "metadata": {},
   "outputs": [
    {
     "data": {
      "text/plain": [
       "4"
      ]
     },
     "execution_count": 43,
     "metadata": {},
     "output_type": "execute_result"
    }
   ],
   "source": [
    "#Q3. Create a function that subtracts one positive integer from another, without using any arithmetic \n",
    "#    operators such as -, %, /, +, etc.\n",
    "def my_sub(x, y):\n",
    "    [x, y] = sorted([x,y], reverse=True)\n",
    "    while (y != 0):\n",
    "        borrow = (~x) & y\n",
    "        x = x ^ y\n",
    "        y = borrow << 1\n",
    "    return x\n",
    "my_sub(5, 9)"
   ]
  },
  {
   "cell_type": "code",
   "execution_count": 49,
   "id": "3411ab8e",
   "metadata": {},
   "outputs": [
    {
     "data": {
      "text/plain": [
       "170"
      ]
     },
     "execution_count": 49,
     "metadata": {},
     "output_type": "execute_result"
    }
   ],
   "source": [
    "#Q4. Create a function that takes a string containing money in dollars and pounds sterling (seperated by comma) \n",
    "#    and returns the sum of dollar bills only, as an integer.\n",
    "#    For the input string:\n",
    "#       - Each amount is prefixed by the currency symbol: $ for dollars and £ for pounds.\n",
    "#       - Thousands are represented by the suffix k.\n",
    "def add_bill(s):\n",
    "    s = s.split(',')\n",
    "    a = 0\n",
    "    for i in s:\n",
    "        if i.startswith('d'):\n",
    "            a += int(i[1:]) if not i.endswith('k') else int(i[1:-1])*1000\n",
    "    return a\n",
    "add_bill(\"p30,d20,p60,d150,p360\")"
   ]
  },
  {
   "cell_type": "code",
   "execution_count": 57,
   "id": "508d85ad",
   "metadata": {},
   "outputs": [
    {
     "data": {
      "text/plain": [
       "[]"
      ]
     },
     "execution_count": 57,
     "metadata": {},
     "output_type": "execute_result"
    }
   ],
   "source": [
    "#Q5. Create a function that flips a horizontal list into a vertical list, and a vertical list into a horizontal list.\n",
    "#    In other words, take an 1 x n list (1 row + n columns) and flip it into a n x 1 list (n rows and 1 column),\n",
    "#    and vice versa.\n",
    "def flip_list(l):\n",
    "    try:\n",
    "        if type(l[0]) == int:\n",
    "            return [[i] for i in l]\n",
    "        else:\n",
    "            return [i[0] for i in l]\n",
    "    except:\n",
    "        return []\n",
    "flip_list([])"
   ]
  },
  {
   "cell_type": "code",
   "execution_count": null,
   "id": "a70b0e1e",
   "metadata": {},
   "outputs": [],
   "source": []
  }
 ],
 "metadata": {
  "kernelspec": {
   "display_name": "Python 3",
   "language": "python",
   "name": "python3"
  },
  "language_info": {
   "codemirror_mode": {
    "name": "ipython",
    "version": 3
   },
   "file_extension": ".py",
   "mimetype": "text/x-python",
   "name": "python",
   "nbconvert_exporter": "python",
   "pygments_lexer": "ipython3",
   "version": "3.8.10"
  }
 },
 "nbformat": 4,
 "nbformat_minor": 5
}
