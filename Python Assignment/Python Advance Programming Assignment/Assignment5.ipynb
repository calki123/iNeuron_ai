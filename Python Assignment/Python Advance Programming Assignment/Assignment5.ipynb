{
 "cells": [
  {
   "cell_type": "code",
   "execution_count": 2,
   "id": "9c1a7545",
   "metadata": {},
   "outputs": [
    {
     "data": {
      "text/plain": [
       "8"
      ]
     },
     "execution_count": 2,
     "metadata": {},
     "output_type": "execute_result"
    }
   ],
   "source": [
    "#Q1. Create a function that takes a number n (integer greater than zero) as an argument, and returns 2 \n",
    "#    if n is odd and 8 if n is even.\n",
    "#    You are not allowed to use any other methods in this challenge \n",
    "#    (i.e. no if statements, comparison operators, etc).\n",
    "def f(num):\n",
    "    x=0\n",
    "    for i in range(num,0,-2):\n",
    "        x = i\n",
    "    a = {1:2, 2:8}\n",
    "    return a.get(x)\n",
    "f(2)"
   ]
  },
  {
   "cell_type": "code",
   "execution_count": 27,
   "id": "b26c08f4",
   "metadata": {},
   "outputs": [
    {
     "data": {
      "text/plain": [
       "'A'"
      ]
     },
     "execution_count": 27,
     "metadata": {},
     "output_type": "execute_result"
    }
   ],
   "source": [
    "#Q2. Create a function that returns the majority vote in a list. A majority vote is an element \n",
    "#    that occurs > N/2 times in a list (where N is the length of the list).\n",
    "from collections import Counter\n",
    "def majority_vote(l):\n",
    "    d = Counter(l)\n",
    "    max_t = sorted(d.items(), key=lambda l:l[1])\n",
    "    if len(l)/2 >= max_t[-1][1]:\n",
    "        return print(None)\n",
    "    \n",
    "    return max_t[-1][0]\n",
    "\n",
    "majority_vote([\"A\", \"B\", \"A\", \"A\", \"C\", \"A\"])"
   ]
  },
  {
   "cell_type": "code",
   "execution_count": 19,
   "id": "c6757833",
   "metadata": {},
   "outputs": [
    {
     "data": {
      "text/plain": [
       "'----- is - Wednesday!'"
      ]
     },
     "execution_count": 19,
     "metadata": {},
     "output_type": "execute_result"
    }
   ],
   "source": [
    "#Q3. Create a function that takes a string txt and censors any word from a given list lst. \n",
    "#    The text removed must be replaced by the given character char.\n",
    "import re\n",
    "def censor_string(s, l, c):\n",
    "    s = s.split()\n",
    "    for i in range(len(s)):\n",
    "        if s[i] in l:\n",
    "            s[i] = \"-\"*len(s[i])\n",
    "    return \" \".join(s)\n",
    "\n",
    "censor_string(\"Today is a Wednesday!\", [\"Today\", \"a\"], \"-\") "
   ]
  },
  {
   "cell_type": "code",
   "execution_count": 44,
   "id": "cbe3651c",
   "metadata": {},
   "outputs": [
    {
     "data": {
      "text/plain": [
       "True"
      ]
     },
     "execution_count": 44,
     "metadata": {},
     "output_type": "execute_result"
    }
   ],
   "source": [
    "#Q4. Create a function which takes an integer n and returns True if the given number is a Polydivisible \n",
    "#    Number and False otherwise.\n",
    "def is_polydivisible(num):\n",
    "    a = True\n",
    "    for i in range(1, len(str(num))+1):\n",
    "        if int(str(num)[:i]) / i != int(str(num)[:i]) // i:\n",
    "            a = False\n",
    "    return a\n",
    "is_polydivisible(1232)"
   ]
  },
  {
   "cell_type": "code",
   "execution_count": 55,
   "id": "5f72c4f0",
   "metadata": {},
   "outputs": [
    {
     "data": {
      "text/plain": [
       "87"
      ]
     },
     "execution_count": 55,
     "metadata": {},
     "output_type": "execute_result"
    }
   ],
   "source": [
    "#Q5. Create a function that takes a list of numbers and returns the sum of all prime numbers in the list.\n",
    "import math\n",
    "def is_prime(n):\n",
    "    if n < 2:\n",
    "        return False\n",
    "    elif n <= 3:\n",
    "        return True\n",
    "    elif n % 2 == 0:\n",
    "        return False\n",
    "    for i in range(3, math.floor(math.sqrt(n))+1, 2):\n",
    "        if n % i == 0:\n",
    "            return False\n",
    "    return True\n",
    "def sum_primes(num):\n",
    "    return sum(i for i in num if is_prime(i))\n",
    "sum_primes([2, 3, 4, 11, 20, 50, 71])"
   ]
  },
  {
   "cell_type": "code",
   "execution_count": null,
   "id": "727bf24d",
   "metadata": {},
   "outputs": [],
   "source": []
  }
 ],
 "metadata": {
  "kernelspec": {
   "display_name": "Python 3",
   "language": "python",
   "name": "python3"
  },
  "language_info": {
   "codemirror_mode": {
    "name": "ipython",
    "version": 3
   },
   "file_extension": ".py",
   "mimetype": "text/x-python",
   "name": "python",
   "nbconvert_exporter": "python",
   "pygments_lexer": "ipython3",
   "version": "3.8.10"
  }
 },
 "nbformat": 4,
 "nbformat_minor": 5
}
