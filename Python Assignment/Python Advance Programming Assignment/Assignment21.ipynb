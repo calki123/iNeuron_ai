{
 "cells": [
  {
   "cell_type": "code",
   "execution_count": 15,
   "id": "d3bf4f96",
   "metadata": {},
   "outputs": [
    {
     "data": {
      "text/plain": [
       "1"
      ]
     },
     "execution_count": 15,
     "metadata": {},
     "output_type": "execute_result"
    }
   ],
   "source": [
    "#Q1. Given a sentence, return the number of words which have the same first and last letter.\n",
    "import re\n",
    "def count_same_ends(s):\n",
    "    a = re.sub(\"[^a-zA-Z]\", ' ', s).split()\n",
    "    return len(list(filter(lambda l:l[0].lower() == l[-1].lower(), a)))\n",
    "count_same_ends(\"Pop! goes the balloon\")"
   ]
  },
  {
   "cell_type": "code",
   "execution_count": 38,
   "id": "a5a80432",
   "metadata": {},
   "outputs": [
    {
     "data": {
      "text/plain": [
       "'Svool dliow!'"
      ]
     },
     "execution_count": 38,
     "metadata": {},
     "output_type": "execute_result"
    }
   ],
   "source": [
    "#Q2. The Atbash cipher is an encryption method in which each letter of a word is replaced with its \"mirror\" \n",
    "#    letter in the alphabet: A <=> Z; B <=> Y; C <=> X; etc.\n",
    "\n",
    "#    Create a function that takes a string and applies the Atbash cipher to it.\n",
    "def atbash(s):\n",
    "    a = \"ABCDEFGHIJKLMNOPQRSTUVWXYZ\"\n",
    "    b = a.lower()\n",
    "    x = \"\"\n",
    "    for i in range(len(s)):\n",
    "        if s[i] in a:\n",
    "            x += a[-a.find(s[i])-1]\n",
    "        elif s[i] in b:\n",
    "            x += b[-b.find(s[i])-1]\n",
    "        else:\n",
    "            x += s[i]\n",
    "    return x\n",
    "atbash(\"Hello world!\")"
   ]
  },
  {
   "cell_type": "code",
   "execution_count": 45,
   "id": "fa254017",
   "metadata": {},
   "outputs": [
    {
     "name": "stdout",
     "output_type": "stream",
     "text": [
      "John\n",
      "Major\n",
      "178\n",
      "Italian\n"
     ]
    }
   ],
   "source": [
    "#Q3. Create a class Employee that will take a full name as argument, as well as a set of none, one \n",
    "#    or more keywords. Each instance should have a name and a lastname attributes plus one more attribute \n",
    "#    for each of the keywords, if any.\n",
    "class Employee:\n",
    "    def __init__(self, name, **kw):\n",
    "        self.name = name.split()[0]\n",
    "        self.lastname = name.split()[1]\n",
    "        for key, value in kw.items():\n",
    "            self.__setattr__(key, value)\n",
    "john = Employee(\"John Doe\")\n",
    "mary = Employee(\"Mary Major\", salary=120000)\n",
    "richard = Employee(\"Richard Roe\", salary=110000, height=178)\n",
    "giancarlo = Employee(\"Giancarlo Rossi\", salary=115000, height=182, nationality=\"Italian\")\n",
    "print(john.name)\n",
    "print(mary.lastname)\n",
    "print(richard.height)\n",
    "print(giancarlo.nationality)"
   ]
  },
  {
   "cell_type": "code",
   "execution_count": 16,
   "id": "a5b0d0c3",
   "metadata": {},
   "outputs": [
    {
     "data": {
      "text/plain": [
       "False"
      ]
     },
     "execution_count": 16,
     "metadata": {},
     "output_type": "execute_result"
    }
   ],
   "source": [
    "#Q4. Create a function that determines whether each seat can \"see\" the front-stage. A number can \"see\" the front-stage \n",
    "#    if it is strictly greater than the number before it.\n",
    "def can_see_stage(l):\n",
    "    l = list(zip(*l))\n",
    "    a = True\n",
    "    for i in range(len(l)):\n",
    "        for j in range(len(l[i])-1):\n",
    "            if l[i][j] >= l[i][j+1]:\n",
    "                a = False\n",
    "                break\n",
    "    return a\n",
    "can_see_stage([\n",
    "  [1, 0, 0],\n",
    "  [1, 1, 1],\n",
    "  [2, 2, 2]\n",
    "])"
   ]
  },
  {
   "cell_type": "code",
   "execution_count": 33,
   "id": "71960e17",
   "metadata": {},
   "outputs": [
    {
     "name": "stdout",
     "output_type": "stream",
     "text": [
      "['bacon', 'parmesan', 'ham']\n",
      "['spinach', 'olives', 'mushroom']\n",
      "1\n",
      "2\n"
     ]
    }
   ],
   "source": [
    "#Q5. Create a Pizza class with the attributes order_number and ingredients (which is given as a list). \n",
    "#    Only the ingredients will be given as input.\n",
    "class Pizza:\n",
    "    order_count = 0\n",
    "    def __init__(self, ingredients):\n",
    "        self.ingredients = ingredients\n",
    "        Pizza.order_count += 1\n",
    "        self.order_number = Pizza.order_count\n",
    "        \n",
    "    def hawaiian():\n",
    "        return Pizza(['ham', 'pineapple'])\n",
    "    \n",
    "    def meat_festival():\n",
    "        return Pizza(['beef', 'meatball', 'bacon'])\n",
    "    \n",
    "    def garden_feast():\n",
    "        return Pizza(['spinach', 'olives', 'mushroom'])\n",
    "\n",
    "p1 = Pizza([\"bacon\", \"parmesan\", \"ham\"])\n",
    "p2 = Pizza.garden_feast()\n",
    "\n",
    "print(p1.ingredients)\n",
    "print(p2.ingredients)\n",
    "print(p1.order_number)\n",
    "print(p2.order_number)"
   ]
  },
  {
   "cell_type": "code",
   "execution_count": null,
   "id": "766c332c",
   "metadata": {},
   "outputs": [],
   "source": []
  }
 ],
 "metadata": {
  "kernelspec": {
   "display_name": "Python 3",
   "language": "python",
   "name": "python3"
  },
  "language_info": {
   "codemirror_mode": {
    "name": "ipython",
    "version": 3
   },
   "file_extension": ".py",
   "mimetype": "text/x-python",
   "name": "python",
   "nbconvert_exporter": "python",
   "pygments_lexer": "ipython3",
   "version": "3.8.10"
  }
 },
 "nbformat": 4,
 "nbformat_minor": 5
}
