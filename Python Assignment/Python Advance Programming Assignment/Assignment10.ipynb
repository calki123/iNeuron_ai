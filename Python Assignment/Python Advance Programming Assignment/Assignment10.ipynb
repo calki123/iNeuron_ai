{
 "cells": [
  {
   "cell_type": "code",
   "execution_count": 15,
   "id": "221c75ff",
   "metadata": {},
   "outputs": [
    {
     "name": "stdout",
     "output_type": "stream",
     "text": [
      "[['**********'], ['*        *'], ['**********']]\n"
     ]
    }
   ],
   "source": [
    "#Q1. Create a function that takes the width, height and character and returns a picture frame as a 2D list.\n",
    "def get_frame(w, h, c):\n",
    "    if w <= 2:\n",
    "        return \"invalid\"\n",
    "    a = [[0] for i in range(h)]\n",
    "    for i in range(h):\n",
    "        a[i][0] = c*w if i in [0, h-1] else (c + \" \"*(w-2) + c)\n",
    "    return print(a)\n",
    "get_frame(10, 3, \"*\")"
   ]
  },
  {
   "cell_type": "code",
   "execution_count": 16,
   "id": "d811d91f",
   "metadata": {},
   "outputs": [
    {
     "name": "stdout",
     "output_type": "stream",
     "text": [
      "False\n",
      "True\n",
      "False\n"
     ]
    }
   ],
   "source": [
    "#Q2. Write three functions:\n",
    "#    1. boolean_and\n",
    "#    2. boolean_or\n",
    "#    3. boolean_xor\n",
    "#    These functions should evaluate a list of True and False values, starting from the \n",
    "#    leftmost element and evaluating pairwise.\n",
    "def boolean_and(l):\n",
    "    return all(l)\n",
    "def boolean_or(l):\n",
    "    return any(l)\n",
    "def boolean_xor(l):\n",
    "    return True if sum(l) % 2 != 0 else False\n",
    "print(boolean_and([True, True, False, True]))\n",
    "print(boolean_or([True, True, False, False]))\n",
    "print(boolean_xor([True, True, False, False]))"
   ]
  },
  {
   "cell_type": "code",
   "execution_count": 37,
   "id": "003fc842",
   "metadata": {},
   "outputs": [
    {
     "data": {
      "text/plain": [
       "['#####', '#   #', '#   #', '#   #', '#####']"
      ]
     },
     "execution_count": 37,
     "metadata": {},
     "output_type": "execute_result"
    }
   ],
   "source": [
    "#Q3. Create a function that creates a box based on dimension n.\n",
    "def make_box(n): \n",
    "    a = []\n",
    "    for i in range(n):\n",
    "        a.append('#'*n if i in [0, n-1] else ('#' + \" \"*(n-2) + '#'))\n",
    "    return a\n",
    "make_box(5)"
   ]
  },
  {
   "cell_type": "code",
   "execution_count": 42,
   "id": "dc93136a",
   "metadata": {},
   "outputs": [
    {
     "data": {
      "text/plain": [
       "True"
      ]
     },
     "execution_count": 42,
     "metadata": {},
     "output_type": "execute_result"
    }
   ],
   "source": [
    "#Q4. Given a common phrase, return False if any individual word in the phrase contains duplicate letters. \n",
    "#    Return True otherwise.\n",
    "def no_duplicate_letters(s):\n",
    "    a = True\n",
    "    for i in s.split():\n",
    "        if len(i) != len(set(i)):\n",
    "            a = False\n",
    "    return a\n",
    "no_duplicate_letters(\"You can lead a horse to water, but you can't make him drink.\")"
   ]
  },
  {
   "cell_type": "code",
   "execution_count": 47,
   "id": "50a921cd",
   "metadata": {},
   "outputs": [
    {
     "data": {
      "text/plain": [
       "['California', 'Florida']"
      ]
     },
     "execution_count": 47,
     "metadata": {},
     "output_type": "execute_result"
    }
   ],
   "source": [
    "#Q5. Write a regular expression that will match the states that voted yes to President Trump's impeachment. \n",
    "#    You must use RegEx positive lookahead.\n",
    "import re\n",
    "txt = \"Texas = no, California = yes, Florida = yes, Michigan = no\"\n",
    "pattern = \"\\w+(?= = yes)\"\n",
    "re.findall(pattern, txt)"
   ]
  },
  {
   "cell_type": "code",
   "execution_count": null,
   "id": "df432067",
   "metadata": {},
   "outputs": [],
   "source": []
  }
 ],
 "metadata": {
  "kernelspec": {
   "display_name": "Python 3",
   "language": "python",
   "name": "python3"
  },
  "language_info": {
   "codemirror_mode": {
    "name": "ipython",
    "version": 3
   },
   "file_extension": ".py",
   "mimetype": "text/x-python",
   "name": "python",
   "nbconvert_exporter": "python",
   "pygments_lexer": "ipython3",
   "version": "3.8.10"
  }
 },
 "nbformat": 4,
 "nbformat_minor": 5
}
