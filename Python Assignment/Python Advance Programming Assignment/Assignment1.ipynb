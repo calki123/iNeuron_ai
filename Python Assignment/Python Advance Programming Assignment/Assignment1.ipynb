{
 "cells": [
  {
   "cell_type": "code",
   "execution_count": 4,
   "id": "64b479cc",
   "metadata": {},
   "outputs": [
    {
     "data": {
      "text/plain": [
       "0"
      ]
     },
     "execution_count": 4,
     "metadata": {},
     "output_type": "execute_result"
    }
   ],
   "source": [
    "#Q1. Write a function that takes a list of lists and returns the value of all of the symbols in it,\n",
    "#    where each symbol adds or takes something from the total score. Symbol values:\n",
    "#\n",
    "#    # = 5\n",
    "#    O = 3\n",
    "#    X = 1\n",
    "#    ! = -1\n",
    "#    !! = -3\n",
    "#    !!! = -5\n",
    "d1 = {\"#\":5, \"O\":3, \"X\":1, \"!\":-1, \"!!\":-3, \"!!!\":-5}\n",
    "def check_score(l):\n",
    "    sum = 0\n",
    "    for i in l:\n",
    "        for k in i:\n",
    "            sum += d1.get(k)\n",
    "    return sum if sum > 0 else 0\n",
    "            \n",
    "check_score([\n",
    "  [\"!!!\", \"O\", \"!\"],\n",
    "  [\"X\", \"#\", \"!!!\"],\n",
    "  [\"!!\", \"X\", \"O\"]\n",
    "])"
   ]
  },
  {
   "cell_type": "code",
   "execution_count": 5,
   "id": "df24ff8a",
   "metadata": {},
   "outputs": [
    {
     "data": {
      "text/plain": [
       "120"
      ]
     },
     "execution_count": 5,
     "metadata": {},
     "output_type": "execute_result"
    }
   ],
   "source": [
    "#Q2. Create a function that takes a variable number of arguments, each argument representing the \n",
    "#    number of items in a group, and returns the number of permutations (combinations) of items \n",
    "#    that you could get by taking one item from each group.\n",
    "def combinations(*args):\n",
    "    multi = 1\n",
    "    for i in args:\n",
    "        multi *= i\n",
    "    return multi\n",
    "\n",
    "combinations(2, 3, 4, 5)"
   ]
  },
  {
   "cell_type": "code",
   "execution_count": 7,
   "id": "6ef8cdf7",
   "metadata": {},
   "outputs": [
    {
     "data": {
      "text/plain": [
       "'......-...--. --. -.-.--'"
      ]
     },
     "execution_count": 7,
     "metadata": {},
     "output_type": "execute_result"
    }
   ],
   "source": [
    "#Q3. Create a function that takes a string as an argument and returns the Morse code equivalent.\n",
    "def encode_morse(str2):\n",
    "    char_to_dots = {\n",
    "      'A': '.-', 'B': '-...', 'C': '-.-.', 'D': '-..', 'E': '.', 'F': '..-.',\n",
    "      'G': '--.', 'H': '....', 'I': '..', 'J': '.---', 'K': '-.-', 'L': '.-..',\n",
    "      'M': '--', 'N': '-.', 'O': '---', 'P': '.--.', 'Q': '--.-', 'R': '.-.',\n",
    "      'S': '...', 'T': '-', 'U': '..-', 'V': '...-', 'W': '.--', 'X': '-..-',\n",
    "      'Y': '-.--', 'Z': '--..', ' ': ' ', '0': '-----',\n",
    "      '1': '.----', '2': '..---', '3': '...--', '4': '....-', '5': '.....',\n",
    "      '6': '-....', '7': '--...', '8': '---..', '9': '----.',\n",
    "      '&': '.-...', \"'\": '.----.', '@': '.--.-.', ')': '-.--.-', '(': '-.--.',\n",
    "      ':': '---...', ',': '--..--', '=': '-...-', '!': '-.-.--', '.': '.-.-.-',\n",
    "      '-': '-....-', '+': '.-.-.', '\"': '.-..-.', '?': '..--..', '/': '-..-.'\n",
    "    }\n",
    "    s2 = \"\"\n",
    "    for i in str2:\n",
    "        s2 += char_to_dots.get(i)\n",
    "    return s2\n",
    "    \n",
    "encode_morse(\"HELP ME !\")"
   ]
  },
  {
   "cell_type": "code",
   "execution_count": 14,
   "id": "b671f7c8",
   "metadata": {},
   "outputs": [
    {
     "data": {
      "text/plain": [
       "False"
      ]
     },
     "execution_count": 14,
     "metadata": {},
     "output_type": "execute_result"
    }
   ],
   "source": [
    "#Q4. Write a function that takes a number and returns True if it's a prime; False otherwise. \n",
    "#    The number can be 2^64-1 (2 to the power of 63, not XOR). With the standard technique it\n",
    "#    would be O(2^64-1), which is much too large for the 10 second time limit.\n",
    "import math\n",
    "def prime(num):\n",
    "    if num <= 1:\n",
    "        return False\n",
    "    if num == 2:\n",
    "        return True\n",
    "    if num > 2 and num % 2 == 0:\n",
    "        return False\n",
    "    for i in range(3, 1+math.floor(math.sqrt(num)), 2):\n",
    "        if num % i == 0:\n",
    "            return False\n",
    "    return True\n",
    "prime(5151512515524)"
   ]
  },
  {
   "cell_type": "code",
   "execution_count": 23,
   "id": "17ad7f79",
   "metadata": {},
   "outputs": [
    {
     "data": {
      "text/plain": [
       "[False, True, False, True, True]"
      ]
     },
     "execution_count": 23,
     "metadata": {},
     "output_type": "execute_result"
    }
   ],
   "source": [
    "#Q5. Create a function that converts a word to a bitstring and then to a boolean list based on the following criteria:\n",
    "#    1. Locate the position of the letter in the English alphabet (from 1 to 26).\n",
    "#    2. Odd positions will be represented as 1 and 0 otherwise.\n",
    "#    3. Convert the represented positions to boolean values, 1 for True and 0 for False.\n",
    "#    4. Store the conversions into an array.\n",
    "a = ['a','b','c','d','e','f','g','h','i','j','k','l','m','n','o','p','q','r','s','t','u','v','w','x','y','z']\n",
    "def to_boolean_list(s):\n",
    "    l = []\n",
    "    for i in s:\n",
    "        if (a.index(i) + 1) % 2 == 0:\n",
    "            l.append(False)\n",
    "        else:\n",
    "            l.append(True)\n",
    "    return l\n",
    "to_boolean_list(\"loves\")"
   ]
  },
  {
   "cell_type": "code",
   "execution_count": null,
   "id": "a871a23a",
   "metadata": {},
   "outputs": [],
   "source": []
  }
 ],
 "metadata": {
  "kernelspec": {
   "display_name": "Python 3",
   "language": "python",
   "name": "python3"
  },
  "language_info": {
   "codemirror_mode": {
    "name": "ipython",
    "version": 3
   },
   "file_extension": ".py",
   "mimetype": "text/x-python",
   "name": "python",
   "nbconvert_exporter": "python",
   "pygments_lexer": "ipython3",
   "version": "3.8.10"
  }
 },
 "nbformat": 4,
 "nbformat_minor": 5
}
