{
 "cells": [
  {
   "cell_type": "code",
   "execution_count": 3,
   "id": "ec9011ef",
   "metadata": {},
   "outputs": [
    {
     "data": {
      "text/plain": [
       "[10007, 1009]"
      ]
     },
     "execution_count": 3,
     "metadata": {},
     "output_type": "execute_result"
    }
   ],
   "source": [
    "#Q1. Create a function that takes a list and returns a new list containing only prime numbers.\n",
    "from math import sqrt\n",
    "def check_prime(n):\n",
    "    prime_flag = 0\n",
    "    if(n > 1):\n",
    "        for i in range(2, int(sqrt(n)) + 1):\n",
    "            if (n % i == 0):\n",
    "                prime_flag = 1\n",
    "                break\n",
    "        if (prime_flag == 0):\n",
    "            return True\n",
    "        else:\n",
    "            return False\n",
    "    else:\n",
    "        return False\n",
    "        \n",
    "def filter_primes(l):\n",
    "    return list(filter(lambda a: check_prime(a), l))\n",
    "filter_primes([10007, 1009, 1007, 27, 147, 77, 1001, 70])"
   ]
  },
  {
   "cell_type": "code",
   "execution_count": 12,
   "id": "48890fa8",
   "metadata": {},
   "outputs": [
    {
     "data": {
      "text/plain": [
       "[0, 1, 2, 1, 0]"
      ]
     },
     "execution_count": 12,
     "metadata": {},
     "output_type": "execute_result"
    }
   ],
   "source": [
    "#Q2. Once a water balloon pops, is soaks the area around it. The ground gets drier the further away \n",
    "#    you travel from the balloon.\n",
    "#    The effect of a water balloon popping can be modeled using a list. Create a function that takes \n",
    "#    a list which takes the pre-pop state and returns the state after the balloon is popped. \n",
    "#    The pre-pop state will contain at most a single balloon, whose size is represented by the \n",
    "#    only non-zero element.\n",
    "def pop(l):\n",
    "    a = -1\n",
    "    for i in range(len(l)):\n",
    "        if i < len(l)/2:\n",
    "            a += 1\n",
    "            l[i] = a\n",
    "        else:\n",
    "            a -= 1\n",
    "            l[i] = a\n",
    "    return l\n",
    "pop([0, 0, 2, 0, 0])"
   ]
  },
  {
   "cell_type": "code",
   "execution_count": 29,
   "id": "0b0439ef",
   "metadata": {},
   "outputs": [
    {
     "data": {
      "text/plain": [
       "'Loves me, Loves me not, LOVES ME'"
      ]
     },
     "execution_count": 29,
     "metadata": {},
     "output_type": "execute_result"
    }
   ],
   "source": [
    "#Q3. \"Loves me, loves me not\" is a traditional game in which a person plucks off all the petals of a \n",
    "#    flower one by one, saying the phrase \"Loves me\" and \"Loves me not\" when determining whether \n",
    "#    the one that they love, loves them back.\n",
    "#    Given a number of petals, return a string which repeats the phrases \"Loves me\" and \"Loves me not\" \n",
    "#    for every alternating petal, and return the last phrase in all caps. Remember to put a comma \n",
    "#    and space between phrases.\n",
    "def loves_me(n):\n",
    "    lst =[]\n",
    "    for i in range(1,n+1):\n",
    "        if i % 2 == 0:\n",
    "            lst.append(\"Loves me not\")\n",
    "        else:\n",
    "            lst.append(\"Loves me\")\n",
    "\n",
    "    lst[-1] = lst[-1].upper()\n",
    "    return \", \".join(lst)\n",
    "loves_me(3)"
   ]
  },
  {
   "cell_type": "code",
   "execution_count": 25,
   "id": "ba1352d1",
   "metadata": {},
   "outputs": [
    {
     "data": {
      "text/plain": [
       "['304q2', '5y5', '572z']"
      ]
     },
     "execution_count": 25,
     "metadata": {},
     "output_type": "execute_result"
    }
   ],
   "source": [
    "#Q4. Write a function that sorts each string in a list by the letter in alphabetic ascending order (a-z).\n",
    "import re\n",
    "def sort_by_letter(l):\n",
    "    return sorted(l, key=lambda l: re.findall(\"[a-zA-Z]+\", l))\n",
    "sort_by_letter([\"572z\", \"5y5\", \"304q2\"])"
   ]
  },
  {
   "cell_type": "code",
   "execution_count": 27,
   "id": "ba344fd7",
   "metadata": {},
   "outputs": [
    {
     "data": {
      "text/plain": [
       "'C'"
      ]
     },
     "execution_count": 27,
     "metadata": {},
     "output_type": "execute_result"
    }
   ],
   "source": [
    "#Q5. There are three cups on a table, at positions A, B, and C. At the start, there is a ball hidden \n",
    "#    under the cup at position B.\n",
    "#    However, I perform several swaps on the cups, which is notated as two letters. For example, if I \n",
    "#    swap the cups at positions A and B, I could notate this as AB or BA.\n",
    "#    Create a function that returns the letter position that the ball is at, once I finish swapping the cups. \n",
    "#    The swaps will be given to you as a list.\n",
    "def cup_swapping(l):\n",
    "    a = 'B'\n",
    "    for i in l:\n",
    "        if a in i:\n",
    "            a = i[1] if i.find(a) == 0 else i[0]\n",
    "    return a\n",
    "cup_swapping([\"AB\", \"CA\", \"AB\"])"
   ]
  },
  {
   "cell_type": "code",
   "execution_count": null,
   "id": "83c5ae6a",
   "metadata": {},
   "outputs": [],
   "source": []
  }
 ],
 "metadata": {
  "kernelspec": {
   "display_name": "Python 3",
   "language": "python",
   "name": "python3"
  },
  "language_info": {
   "codemirror_mode": {
    "name": "ipython",
    "version": 3
   },
   "file_extension": ".py",
   "mimetype": "text/x-python",
   "name": "python",
   "nbconvert_exporter": "python",
   "pygments_lexer": "ipython3",
   "version": "3.8.10"
  }
 },
 "nbformat": 4,
 "nbformat_minor": 5
}
