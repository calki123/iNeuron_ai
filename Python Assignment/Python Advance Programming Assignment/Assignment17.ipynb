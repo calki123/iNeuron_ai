{
 "cells": [
  {
   "cell_type": "code",
   "execution_count": 2,
   "id": "430180f4",
   "metadata": {},
   "outputs": [
    {
     "data": {
      "text/plain": [
       "[[1, 2, 3], [1, 2, 3], [1, 2, 3]]"
      ]
     },
     "execution_count": 2,
     "metadata": {},
     "output_type": "execute_result"
    }
   ],
   "source": [
    "#Q1. Create a function that transposes a 2D matrix.\n",
    "def transpose_matrix(l):\n",
    "    return [[j[i] for j in l] for i in range(len(l[0]))]\n",
    "transpose_matrix([\n",
    "  [1, 1, 1],\n",
    "  [2, 2, 2],\n",
    "  [3, 3, 3]\n",
    "])"
   ]
  },
  {
   "cell_type": "code",
   "execution_count": 11,
   "id": "f307bef2",
   "metadata": {},
   "outputs": [
    {
     "data": {
      "text/plain": [
       "False"
      ]
     },
     "execution_count": 11,
     "metadata": {},
     "output_type": "execute_result"
    }
   ],
   "source": [
    "#Q2. Create a function that determines whether a string is a valid hex code.\n",
    "#    A hex code must begin with a pound key # and is exactly 6 characters in length. Each character must \n",
    "#    be a digit from 0-9 or an alphabetic character from A-F. All alphabetic characters may be uppercase \n",
    "#    or lowercase.\n",
    "def is_valid_hex_code(s):\n",
    "    if s[0] != \"#\" or len(s) != 7 or any(i not in '123456789abcdef#' for i in s.lower()):\n",
    "        return False\n",
    "    return True\n",
    "is_valid_hex_code(\"CD5C5C\") "
   ]
  },
  {
   "cell_type": "code",
   "execution_count": 28,
   "id": "1278e482",
   "metadata": {},
   "outputs": [
    {
     "data": {
      "text/plain": [
       "'67%'"
      ]
     },
     "execution_count": 28,
     "metadata": {},
     "output_type": "execute_result"
    }
   ],
   "source": [
    "#Q3. Given a list of math equations (given as strings), return the percentage of correct answers as a string. \n",
    "#    Round to the nearest whole number.\n",
    "def mark_maths(l):\n",
    "    s = 0\n",
    "    for i in l:\n",
    "        a = i.split(\"=\")\n",
    "        if eval(a[0]) == int(a[-1]):\n",
    "            s += 1\n",
    "    return str(round((s/len(l))*100)) + \"%\"\n",
    "    \n",
    "mark_maths([\"2+3=5\", \"4+4=9\", \"3-1=2\"]) "
   ]
  },
  {
   "cell_type": "code",
   "execution_count": 46,
   "id": "22066c8a",
   "metadata": {},
   "outputs": [
    {
     "data": {
      "text/plain": [
       "True"
      ]
     },
     "execution_count": 46,
     "metadata": {},
     "output_type": "execute_result"
    }
   ],
   "source": [
    "#Q4. There are two players, Alice and Bob, each with a 3-by-3 grid. A referee tells Alice to fill out \n",
    "#    one particular row in the grid (say the second row) by putting either a 1 or a 0 in each box, \n",
    "#    such that the sum of the numbers in that row is odd. The referee tells Bob to fill out one column \n",
    "#    in the grid (say the first column) by putting either a 1 or a 0 in each box, such that the sum of \n",
    "#    the numbers in that column is even.\n",
    "\n",
    "#    Alice and Bob win the game if Alice’s numbers give an odd sum, Bob’s give an even sum, and (most important) \n",
    "#    they’ve each written down the same number in the one square where their row and column intersect.\n",
    "def magic_square_game(alice,bob):\n",
    "    return alice[1][bob[0]-1]==bob[1][alice[0]-1]\n",
    "\n",
    "magic_square_game([3, \"111\"], [2, \"011\"])"
   ]
  },
  {
   "cell_type": "code",
   "execution_count": 30,
   "id": "df391c76",
   "metadata": {},
   "outputs": [
    {
     "data": {
      "text/plain": [
       "'1h 52min 0s'"
      ]
     },
     "execution_count": 30,
     "metadata": {},
     "output_type": "execute_result"
    }
   ],
   "source": [
    "#Q5. From point A, an object is moving towards point B at constant velocity va (in km/hr). From point B, \n",
    "#    another object is moving towards point A at constant velocity vb (in km/hr). Knowing this and the \n",
    "#    distance between point A and B (in km), write a function that returns how much time passes until\n",
    "#    both objects meet.\n",
    "def lets_meet(a, b, c):\n",
    "    time= a/(b+c) * 3600\n",
    "    h=time//3600\n",
    "    m=time%3600//60\n",
    "    s=time%3600%60\n",
    "    return \"{}h {}min {}s\".format(int(h),int(m),int(s))\n",
    "lets_meet(280, 70, 80)"
   ]
  },
  {
   "cell_type": "code",
   "execution_count": null,
   "id": "e679ea95",
   "metadata": {},
   "outputs": [],
   "source": []
  }
 ],
 "metadata": {
  "kernelspec": {
   "display_name": "Python 3",
   "language": "python",
   "name": "python3"
  },
  "language_info": {
   "codemirror_mode": {
    "name": "ipython",
    "version": 3
   },
   "file_extension": ".py",
   "mimetype": "text/x-python",
   "name": "python",
   "nbconvert_exporter": "python",
   "pygments_lexer": "ipython3",
   "version": "3.8.10"
  }
 },
 "nbformat": 4,
 "nbformat_minor": 5
}
