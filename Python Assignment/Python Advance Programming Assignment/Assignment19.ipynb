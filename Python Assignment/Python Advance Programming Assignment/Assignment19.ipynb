{
 "cells": [
  {
   "cell_type": "code",
   "execution_count": 9,
   "id": "950ca860",
   "metadata": {},
   "outputs": [
    {
     "data": {
      "text/plain": [
       "[['A', 'B', 'A'], ['B', 'A', 'B'], ['A', 'B', 'A']]"
      ]
     },
     "execution_count": 9,
     "metadata": {},
     "output_type": "execute_result"
    }
   ],
   "source": [
    "#Q1. Create a checker board generator, which takes as inputs n and 2 elements to generate an n x n \n",
    "#    checkerboard with those two elements as alternating squares.\n",
    "def checker_board(n, s1, s2):\n",
    "    if s1==s2:\n",
    "        return \"invalid\"\n",
    "    return [[s1 if (j+i) % 2 == 0 else s2 for j in range(n)] for i in range(n)]\n",
    "checker_board(3, \"A\", \"B\")"
   ]
  },
  {
   "cell_type": "code",
   "execution_count": 18,
   "id": "cebc11eb",
   "metadata": {},
   "outputs": [
    {
     "data": {
      "text/plain": [
       "False"
      ]
     },
     "execution_count": 18,
     "metadata": {},
     "output_type": "execute_result"
    }
   ],
   "source": [
    "#Q2. A string is an almost-palindrome if, by changing only one character, you can make it a palindrome. \n",
    "#    Create a function that returns True if a string is an almost-palindrome and False otherwise.\n",
    "def almost_palindrome(s):\n",
    "    a = 1\n",
    "    for i in range(int(len(s)/2)+1):\n",
    "        if s[i] != s[len(s)-i-1]:\n",
    "            a -= 1\n",
    "    return True if a == 0 else False\n",
    "almost_palindrome(\"1234312\")"
   ]
  },
  {
   "cell_type": "code",
   "execution_count": 21,
   "id": "eced44d8",
   "metadata": {},
   "outputs": [
    {
     "name": "stdout",
     "output_type": "stream",
     "text": [
      "2\n",
      "3\n",
      "5\n",
      "7\n",
      "11\n",
      "13\n",
      "17\n",
      "19\n",
      "23\n",
      "29\n"
     ]
    }
   ],
   "source": [
    "#Q3. Create a function that finds how many prime numbers there are, up to the given integer.\n",
    "def prime(n):\n",
    "    if n > 1:\n",
    "        for i in range(2,int(n/2)+1):\n",
    "            if (n % i == 0):\n",
    "                break\n",
    "        else:\n",
    "            return True\n",
    "    else:\n",
    "        return False\n",
    "def prime_numbers(n):\n",
    "    for i in range(n+1):\n",
    "        if prime(i):\n",
    "            print(i)\n",
    "prime_numbers(30)"
   ]
  },
  {
   "cell_type": "code",
   "execution_count": 30,
   "id": "9d259075",
   "metadata": {},
   "outputs": [
    {
     "data": {
      "text/plain": [
       "['Monday', 'Monday', 'Monday']"
      ]
     },
     "execution_count": 30,
     "metadata": {},
     "output_type": "execute_result"
    }
   ],
   "source": [
    "#Q4. If today was Monday, in two days, it would be Wednesday.\n",
    "\n",
    "#   Create a function that takes in a list of days as input and the number of days to increment by. \n",
    "#   Return a list of days after n number of days has passed.\n",
    "def after_n_days(l, n):\n",
    "    a = [\"Sunday\",\"Monday\",\"Tuesday\",\"Wednesday\",\"Thursday\",\"Friday\",\"Saturday\"]\n",
    "    b = []\n",
    "    for i in l:\n",
    "        x1 = a.index(i)+n\n",
    "        b.append(a[x1])\n",
    "    return b\n",
    "after_n_days([\"Sunday\", \"Sunday\", \"Sunday\"], 1) "
   ]
  },
  {
   "cell_type": "code",
   "execution_count": 36,
   "id": "ecf4d72d",
   "metadata": {},
   "outputs": [
    {
     "data": {
      "text/plain": [
       "False"
      ]
     },
     "execution_count": 36,
     "metadata": {},
     "output_type": "execute_result"
    }
   ],
   "source": [
    "#Q5. You are in the process of creating a chat application and want to add an anonymous name feature. \n",
    "#    This anonymous name feature will create an alias that consists of two capitalized words beginning \n",
    "#    with the same letter as the users first name.\n",
    "\n",
    "#    Create a function that determines if the list of users is mapped to a list of anonymous names correctly.\n",
    "def is_correct_aliases(l1, l2):\n",
    "    return all(l1[i][0] == l2[i].split()[0][0] == l2[i].split()[1][0] for i in range(len(l1)))\n",
    "is_correct_aliases([\"Beth T.\"], [\"Brandishing Mimosa\"]) "
   ]
  },
  {
   "cell_type": "code",
   "execution_count": null,
   "id": "447cbd5f",
   "metadata": {},
   "outputs": [],
   "source": []
  }
 ],
 "metadata": {
  "kernelspec": {
   "display_name": "Python 3",
   "language": "python",
   "name": "python3"
  },
  "language_info": {
   "codemirror_mode": {
    "name": "ipython",
    "version": 3
   },
   "file_extension": ".py",
   "mimetype": "text/x-python",
   "name": "python",
   "nbconvert_exporter": "python",
   "pygments_lexer": "ipython3",
   "version": "3.8.10"
  }
 },
 "nbformat": 4,
 "nbformat_minor": 5
}
