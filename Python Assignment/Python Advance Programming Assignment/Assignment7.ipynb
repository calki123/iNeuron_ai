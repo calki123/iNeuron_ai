{
 "cells": [
  {
   "cell_type": "code",
   "execution_count": 2,
   "id": "a1c70195",
   "metadata": {},
   "outputs": [
    {
     "data": {
      "text/plain": [
       "5"
      ]
     },
     "execution_count": 2,
     "metadata": {},
     "output_type": "execute_result"
    }
   ],
   "source": [
    "#Q1. Write a function that counts how many concentric layers a rug.\n",
    "def count_layers(l):\n",
    "    return int(len(l)/2) + 1\n",
    "count_layers([\n",
    "  \"AAAAAAAAAAA\",\n",
    "  \"AABBBBBBBAA\",\n",
    "  \"AABCCCCCBAA\",\n",
    "  \"AABCAAACBAA\",\n",
    "  \"AABCADACBAA\",\n",
    "  \"AABCAAACBAA\",\n",
    "  \"AABCCCCCBAA\",\n",
    "  \"AABBBBBBBAA\",\n",
    "  \"AAAAAAAAAAA\"\n",
    "])"
   ]
  },
  {
   "cell_type": "code",
   "execution_count": 10,
   "id": "da03f3c0",
   "metadata": {},
   "outputs": [
    {
     "data": {
      "text/plain": [
       "9"
      ]
     },
     "execution_count": 10,
     "metadata": {},
     "output_type": "execute_result"
    }
   ],
   "source": [
    "#Q2. There are many different styles of music and many albums exhibit multiple styles. Create a function that takes a list of musical styles \n",
    "#    from albums and returns how many styles are unique.\n",
    "def unique_styles(l):\n",
    "    s = ','.join(l).split(',')\n",
    "    return len(set(s))\n",
    "unique_styles([\n",
    "  \"Dub,Dancehall\",\n",
    "  \"Industrial,Heavy Metal\",\n",
    "  \"Techno,Dubstep\",\n",
    "  \"Synth-pop,Euro-Disco\",\n",
    "  \"Industrial,Techno,Minimal\"\n",
    "])"
   ]
  },
  {
   "cell_type": "code",
   "execution_count": 14,
   "id": "1c548cf2",
   "metadata": {},
   "outputs": [
    {
     "data": {
      "text/plain": [
       "'no'"
      ]
     },
     "execution_count": 14,
     "metadata": {},
     "output_type": "execute_result"
    }
   ],
   "source": [
    "#Q3. Create a function that finds a target number in a list of prime numbers. Implement a binary \n",
    "#    search algorithm in your function. The target number will be from 2 through 97. If the target \n",
    "#    is prime then return \"yes\" else return \"no\".\n",
    "primes = [2, 3, 5, 7, 11, 13, 17, 19, 23, 29, 31, 37, 41, 43, 47, 53, 59, 61, 67, 71, 73, 79, 83, 89, 97]\n",
    "def binary_search(a1,list1, lower, upper):\n",
    "    try:\n",
    "        mid = lower + (upper - lower)//2\n",
    "        if list1[mid] == a1:\n",
    "            return \"yes\"\n",
    "        elif list1[mid] > a1:\n",
    "            result = binary_search(a1, list1, lower, mid-1)\n",
    "            return result\n",
    "        else:\n",
    "            result = binary_search(a1, list1, mid+1, upper)\n",
    "            return result\n",
    "    except:\n",
    "        return \"no\"\n",
    "def is_prime(p, n):\n",
    "    a = binary_search(n, p, 0, len(p)-1)\n",
    "    return a\n",
    "is_prime(primes, 4)"
   ]
  },
  {
   "cell_type": "code",
   "execution_count": 23,
   "id": "a6850f66",
   "metadata": {},
   "outputs": [
    {
     "data": {
      "text/plain": [
       "3"
      ]
     },
     "execution_count": 23,
     "metadata": {},
     "output_type": "execute_result"
    }
   ],
   "source": [
    "#Q4. Create a function that takes in n, a, b and returns the number of positive values raised \n",
    "#    to the nth power that lie in the range [a, b], inclusive.\n",
    "def power_ranger(a, first, last):\n",
    "    s = 0\n",
    "    for i in range(first, last+1):\n",
    "        if i**(1/a) == int(i**(1/a)):\n",
    "            s += 1\n",
    "    return s\n",
    "power_ranger(3, 1, 27)"
   ]
  },
  {
   "cell_type": "code",
   "execution_count": 33,
   "id": "8fae09cc",
   "metadata": {},
   "outputs": [
    {
     "data": {
      "text/plain": [
       "760833"
      ]
     },
     "execution_count": 33,
     "metadata": {},
     "output_type": "execute_result"
    }
   ],
   "source": [
    "#Q5. Given a number, return the difference between the maximum and minimum numbers that can be \n",
    "#    formed when the digits are rearranged.\n",
    "def rearranged_difference(n):\n",
    "    return int(''.join(sorted(str(n), reverse=True))) - int(''.join(sorted(str(n))))\n",
    "rearranged_difference(972882)"
   ]
  }
 ],
 "metadata": {
  "kernelspec": {
   "display_name": "Python 3",
   "language": "python",
   "name": "python3"
  },
  "language_info": {
   "codemirror_mode": {
    "name": "ipython",
    "version": 3
   },
   "file_extension": ".py",
   "mimetype": "text/x-python",
   "name": "python",
   "nbconvert_exporter": "python",
   "pygments_lexer": "ipython3",
   "version": "3.8.10"
  }
 },
 "nbformat": 4,
 "nbformat_minor": 5
}
