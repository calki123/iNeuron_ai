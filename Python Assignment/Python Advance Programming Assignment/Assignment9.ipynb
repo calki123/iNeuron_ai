{
 "cells": [
  {
   "cell_type": "code",
   "execution_count": 47,
   "id": "8ed97408",
   "metadata": {},
   "outputs": [
    {
     "data": {
      "text/plain": [
       "'0:53:20'"
      ]
     },
     "execution_count": 47,
     "metadata": {},
     "output_type": "execute_result"
    }
   ],
   "source": [
    "#Q1. YouTube offers different playback speed options for users. This allows users to increase \n",
    "#    or decrease the speed of the video content. Given the actual duration and playback speed \n",
    "#    of the video, calculate the playback duration of the video.\n",
    "from datetime import datetime, timedelta\n",
    "def playback_duration(t, s):\n",
    "    a = t.split(\":\")\n",
    "    total_sec = (int(a[0]) * 3600 + int(a[1]) * 60 + int(a[2])) / s\n",
    "    hours = int(total_sec // 3600)\n",
    "    minutes = int((total_sec % 3600) // 60)\n",
    "    seconds = int(total_sec % 60)\n",
    "    return  \"%s:%s:%s\"%(hours, minutes, seconds)\n",
    "playback_duration(\"01:20:00\", 1.5)"
   ]
  },
  {
   "cell_type": "code",
   "execution_count": 60,
   "id": "bdff9204",
   "metadata": {},
   "outputs": [
    {
     "name": "stdout",
     "output_type": "stream",
     "text": [
      "2022\n"
     ]
    }
   ],
   "source": [
    "#Q2. Given the total volume m of the building, can you find the number of cubes n required for the building?\n",
    "def pile_of_cubes(num):\n",
    "    s = 0\n",
    "    x = 0\n",
    "    while num > s:\n",
    "        x += 1\n",
    "        s += x**3\n",
    "    if x > num ** (1/3):\n",
    "        x = None\n",
    "    return print(x)\n",
    "pile_of_cubes(4183059834009)"
   ]
  },
  {
   "cell_type": "code",
   "execution_count": 83,
   "id": "55369975",
   "metadata": {},
   "outputs": [
    {
     "data": {
      "text/plain": [
       "-1"
      ]
     },
     "execution_count": 83,
     "metadata": {},
     "output_type": "execute_result"
    }
   ],
   "source": [
    "#Q3. A fulcrum of a list is an integer such that all elements to the left of it and all elements \n",
    "#    to the right of it sum to the same value. Write a function that finds the fulcrum of a list.\n",
    "def find_fulcrum(l):\n",
    "    for i in range(len(l)):\n",
    "        if sum(l[:i]) == sum(l[i+1:]):\n",
    "            return l[i]\n",
    "    return -1\n",
    "find_fulcrum([8,8,8,8])"
   ]
  },
  {
   "cell_type": "code",
   "execution_count": 85,
   "id": "48eab853",
   "metadata": {},
   "outputs": [
    {
     "data": {
      "text/plain": [
       "4"
      ]
     },
     "execution_count": 85,
     "metadata": {},
     "output_type": "execute_result"
    }
   ],
   "source": [
    "#Q4. Create a function that returns an integer representing the number of matching pairs of socks that are available.\n",
    "def sock_merchant(l):\n",
    "    a = []\n",
    "    for i in set(l):\n",
    "        if l.count(i) > 1:\n",
    "            a.append(l.count(i)//2)\n",
    "    return sum(a)\n",
    "sock_merchant([50, 20, 30, 90, 30, 20, 50, 20, 90])"
   ]
  },
  {
   "cell_type": "code",
   "execution_count": 101,
   "id": "af5d7d9c",
   "metadata": {},
   "outputs": [
    {
     "data": {
      "text/plain": [
       "-33"
      ]
     },
     "execution_count": 101,
     "metadata": {},
     "output_type": "execute_result"
    }
   ],
   "source": [
    "#Q5. Create a function that takes a string containing integers as well as other characters and return the sum \n",
    "#    of the negative integers only.\n",
    "import re\n",
    "def negative_sum(s):\n",
    "    a = 0\n",
    "    for i in re.sub(\"[^0-9-]\", \" \", s).split():\n",
    "        if i[0] == '-':\n",
    "            a += eval(i)\n",
    "    return a\n",
    "negative_sum(\"22 13%14&-11-22 13 12\") "
   ]
  },
  {
   "cell_type": "code",
   "execution_count": null,
   "id": "8da28f67",
   "metadata": {},
   "outputs": [],
   "source": []
  }
 ],
 "metadata": {
  "kernelspec": {
   "display_name": "Python 3",
   "language": "python",
   "name": "python3"
  },
  "language_info": {
   "codemirror_mode": {
    "name": "ipython",
    "version": 3
   },
   "file_extension": ".py",
   "mimetype": "text/x-python",
   "name": "python",
   "nbconvert_exporter": "python",
   "pygments_lexer": "ipython3",
   "version": "3.8.10"
  }
 },
 "nbformat": 4,
 "nbformat_minor": 5
}
