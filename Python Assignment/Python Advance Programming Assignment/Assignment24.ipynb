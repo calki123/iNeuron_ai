{
 "cells": [
  {
   "cell_type": "markdown",
   "id": "92f0044d",
   "metadata": {},
   "source": [
    "#Q1. Implement a class iterator to flatten a nested list of lists of integers. Each list element is either an integer or a list. There can be many levels of nested lists in lists.\n",
    "\n",
    "The class initializes with a nested list. It also has two methods:\n",
    "\n",
    "  1. next() returns an integer in the order of appearance.\n",
    "  2. hasNext() returns True / False regarding if all integers have been retrieved or not.\n",
    "\n",
    "Write the Class implementation for three required methods."
   ]
  },
  {
   "cell_type": "code",
   "execution_count": 15,
   "id": "b99a6765",
   "metadata": {},
   "outputs": [
    {
     "name": "stdout",
     "output_type": "stream",
     "text": [
      "[]\n"
     ]
    }
   ],
   "source": [
    "class NestedIterator:\n",
    "    def __init__(self, l):\n",
    "        self.l1 = []\n",
    "        self.flat(l)\n",
    "        \n",
    "    def flat(self, l):\n",
    "        for i in l:\n",
    "            if type(i) == int:\n",
    "                self.l1.append(i)\n",
    "            else:\n",
    "                self.flat(i)\n",
    "        \n",
    "    def next(self):\n",
    "        return self.l1.pop(0)\n",
    "        \n",
    "    def hasNext(self):\n",
    "        return len(self.l1)\n",
    "    \n",
    "        \n",
    "ni, actual = NestedIterator([[[]], []]), []\n",
    "while ni.hasNext():\n",
    "    actual.append(ni.next())\n",
    "print(actual)"
   ]
  },
  {
   "cell_type": "markdown",
   "id": "cf67a0ba",
   "metadata": {},
   "source": [
    "#Q2. Implement the class Shape that receives perimeter and density function into __init__ method. The list of consecutive corners defines shape of a 2-dimensional object. The density function defines the mass distribution inside the shape. To compute mass in a certain point m(x, y) = small_square * density(x, y). The __init__ method calls other internal methods that compute three characteristics of the shape:\n",
    "\n",
    "   - area\n",
    "   - total mass\n",
    "   - center of mass (xc, yc)\n",
    "\n",
    "The computational grid has distance between two neighboring points as 2 * delta, the distance between a grid point and the perimeter wall is delta."
   ]
  },
  {
   "cell_type": "code",
   "execution_count": 4,
   "id": "f17a9517",
   "metadata": {},
   "outputs": [
    {
     "name": "stdout",
     "output_type": "stream",
     "text": [
      "2.0\n",
      "600.0\n",
      "(2.1, 1.5)\n"
     ]
    }
   ],
   "source": [
    "from scipy import integrate\n",
    "class Shape:\n",
    "    def __init__(self,vert,density):\n",
    "        self.x=[i[0] for i in vert]\n",
    "        self.y=[i[1] for i in vert]\n",
    "        self.density=density\n",
    "        self.area=self.total_area()\n",
    "        self.mass=self.total_mass()\n",
    "        self.mass_center=self.COM()\n",
    "        \n",
    "    def total_area(self):\n",
    "        area = 0.0\n",
    "        for i in range(-1, len(self.x)-1):\n",
    "            area += self.x[i] * (self.y[i+1] - self.y[i-1])\n",
    "        return abs(area) / 2.0\n",
    "    \n",
    "    def total_mass(self):\n",
    "        res=integrate.dblquad(self.density, min(self.y), max(self.y), lambda x: min(self.x), lambda x: max(self.x))\n",
    "        return res[0]\n",
    "    \n",
    "    def COM(self):\n",
    "        f1=lambda x, y : self.density(x, y) * x\n",
    "        com_x,_=integrate.dblquad(f1, min(self.y), max(self.y), lambda x: min(self.x), lambda x: max(self.x))\n",
    "        f1=lambda x, y : self.density(x, y) * y\n",
    "        com_y,_=integrate.dblquad(f1, min(self.y), max(self.y), lambda x: min(self.x), lambda x: max(self.x))   \n",
    "        return (round(com_x/self.total_mass(),1),round(com_y/self.total_mass(),1))\n",
    "    \n",
    "sh_ex1 = Shape([(1, 1), (3, 1), (3, 2), (1, 2)], lambda x, y: 100 + 100 * x)\n",
    "print(sh_ex1.area)\n",
    "print(sh_ex1.mass)\n",
    "print(sh_ex1.mass_center)"
   ]
  },
  {
   "cell_type": "markdown",
   "id": "0f3123a3",
   "metadata": {},
   "source": [
    "#Q3. Given a 3x3 matrix of a completed tic-tac-toe game, create a function that returns whether the game is a win for \"X\", \"O\", or a \"Draw\", where \"X\" and \"O\" represent themselves on the matrix, and \"E\" represents an empty spot."
   ]
  },
  {
   "cell_type": "code",
   "execution_count": 40,
   "id": "395025eb",
   "metadata": {},
   "outputs": [
    {
     "data": {
      "text/plain": [
       "'Draw'"
      ]
     },
     "execution_count": 40,
     "metadata": {},
     "output_type": "execute_result"
    }
   ],
   "source": [
    "def tic_tac_toe(l):\n",
    "    a = False\n",
    "    for i in range(3):\n",
    "        if l[i][0] == l[i][1] == l[i][2]:\n",
    "            a = l[i][0]\n",
    "    b = l[0][0] if all([l[0][0] == l[i][i] for i in range(1, 3)]) else False\n",
    "    c = l[0][-1] if all([l[0][-1] == l[i][-i] for i in range(3)]) else False\n",
    "    d = False\n",
    "    for i in range(3):\n",
    "        if l[2][i] == l[1][i] == l[0][i]:\n",
    "            d = l[0][i]\n",
    "    return a or b or c or d or \"Draw\"\n",
    "tic_tac_toe([\n",
    "  [\"X\", \"X\", \"O\"],\n",
    "  [\"O\", \"O\", \"X\"],\n",
    "  [\"X\", \"X\", \"O\"]\n",
    "])"
   ]
  },
  {
   "cell_type": "markdown",
   "id": "5db5aea8",
   "metadata": {},
   "source": [
    "#Q4. Your computer might have been infected by a virus! Create a function that finds the viruses in files and removes them from your computer."
   ]
  },
  {
   "cell_type": "code",
   "execution_count": 10,
   "id": "82c01915",
   "metadata": {},
   "outputs": [
    {
     "data": {
      "text/plain": [
       "'PC Files: notvirus.exe, funnycat.gif'"
      ]
     },
     "execution_count": 10,
     "metadata": {},
     "output_type": "execute_result"
    }
   ],
   "source": [
    "def remove_virus(s):\n",
    "    a = s.split(\": \")[1].split(\", \")\n",
    "    x = list(filter(lambda l: l.find(\"notvirus\") > -1 or l.find(\"antivirus\") > -1 or (l.find(\"virus\") == -1 and l.find(\"malware\") == -1), a))\n",
    "    return \"PC Files: \" + ', '.join(x)\n",
    "\n",
    "remove_virus(\"PC Files: notvirus.exe, funnycat.gif\")"
   ]
  },
  {
   "cell_type": "markdown",
   "id": "f93d9bca",
   "metadata": {},
   "source": [
    "#Q5. In a video game, a meteor will fall toward the main character's home planet. Given the meteor's trajectory as a string in the form y = mx + b and the character's position as a tuple of (x, y), return True if the meteor will hit the character and False if it will not."
   ]
  },
  {
   "cell_type": "code",
   "execution_count": 36,
   "id": "3ae24f8e",
   "metadata": {},
   "outputs": [
    {
     "data": {
      "text/plain": [
       "False"
      ]
     },
     "execution_count": 36,
     "metadata": {},
     "output_type": "execute_result"
    }
   ],
   "source": [
    "def will_hit(ex, pos):\n",
    "    a = ex.split(\"=\")[1].strip().split()\n",
    "    x = eval(str(int(a[0][:-1]) * pos[0]) + a[1] + a[2])\n",
    "    return True if pos[1] == x else False\n",
    "will_hit(\"y = 2x + 6\", (3, 2))"
   ]
  }
 ],
 "metadata": {
  "kernelspec": {
   "display_name": "Python 3",
   "language": "python",
   "name": "python3"
  },
  "language_info": {
   "codemirror_mode": {
    "name": "ipython",
    "version": 3
   },
   "file_extension": ".py",
   "mimetype": "text/x-python",
   "name": "python",
   "nbconvert_exporter": "python",
   "pygments_lexer": "ipython3",
   "version": "3.8.10"
  }
 },
 "nbformat": 4,
 "nbformat_minor": 5
}
