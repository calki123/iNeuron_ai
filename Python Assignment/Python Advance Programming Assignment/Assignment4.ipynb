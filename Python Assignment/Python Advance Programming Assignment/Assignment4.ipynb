{
 "cells": [
  {
   "cell_type": "code",
   "execution_count": 7,
   "id": "1a62638e",
   "metadata": {},
   "outputs": [
    {
     "data": {
      "text/plain": [
       "12586269025"
      ]
     },
     "execution_count": 7,
     "metadata": {},
     "output_type": "execute_result"
    }
   ],
   "source": [
    "#Q1. The function fastFib(num) returns the fibonacci number Fn, of the given num as an argument.\n",
    "def fib_fast(num):\n",
    "    a = 0\n",
    "    b = 1\n",
    "    if num == 0:\n",
    "        return 0\n",
    "    elif num == 1:\n",
    "        return 1\n",
    "    for i in range(num-1):\n",
    "        c = a + b\n",
    "        a,b = b,c\n",
    "    return c\n",
    "fib_fast(50)"
   ]
  },
  {
   "cell_type": "code",
   "execution_count": 12,
   "id": "b7c131bf",
   "metadata": {},
   "outputs": [
    {
     "data": {
      "text/plain": [
       "'4d 61 72 74 79 20 50 6f 70 70 69 6e 73 6f 6e'"
      ]
     },
     "execution_count": 12,
     "metadata": {},
     "output_type": "execute_result"
    }
   ],
   "source": [
    "#Q2. Create a function that takes a strings characters as ASCII and returns each characters \n",
    "#    hexadecimal value as a string.\n",
    "def convert_to_hex(s):\n",
    "    x = \"\"\n",
    "    for i in s:\n",
    "        x+=\" \" + format(ord(i), \"x\")\n",
    "    return x.strip()\n",
    "convert_to_hex(\"Marty Poppinson\")"
   ]
  },
  {
   "cell_type": "code",
   "execution_count": 14,
   "id": "c5ec9f41",
   "metadata": {},
   "outputs": [
    {
     "data": {
      "text/plain": [
       "'Where did my vowels go?'"
      ]
     },
     "execution_count": 14,
     "metadata": {},
     "output_type": "execute_result"
    }
   ],
   "source": [
    "#Q3. Someone has attempted to censor my strings by replacing every vowel with a *, l*k* th*s. Luckily, \n",
    "#    I've been able to find the vowels that were removed.\n",
    "#    Given a censored string and a string of the censored vowels, return the original uncensored string.\n",
    "def uncensor(a, b):\n",
    "    for i in range(len(b)):\n",
    "        a = a.replace('*', b[i], 1)\n",
    "    return a\n",
    "uncensor(\"Wh*r* d*d my v*w*ls g*?\", \"eeioeo\") "
   ]
  },
  {
   "cell_type": "code",
   "execution_count": 16,
   "id": "b80cbf9a",
   "metadata": {},
   "outputs": [
    {
     "data": {
      "text/plain": [
       "'dns.google'"
      ]
     },
     "execution_count": 16,
     "metadata": {},
     "output_type": "execute_result"
    }
   ],
   "source": [
    "#Q4. Write a function that takes an IP address and returns the domain name using PTR DNS records.\n",
    "import socket\n",
    "def get_domain(ip):\n",
    "    return socket.gethostbyaddr(ip)[0]\n",
    "\n",
    "get_domain(\"8.8.8.8\") "
   ]
  },
  {
   "cell_type": "code",
   "execution_count": 39,
   "id": "5e33efb8",
   "metadata": {},
   "outputs": [
    {
     "data": {
      "text/plain": [
       "34560"
      ]
     },
     "execution_count": 39,
     "metadata": {},
     "output_type": "execute_result"
    }
   ],
   "source": [
    "#Q5. Create a function that takes an integer n and returns the factorial of factorials. \n",
    "#    See below examples for a better understanding:\n",
    "def fact(num):\n",
    "    return 1 if (num==1 or num==0) else num * fact(num - 1)\n",
    "def fact_of_fact(n):\n",
    "    s = 1\n",
    "    for i in range(1, n+1):\n",
    "        s *= fact(i)\n",
    "    return s\n",
    "fact_of_fact(5)"
   ]
  },
  {
   "cell_type": "code",
   "execution_count": null,
   "id": "3b3ddfa6",
   "metadata": {},
   "outputs": [],
   "source": []
  }
 ],
 "metadata": {
  "kernelspec": {
   "display_name": "Python 3",
   "language": "python",
   "name": "python3"
  },
  "language_info": {
   "codemirror_mode": {
    "name": "ipython",
    "version": 3
   },
   "file_extension": ".py",
   "mimetype": "text/x-python",
   "name": "python",
   "nbconvert_exporter": "python",
   "pygments_lexer": "ipython3",
   "version": "3.8.10"
  }
 },
 "nbformat": 4,
 "nbformat_minor": 5
}
