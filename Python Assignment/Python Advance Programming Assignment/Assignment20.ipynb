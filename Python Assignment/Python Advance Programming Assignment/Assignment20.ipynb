{
 "cells": [
  {
   "cell_type": "code",
   "execution_count": 4,
   "id": "daf1579c",
   "metadata": {},
   "outputs": [
    {
     "data": {
      "text/plain": [
       "\"<p class='four five'></p>\""
      ]
     },
     "execution_count": 4,
     "metadata": {},
     "output_type": "execute_result"
    }
   ],
   "source": [
    "#Q1. Create a function based on the input and output. Look at the examples, there is a pattern.\n",
    "def secret(s):\n",
    "    s = s.split(\".\") \n",
    "    return f\"<{s[0]} class='{' '.join(s[1:])}'></{s[0]}>\"\n",
    "secret(\"p.four.five\")"
   ]
  },
  {
   "cell_type": "code",
   "execution_count": 13,
   "id": "3f159132",
   "metadata": {},
   "outputs": [
    {
     "data": {
      "text/plain": [
       "1"
      ]
     },
     "execution_count": 13,
     "metadata": {},
     "output_type": "execute_result"
    }
   ],
   "source": [
    "#Q2. Create a function which counts how many lone 1s appear in a given number. Lone means the number \n",
    "#    doesn't appear twice or more in a row.\n",
    "import re\n",
    "def count_lone_ones(n):\n",
    "    return re.sub(\"11\", \"\", str(n)).count(\"1\")\n",
    "count_lone_ones(1191)"
   ]
  },
  {
   "cell_type": "code",
   "execution_count": 18,
   "id": "eaf30ab8",
   "metadata": {},
   "outputs": [
    {
     "data": {
      "text/plain": [
       "[[1, 6, 11], [2, 7, 12], [3, 8, 13], [4, 9, 14], [5, 10, 15]]"
      ]
     },
     "execution_count": 18,
     "metadata": {},
     "output_type": "execute_result"
    }
   ],
   "source": [
    "#Q3. Write a method that accepts two integer parameters rows and cols. The output is a 2d array of numbers \n",
    "#    displayed in column-major order, meaning the numbers shown increase sequentially down each column \n",
    "#    and wrap to the top of the next column to the right once the bottom of the current column is reached.\n",
    "def printGrid(n1, n2):\n",
    "    return [[i+j for j in range(1, n1*n2+1, n1)] for i in range(n1)]\n",
    "printGrid(5, 3)"
   ]
  },
  {
   "cell_type": "code",
   "execution_count": 25,
   "id": "ff7fed5d",
   "metadata": {},
   "outputs": [
    {
     "data": {
      "text/plain": [
       "8"
      ]
     },
     "execution_count": 25,
     "metadata": {},
     "output_type": "execute_result"
    }
   ],
   "source": [
    "#Q4. Given a list of integers, return the smallest positive integer not present in the list.\n",
    "\n",
    "#    Here is a representative example. Consider the list:\n",
    "\n",
    "#    [-2, 6, 4, 5, 7, -1, 7, 1, 3, 6, 6, -2, 9, 10, 2, 2]\n",
    "\n",
    "#    After reordering, the list becomes:\n",
    "\n",
    "#    [-2, -2, -1, 1, 2, 2, 3, 4, 5, 6, 6, 6, 7, 7, 9, 10]\n",
    "\n",
    "#    from which we see that the smallest missing positive integer is 8.\n",
    "def min_miss_pos(l):\n",
    "    a = set(list(filter(lambda l: l > 0 ,sorted(l))))\n",
    "    return [i for i in range(1, list(a)[-1]) if i not in a][0]\n",
    "min_miss_pos([-2, 6, 4, 5, 7, -1, 1, 3, 6, -2, 9, 10, 2, 2])"
   ]
  },
  {
   "cell_type": "code",
   "execution_count": 32,
   "id": "547284a2",
   "metadata": {},
   "outputs": [
    {
     "data": {
      "text/plain": [
       "[]"
      ]
     },
     "execution_count": 32,
     "metadata": {},
     "output_type": "execute_result"
    }
   ],
   "source": [
    "#Q5. Google is launching a network of autonomous pizza delivery drones and wants you to create a \n",
    "#    flexible rewards system (Pizza Points™) that can be tweaked in the future. The rules are simple: \n",
    "#    if a customer has made at least N orders of at least Y price, they get a FREE pizza!\n",
    "\n",
    "#    Create a function that takes a dictionary of customers, a minimum number of orders and a minimum \n",
    "#    order price. Return a list of customers that are eligible for a free pizza.\n",
    "customers = {\n",
    "  \"Batman\": [22, 30, 11, 17, 15, 52, 27, 12],\n",
    "  \"Spider-Man\": [5, 17, 30, 33, 40, 22, 26, 10, 11, 45]\n",
    "}\n",
    "def pizza_points(customer, order, price):\n",
    "    a = []\n",
    "    for i, j in customer.items():\n",
    "        x = list(filter(lambda l: l > price, j))\n",
    "        if len(x) > order:\n",
    "            a.append(i)\n",
    "    return a\n",
    "pizza_points(customers, 5, 100) "
   ]
  },
  {
   "cell_type": "code",
   "execution_count": null,
   "id": "37ec28e0",
   "metadata": {},
   "outputs": [],
   "source": []
  }
 ],
 "metadata": {
  "kernelspec": {
   "display_name": "Python 3",
   "language": "python",
   "name": "python3"
  },
  "language_info": {
   "codemirror_mode": {
    "name": "ipython",
    "version": 3
   },
   "file_extension": ".py",
   "mimetype": "text/x-python",
   "name": "python",
   "nbconvert_exporter": "python",
   "pygments_lexer": "ipython3",
   "version": "3.8.10"
  }
 },
 "nbformat": 4,
 "nbformat_minor": 5
}
