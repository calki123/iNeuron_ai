{
 "cells": [
  {
   "cell_type": "code",
   "execution_count": 6,
   "id": "9d1e653d",
   "metadata": {},
   "outputs": [
    {
     "data": {
      "text/plain": [
       "[12.0, 7.5, 14.5]"
      ]
     },
     "execution_count": 6,
     "metadata": {},
     "output_type": "execute_result"
    }
   ],
   "source": [
    "#Q1. Given a list of numbers, create a function that removes 25% from every number in the list except \n",
    "#    the smallest number, and adds the total amount removed to the smallest number.\n",
    "def show_the_love(l):\n",
    "    min_num = min(l)\n",
    "    t = 0\n",
    "    index = 0\n",
    "    for i in range(len(l)):\n",
    "        if min_num != l[i]:\n",
    "            t+=(l[i]*25)/100\n",
    "            l[i] = l[i] - (l[i]*25)/100\n",
    "        else:\n",
    "            index = i\n",
    "    l[index] = t + l[index]\n",
    "    return l\n",
    "show_the_love([16, 10, 8])"
   ]
  },
  {
   "cell_type": "code",
   "execution_count": 29,
   "id": "6a017311",
   "metadata": {},
   "outputs": [
    {
     "data": {
      "text/plain": [
       "['ahm', 'ct', '']"
      ]
     },
     "execution_count": 29,
     "metadata": {},
     "output_type": "execute_result"
    }
   ],
   "source": [
    "#Q2. Create a function that takes in two words as input and returns a list of three elements, in the following order:\n",
    "#    1.Shared letters between two words.\n",
    "#    2.Letters unique to word 1.\n",
    "#    3.Letters unique to word 2.\n",
    "#    Each element should have unique letters, and have each letter be alphabetically sorted.\n",
    "def letters(s1, s2):\n",
    "    a = sorted(list(set(s1)&set(s2)))\n",
    "    b = sorted(list(set(s1) - set(a)))\n",
    "    c = sorted(list(set(s2) - set(b) -set(a)))\n",
    "    return [''.join(a), ''.join(b), ''.join(c)]\n",
    "letters(\"match\", \"ham\") "
   ]
  },
  {
   "cell_type": "code",
   "execution_count": 46,
   "id": "0e704845",
   "metadata": {},
   "outputs": [
    {
     "data": {
      "text/plain": [
       "[]"
      ]
     },
     "execution_count": 46,
     "metadata": {},
     "output_type": "execute_result"
    }
   ],
   "source": [
    "#Q3. Write a function that pairs the first number in an array with the last, the second number with the second to last, etc.\n",
    "def pairs(l):\n",
    "    a = int(len(l)/2)+1 if len(l) % 2 != 0 else int(len(l)/2)\n",
    "    return [[l[i], l[len(l)-i-1]] for i in range(a)]\n",
    "pairs([])"
   ]
  },
  {
   "cell_type": "code",
   "execution_count": 56,
   "id": "692176ff",
   "metadata": {},
   "outputs": [
    {
     "data": {
      "text/plain": [
       "'-1'"
      ]
     },
     "execution_count": 56,
     "metadata": {},
     "output_type": "execute_result"
    }
   ],
   "source": [
    "#Q4. Write a function that adds two numbers. The catch, however, is that the numbers will be strings.\n",
    "def add_str_nums(s1, s2):\n",
    "    try:\n",
    "        return str(int(s1) + int(s2)) if len(s1) > 0 and len(s2) > 0 else s1+s2\n",
    "    except:\n",
    "        return \"-1\"\n",
    "add_str_nums(\"abcdefg\", \"3\")"
   ]
  },
  {
   "cell_type": "code",
   "execution_count": 57,
   "id": "58c7fc0b",
   "metadata": {},
   "outputs": [
    {
     "data": {
      "text/plain": [
       "'This is a mixed up string.'"
      ]
     },
     "execution_count": 57,
     "metadata": {},
     "output_type": "execute_result"
    }
   ],
   "source": [
    "#5. Somehow my strings have all become mixed up; every pair of characters has been swapped. Help me undo this\n",
    "#   so I can understand my strings again.\n",
    "def unmix(s):\n",
    "    if len(s) < 2: return s\n",
    "    return s[1] + s[0] + unmix(s[2:])\n",
    "unmix(\"hTsii  s aimex dpus rtni.g\")"
   ]
  },
  {
   "cell_type": "code",
   "execution_count": null,
   "id": "517a9078",
   "metadata": {},
   "outputs": [],
   "source": []
  }
 ],
 "metadata": {
  "kernelspec": {
   "display_name": "Python 3",
   "language": "python",
   "name": "python3"
  },
  "language_info": {
   "codemirror_mode": {
    "name": "ipython",
    "version": 3
   },
   "file_extension": ".py",
   "mimetype": "text/x-python",
   "name": "python",
   "nbconvert_exporter": "python",
   "pygments_lexer": "ipython3",
   "version": "3.8.10"
  }
 },
 "nbformat": 4,
 "nbformat_minor": 5
}
