{
 "cells": [
  {
   "cell_type": "code",
   "execution_count": 3,
   "id": "d8c67547",
   "metadata": {},
   "outputs": [
    {
     "data": {
      "text/plain": [
       "141"
      ]
     },
     "execution_count": 3,
     "metadata": {},
     "output_type": "execute_result"
    }
   ],
   "source": [
    "#Q1. Write a function that takes a positive integer num and calculates how many dots exist in \n",
    "#    a pentagonal shape around the center dot on the Nth iteration.\n",
    "def pentagonal(num):\n",
    "    return int((5*num*num-5*num+2)/2)\n",
    "pentagonal(8)"
   ]
  },
  {
   "cell_type": "code",
   "execution_count": 11,
   "id": "b4cba3b6",
   "metadata": {},
   "outputs": [
    {
     "data": {
      "text/plain": [
       "'0n0n0baca'"
      ]
     },
     "execution_count": 11,
     "metadata": {},
     "output_type": "execute_result"
    }
   ],
   "source": [
    "#Q2. Make a function that encrypts a given input with these steps:\n",
    "#    Input: \"apple\"\n",
    "#    Step 1: Reverse the input: \"elppa\"\n",
    "#    Step 2: Replace all vowels using the following chart:\n",
    "#          a => 0, e => 1, i => 2, o => 2, u => 3\n",
    "def encrypts(s):\n",
    "    s = s[::-1]\n",
    "    x = {'a':'0', 'e':'1', 'i':'2', 'o':'2', 'u':'3'}\n",
    "    for i in range(len(s)):\n",
    "        if s[i] in x.keys():\n",
    "            s = s.replace(s[i], x.get(s[i]))\n",
    "    return s + 'aca'\n",
    "encrypts(\"banana\")"
   ]
  },
  {
   "cell_type": "code",
   "execution_count": 15,
   "id": "4536b36c",
   "metadata": {},
   "outputs": [
    {
     "data": {
      "text/plain": [
       "False"
      ]
     },
     "execution_count": 15,
     "metadata": {},
     "output_type": "execute_result"
    }
   ],
   "source": [
    "#Q3. Given the month and year as numbers, return whether that month contains a Friday 13th.\n",
    "#    (i.e You can check Python's datetime module)\n",
    "from datetime import date\n",
    "def has_friday_13(m, y):\n",
    "    return date(y, m, 13).weekday() == 4\n",
    "has_friday_13(1, 1985) "
   ]
  },
  {
   "cell_type": "code",
   "execution_count": 29,
   "id": "242d4817",
   "metadata": {},
   "outputs": [
    {
     "data": {
      "text/plain": [
       "2"
      ]
     },
     "execution_count": 29,
     "metadata": {},
     "output_type": "execute_result"
    }
   ],
   "source": [
    "#Q4. Write a regular expression that will help us count how many bad cookies are produced every day.\n",
    "#    You must use RegEx negative lookbehind.\n",
    "lst = [\"bad cookie\", \"good cookie\", \"bad cookie\", \"good cookie\", \"good cookie\"]\n",
    "pattern = \"(?<!good) cookie\"\n",
    "len(re.findall(pattern, \", \".join(lst)))"
   ]
  },
  {
   "cell_type": "code",
   "execution_count": 26,
   "id": "3c01d77e",
   "metadata": {},
   "outputs": [
    {
     "data": {
      "text/plain": [
       "{'cows'}"
      ]
     },
     "execution_count": 26,
     "metadata": {},
     "output_type": "execute_result"
    }
   ],
   "source": [
    "#Q5. Given a list of words in the singular form, return a set of those words in the plural form \n",
    "#    if they appear more than once in the list.\n",
    "import re\n",
    "from collections import Counter\n",
    "def pluralize(l):\n",
    "    s = set(l)\n",
    "    if len(s) == len(l):\n",
    "        return s\n",
    "    l = Counter(l)\n",
    "    x = list([item for item in l if l[item]>1])\n",
    "    s1 = set()\n",
    "    for i in x:\n",
    "        if re.search('[sxz]$', i):\n",
    "            s1.add(re.sub('$', 'es', i))\n",
    "        elif re.search('[^aeioudgkprt]h$', i):\n",
    "            s1.add(re.sub('$', 'es', i))\n",
    "        elif re.search('[aeiou]y$', i):\n",
    "            s1.add(re.sub('y$', 'ies', i))\n",
    "        else:\n",
    "            s1.add(i + 's')\n",
    "    return s1\n",
    "    \n",
    "pluralize([\"cow\", \"pig\", \"cow\", \"cow\"])"
   ]
  },
  {
   "cell_type": "code",
   "execution_count": null,
   "id": "d715fca2",
   "metadata": {},
   "outputs": [],
   "source": []
  }
 ],
 "metadata": {
  "kernelspec": {
   "display_name": "Python 3",
   "language": "python",
   "name": "python3"
  },
  "language_info": {
   "codemirror_mode": {
    "name": "ipython",
    "version": 3
   },
   "file_extension": ".py",
   "mimetype": "text/x-python",
   "name": "python",
   "nbconvert_exporter": "python",
   "pygments_lexer": "ipython3",
   "version": "3.8.10"
  }
 },
 "nbformat": 4,
 "nbformat_minor": 5
}
