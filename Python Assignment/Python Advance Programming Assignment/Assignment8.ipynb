{
 "cells": [
  {
   "cell_type": "code",
   "execution_count": 3,
   "id": "6be3ab03",
   "metadata": {},
   "outputs": [
    {
     "data": {
      "text/plain": [
       "False"
      ]
     },
     "execution_count": 3,
     "metadata": {},
     "output_type": "execute_result"
    }
   ],
   "source": [
    "#Q1. Given a sentence as txt, return True if any two adjacent words have this property: One word ends \n",
    "#    with a vowel, while the word immediately after begins with a vowel (a e i o u).\n",
    "def vowel_links(s):\n",
    "    s = s.split()\n",
    "    for i in range(len(s)-1):\n",
    "        if s[i][-1] in ['a','e','i','o','u'] and s[i+1][0] in ['a','e','i','o','u']:\n",
    "            return True\n",
    "    return False\n",
    "\n",
    "vowel_links(\"a sudden applause\")"
   ]
  },
  {
   "cell_type": "code",
   "execution_count": 8,
   "id": "1e8a9026",
   "metadata": {},
   "outputs": [
    {
     "data": {
      "text/plain": [
       "True"
      ]
     },
     "execution_count": 8,
     "metadata": {},
     "output_type": "execute_result"
    }
   ],
   "source": [
    "#Q2. You are given three inputs: a string, one letter, and a second letter.\n",
    "#    Write a function that returns True if every instance of the first letter occurs before every instance \n",
    "#    of the second letter.\n",
    "def first_before_second(a, b, c):\n",
    "    b_last_index = a.rfind(b)\n",
    "    c_index = a.find(c)\n",
    "    if b_last_index > c_index:\n",
    "        return False\n",
    "    return True\n",
    "\n",
    "first_before_second(\"knaves knew about waterfalls\", \"k\", \"w\")"
   ]
  },
  {
   "cell_type": "code",
   "execution_count": 16,
   "id": "3acefff7",
   "metadata": {},
   "outputs": [
    {
     "data": {
      "text/plain": [
       "['A', 'B', 'T', 'A', 'I', 'Y']"
      ]
     },
     "execution_count": 16,
     "metadata": {},
     "output_type": "execute_result"
    }
   ],
   "source": [
    "#Q3. Create a function that returns the characters from a list or string r on odd or even positions, \n",
    "#    depending on the specifier s. The specifier will be \"odd\" for items on odd positions (1, 3, 5, ...) \n",
    "#    and \"even\" for items on even positions (2, 4, 6, ...).\n",
    "def char_at_pos(l, s):\n",
    "    if s ==\"even\":\n",
    "        return ''.join([l[i] for i in range(len(l)) if (i+1) % 2 == 0]) if type(l) == str else [l[i] for i in range(len(l)) if (i+1) % 2 == 0]\n",
    "    else:\n",
    "        return ''.join([l[i] for i in range(len(l)) if (i+1) % 2 != 0]) if type(l) == str else [l[i] for i in range(len(l)) if (i+1) % 2 != 0]\n",
    "char_at_pos([\"A\", \"R\", \"B\", \"I\", \"T\", \"R\", \"A\", \"R\", \"I\", \"L\", \"Y\"], \"odd\") "
   ]
  },
  {
   "cell_type": "code",
   "execution_count": 18,
   "id": "a2dd3123",
   "metadata": {},
   "outputs": [
    {
     "data": {
      "text/plain": [
       "10"
      ]
     },
     "execution_count": 18,
     "metadata": {},
     "output_type": "execute_result"
    }
   ],
   "source": [
    "#Q4. Write a function that returns the greatest common divisor of all list elements. If the greatest \n",
    "#    common divisor is 1, return 1.\n",
    "def GCD(x, y):\n",
    "    while(y):\n",
    "        x, y = y, x % y\n",
    "  \n",
    "    return x\n",
    "      \n",
    "def compute_gcd(l):\n",
    "    num1=l[0]\n",
    "    num2=l[1]\n",
    "    gcd=GCD(num1,num2)\n",
    "  \n",
    "    for i in range(2,len(l)):\n",
    "        gcd=GCD(gcd,l[i])\n",
    "    return gcd\n",
    "compute_gcd([10, 20, 40])"
   ]
  },
  {
   "cell_type": "code",
   "execution_count": 7,
   "id": "26c36f98",
   "metadata": {},
   "outputs": [
    {
     "data": {
      "text/plain": [
       "'Neither!'"
      ]
     },
     "execution_count": 7,
     "metadata": {},
     "output_type": "execute_result"
    }
   ],
   "source": [
    "#Q5. A number/string is a palindrome if the digits/characters are the same when read both forward and backward. \n",
    "#    Examples include \"racecar\" and 12321. Given a positive number n, check if n or the binary representation \n",
    "#    of n is palindromic. Return the following:\n",
    "#\n",
    "#    - \"Decimal only.\" if only n is a palindrome.\n",
    "#    - \"Binary only.\" if only the binary representation of n is a palindrome.\n",
    "#    - \"Decimal and binary.\" if both are palindromes.\n",
    "#    - \"Neither!\" if neither are palindromes.\n",
    "def palindrome_type(num):\n",
    "    reverse_num = str(num)[::-1]\n",
    "    binary_num = bin(num).replace(\"0b\", \"\")\n",
    "    reverse_binary_num = binary_num[::-1]\n",
    "    if str(num) == reverse_num and binary_num == reverse_binary_num:\n",
    "        return \"Decimal and binary.\"\n",
    "    elif str(num) != reverse_num and binary_num == reverse_binary_num:\n",
    "        return \"Binary only.\"\n",
    "    elif str(num) == reverse_num and binary_num != reverse_binary_num:\n",
    "        return \"Decimal only.\"\n",
    "    else:\n",
    "        return \"Neither!\"\n",
    "palindrome_type(934)"
   ]
  },
  {
   "cell_type": "code",
   "execution_count": null,
   "id": "880bcd21",
   "metadata": {},
   "outputs": [],
   "source": []
  }
 ],
 "metadata": {
  "kernelspec": {
   "display_name": "Python 3",
   "language": "python",
   "name": "python3"
  },
  "language_info": {
   "codemirror_mode": {
    "name": "ipython",
    "version": 3
   },
   "file_extension": ".py",
   "mimetype": "text/x-python",
   "name": "python",
   "nbconvert_exporter": "python",
   "pygments_lexer": "ipython3",
   "version": "3.8.10"
  }
 },
 "nbformat": 4,
 "nbformat_minor": 5
}
