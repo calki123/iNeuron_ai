{
 "cells": [
  {
   "cell_type": "code",
   "execution_count": 1,
   "id": "2cdbc055",
   "metadata": {},
   "outputs": [
    {
     "data": {
      "text/plain": [
       "False"
      ]
     },
     "execution_count": 1,
     "metadata": {},
     "output_type": "execute_result"
    }
   ],
   "source": [
    "#Q1. Write a function that returns True if a given name can generate an array of words.\n",
    "from collections import Counter\n",
    "def anagram(s, l):\n",
    "    return sorted(''.join(l)) == sorted(s.replace(' ','').lower())\n",
    "anagram(\"Jeff Goldblum\", [\"jog\", \"meld\", \"bluffs\"])"
   ]
  },
  {
   "cell_type": "code",
   "execution_count": 2,
   "id": "1eac8ddb",
   "metadata": {},
   "outputs": [
    {
     "data": {
      "text/plain": [
       "[{'name': 'c', 'score': 115, 'reputation': 30},\n",
       " {'name': 'b', 'score': 90, 'reputation': 40},\n",
       " {'name': 'a', 'score': 100, 'reputation': 20}]"
      ]
     },
     "execution_count": 2,
     "metadata": {},
     "output_type": "execute_result"
    }
   ],
   "source": [
    "#Q2. Given an array of users, each defined by an object with the following properties: name, score, \n",
    "#    reputation create a function that sorts the array to form the correct leaderboard.\n",
    "#\n",
    "#    The leaderboard takes into consideration the score of each user of course, but an emphasis is put on \n",
    "#    their reputation in the community, so to get the trueScore, you should add the reputation multiplied \n",
    "#    by 2 to the score.\n",
    "#\n",
    "#    Once you know the trueScore of each user, sort the array according to it in descending order.\n",
    "def leaderboards(l):\n",
    "    return list(sorted(l, key=lambda l: l['score'] + l['reputation']*2, reverse=True))\n",
    "leaderboards([\n",
    "  { \"name\": \"a\", \"score\": 100, \"reputation\": 20 },\n",
    "  { \"name\": \"b\", \"score\": 90, \"reputation\": 40 },\n",
    "  { \"name\": \"c\", \"score\": 115, \"reputation\": 30 },\n",
    "])"
   ]
  },
  {
   "cell_type": "code",
   "execution_count": 9,
   "id": "96ade3d0",
   "metadata": {},
   "outputs": [
    {
     "data": {
      "text/plain": [
       "'-e\"- a -e-y -a----y --y!'"
      ]
     },
     "execution_count": 9,
     "metadata": {},
     "output_type": "execute_result"
    }
   ],
   "source": [
    "#Q3. Create a function that, given a phrase and a number of letters guessed, returns a string \n",
    "#    with hyphens - for every letter of the phrase not guessed, and each letter guessed in place.\n",
    "import re\n",
    "def hangman(s, l):\n",
    "    return \"\".join(c if c.lower() in l or not c.isalpha() else \"-\" for c in s)\n",
    "hangman('He\"s a very naughty boy!', [\"e\", \"a\", \"y\"])"
   ]
  },
  {
   "cell_type": "code",
   "execution_count": 21,
   "id": "827960dc",
   "metadata": {},
   "outputs": [
    {
     "data": {
      "text/plain": [
       "'10, 5, 16, 8, 4, 2, 1'"
      ]
     },
     "execution_count": 21,
     "metadata": {},
     "output_type": "execute_result"
    }
   ],
   "source": [
    "#Q4. The Collatz sequence is as follows:\n",
    "#\n",
    "#  - Start with some given integer n.\n",
    "#  - If it is even, the next number will be n divided by 2.\n",
    "#  - If it is odd, multiply it by 3 and add 1 to make the next number.\n",
    "#  - The sequence stops when it reaches 1.\n",
    "\n",
    "#  According to the Collatz conjecture, it will always reach 1. If that's true, you can construct a finite \n",
    "#  sequence following the aforementioned method for any given integer.\n",
    "\n",
    "#  Write a function that takes in an integer n and returns the highest integer in the corresponding \n",
    "#  Collatz sequence.\n",
    "def max_collatz(n):\n",
    "    l = [str(n)]\n",
    "    while n != 1:\n",
    "        if n % 2 == 0:\n",
    "            n = n/2\n",
    "        else:\n",
    "            n = n*3+1\n",
    "        l.append(str(int(n)))\n",
    "    return ', '.join(l)\n",
    "max_collatz(10)"
   ]
  },
  {
   "cell_type": "code",
   "execution_count": 32,
   "id": "d3490f27",
   "metadata": {},
   "outputs": [
    {
     "data": {
      "text/plain": [
       "[444, 563, 789, 1, 2, 5, 9]"
      ]
     },
     "execution_count": 32,
     "metadata": {},
     "output_type": "execute_result"
    }
   ],
   "source": [
    "#Q5. Write a function that sorts a list of integers by their digit length in descending order, then \n",
    "#    settles ties by sorting numbers with the same digit length in ascending order.\n",
    "def digit_sort(l):\n",
    "    l = sorted(l, key=lambda x:(len(str(x))*-1,x))\n",
    "    return l\n",
    "digit_sort([1, 5, 9, 2, 789, 563, 444])"
   ]
  },
  {
   "cell_type": "code",
   "execution_count": null,
   "id": "ea7699e8",
   "metadata": {},
   "outputs": [],
   "source": []
  }
 ],
 "metadata": {
  "kernelspec": {
   "display_name": "Python 3",
   "language": "python",
   "name": "python3"
  },
  "language_info": {
   "codemirror_mode": {
    "name": "ipython",
    "version": 3
   },
   "file_extension": ".py",
   "mimetype": "text/x-python",
   "name": "python",
   "nbconvert_exporter": "python",
   "pygments_lexer": "ipython3",
   "version": "3.8.10"
  }
 },
 "nbformat": 4,
 "nbformat_minor": 5
}
