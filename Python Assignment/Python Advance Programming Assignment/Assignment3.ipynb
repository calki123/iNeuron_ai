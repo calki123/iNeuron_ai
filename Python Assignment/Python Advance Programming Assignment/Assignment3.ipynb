{
 "cells": [
  {
   "cell_type": "code",
   "execution_count": 4,
   "id": "25235a56",
   "metadata": {},
   "outputs": [
    {
     "data": {
      "text/plain": [
       "-1"
      ]
     },
     "execution_count": 4,
     "metadata": {},
     "output_type": "execute_result"
    }
   ],
   "source": [
    "#Q1. Create a function to perform basic arithmetic operations that includes addition, \n",
    "#    subtraction, multiplication and division on a string number \n",
    "#    (e.g. \"12 + 24\" or \"23 - 21\" or \"12 // 12\" or \"12 * 21\").\n",
    "import operator\n",
    "def arithmetic_operation(s):\n",
    "    s = s.split()\n",
    "    num1, op, num2 = int(s[0]), s[1], int(s[-1])\n",
    "    if op == '+':\n",
    "        return operator.add(num1, num2)\n",
    "    if op == '-':\n",
    "        return operator.sub(num1, num2)\n",
    "    if op == '*':\n",
    "        return operator.mul(num1, num2)\n",
    "    else:\n",
    "        try:\n",
    "            return operator.floordiv(s[0], s[2])\n",
    "        except:\n",
    "            return -1\n",
    "arithmetic_operation(\"12 // 0\")"
   ]
  },
  {
   "cell_type": "code",
   "execution_count": 12,
   "id": "f75e1c38",
   "metadata": {},
   "outputs": [
    {
     "data": {
      "text/plain": [
       "47.07918859608948"
      ]
     },
     "execution_count": 12,
     "metadata": {},
     "output_type": "execute_result"
    }
   ],
   "source": [
    "#Q2. Write a function that takes the coordinates of three points in the form of a 2d array \n",
    "#    and returns the perimeter of the triangle. The given points are the vertices of a triangle \n",
    "#    on a two-dimensional plane.\n",
    "import math\n",
    "def perimeter(l):\n",
    "    [x1, y1], [x2, y2], [x3, y3] = l\n",
    "    return math.sqrt((x1-x2)**2 + (y1-y2)**2) + math.sqrt((x2-x3)**2 + (y2-y3)**2) + math.sqrt((x1-x3)**2 + (y1-y3)**2)\n",
    "perimeter([[15, 7], [5, 22], [11, 1]])"
   ]
  },
  {
   "cell_type": "code",
   "execution_count": 15,
   "id": "5699a44b",
   "metadata": {},
   "outputs": [
    {
     "data": {
      "text/plain": [
       "2"
      ]
     },
     "execution_count": 15,
     "metadata": {},
     "output_type": "execute_result"
    }
   ],
   "source": [
    "#Q3. A city skyline can be represented as a 2-D list with 1s representing buildings. In the example\n",
    "#    below, the height of the tallest building is 4 (second-most right column).\n",
    "#    [[0, 0, 0, 0, 0, 0],\n",
    "#     [0, 0, 0, 0, 1, 0],\n",
    "#     [0, 0, 1, 0, 1, 0],\n",
    "#     [0, 1, 1, 1, 1, 0],\n",
    "#     [1, 1, 1, 1, 1, 1]]\n",
    "#    Create a function that takes a skyline (2-D list of 0's and 1's) and returns the height of the tallest skyscraper.\n",
    "def tallest_skyscraper(l):\n",
    "    a = len(l)\n",
    "    for i in l:\n",
    "        if i.count(1):\n",
    "            break\n",
    "        a -= 1\n",
    "    return a\n",
    "tallest_skyscraper([\n",
    "  [0, 0, 0, 0],\n",
    "  [0, 0, 0, 0],\n",
    "  [1, 1, 1, 0],\n",
    "  [1, 1, 1, 1]\n",
    "])"
   ]
  },
  {
   "cell_type": "code",
   "execution_count": 28,
   "id": "faa886fa",
   "metadata": {},
   "outputs": [
    {
     "data": {
      "text/plain": [
       "8200"
      ]
     },
     "execution_count": 28,
     "metadata": {},
     "output_type": "execute_result"
    }
   ],
   "source": [
    "#Q4. Write a function to read the billable days of an employee and return the bonus he/she has \n",
    "#    obtained in that quarter.\n",
    "def bonus(day):\n",
    "    a1 = [32, 8, 8]\n",
    "    a2 = [0, 325, 550, 600]\n",
    "    s = 0\n",
    "    x = []\n",
    "    for i in a1:\n",
    "        if day <= i:\n",
    "            x.append(day)\n",
    "            break\n",
    "        x.append(i)\n",
    "        day -= i\n",
    "    else:\n",
    "        x.append(day)\n",
    "    for i in range(len(x)):\n",
    "        s+=x[i]*a2[i]\n",
    "        \n",
    "    return s\n",
    "bonus(50)"
   ]
  },
  {
   "cell_type": "code",
   "execution_count": 19,
   "id": "41a479ad",
   "metadata": {},
   "outputs": [
    {
     "data": {
      "text/plain": [
       "True"
      ]
     },
     "execution_count": 19,
     "metadata": {},
     "output_type": "execute_result"
    }
   ],
   "source": [
    "#Q5. A number is said to be Disarium if the sum of its digits raised to their respective positions \n",
    "#    is the number itself.Create a function that determines whether a number is a Disarium or not.\n",
    "def is_disarium(num):\n",
    "    s = 0\n",
    "    x = 1\n",
    "    for i in str(num):\n",
    "        s += int(i)**x\n",
    "        x+=1\n",
    "    return num == s\n",
    "is_disarium(135)"
   ]
  },
  {
   "cell_type": "code",
   "execution_count": null,
   "id": "5def7fcc",
   "metadata": {},
   "outputs": [],
   "source": []
  }
 ],
 "metadata": {
  "kernelspec": {
   "display_name": "Python 3",
   "language": "python",
   "name": "python3"
  },
  "language_info": {
   "codemirror_mode": {
    "name": "ipython",
    "version": 3
   },
   "file_extension": ".py",
   "mimetype": "text/x-python",
   "name": "python",
   "nbconvert_exporter": "python",
   "pygments_lexer": "ipython3",
   "version": "3.8.10"
  }
 },
 "nbformat": 4,
 "nbformat_minor": 5
}
