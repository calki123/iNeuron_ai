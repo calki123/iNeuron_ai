{
 "cells": [
  {
   "cell_type": "code",
   "execution_count": 2,
   "id": "4a2bc0f7",
   "metadata": {},
   "outputs": [
    {
     "data": {
      "text/plain": [
       "[]"
      ]
     },
     "execution_count": 2,
     "metadata": {},
     "output_type": "execute_result"
    }
   ],
   "source": [
    "#Q1. Create a function that takes three parameters where:\n",
    "#    x is the start of the range (inclusive).\n",
    "#    y is the end of the range (inclusive).\n",
    "#    n is the divisor to be checked against.\n",
    "#    Return an ordered list with numbers in the range that are divisible by the third parameter n. \n",
    "#    Return an empty list if there are no numbers that are divisible by n.\n",
    "def list_operation(x, y, z):\n",
    "    return [i for i in range(x, y+1) if i %z == 0]\n",
    "list_operation(15, 20, 7)"
   ]
  },
  {
   "cell_type": "code",
   "execution_count": 11,
   "id": "b7b4116d",
   "metadata": {},
   "outputs": [
    {
     "data": {
      "text/plain": [
       "False"
      ]
     },
     "execution_count": 11,
     "metadata": {},
     "output_type": "execute_result"
    }
   ],
   "source": [
    "#Q2. Create a function that takes in two lists and returns True if the second list follows the \n",
    "#    first list by one element, and False otherwise. In other words, determine if the second list \n",
    "#    is the first list shifted to the right by 1.\n",
    "def simon_says(l1, l2):\n",
    "    if l1[:-1] == l2[1:]:\n",
    "        return True\n",
    "    return False\n",
    "simon_says([1, 2, 3, 4, 5], [5, 5, 1, 2, 3])"
   ]
  },
  {
   "cell_type": "code",
   "execution_count": 12,
   "id": "a46a63e8",
   "metadata": {},
   "outputs": [
    {
     "data": {
      "text/plain": [
       "'CHLN'"
      ]
     },
     "execution_count": 12,
     "metadata": {},
     "output_type": "execute_result"
    }
   ],
   "source": [
    "#Q3. A group of friends have decided to start a secret society. The name will be the first letter \n",
    "#    of each of their names, sorted in alphabetical order.\n",
    "#    Create a function that takes in a list of names and returns the name of the secret society.\n",
    "def society_name(l):\n",
    "    return ''.join(sorted([i[0] for i in l]))\n",
    "society_name([\"Harry\", \"Newt\", \"Luna\", \"Cho\"])"
   ]
  },
  {
   "cell_type": "code",
   "execution_count": 15,
   "id": "064cc06f",
   "metadata": {},
   "outputs": [
    {
     "data": {
      "text/plain": [
       "True"
      ]
     },
     "execution_count": 15,
     "metadata": {},
     "output_type": "execute_result"
    }
   ],
   "source": [
    "#Q4. An isogram is a word that has no duplicate letters. Create a function that takes a string \n",
    "#    and returns either True or False depending on whether or not it's an \"isogram\".\n",
    "def is_isogram(s):\n",
    "    s = s.lower()\n",
    "    if len(s) == len(set(s)):\n",
    "        return True\n",
    "    return False\n",
    "\n",
    "is_isogram(\"Algorism\")"
   ]
  },
  {
   "cell_type": "code",
   "execution_count": 18,
   "id": "965da761",
   "metadata": {},
   "outputs": [
    {
     "data": {
      "text/plain": [
       "True"
      ]
     },
     "execution_count": 18,
     "metadata": {},
     "output_type": "execute_result"
    }
   ],
   "source": [
    "#Q5. Create a function that takes a string and returns True or False, depending on whether the \n",
    "#    characters are in order or not.\n",
    "def is_in_order(s):\n",
    "    if s == ''.join(sorted(s)):\n",
    "        return True\n",
    "    return False\n",
    "is_in_order(\"123\")"
   ]
  },
  {
   "cell_type": "code",
   "execution_count": null,
   "id": "8c7dcba1",
   "metadata": {},
   "outputs": [],
   "source": []
  }
 ],
 "metadata": {
  "kernelspec": {
   "display_name": "Python 3",
   "language": "python",
   "name": "python3"
  },
  "language_info": {
   "codemirror_mode": {
    "name": "ipython",
    "version": 3
   },
   "file_extension": ".py",
   "mimetype": "text/x-python",
   "name": "python",
   "nbconvert_exporter": "python",
   "pygments_lexer": "ipython3",
   "version": "3.8.5"
  }
 },
 "nbformat": 4,
 "nbformat_minor": 5
}
