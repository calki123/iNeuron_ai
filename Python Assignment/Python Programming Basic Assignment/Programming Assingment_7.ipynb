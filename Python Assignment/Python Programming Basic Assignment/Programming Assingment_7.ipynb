{
 "cells": [
  {
   "cell_type": "code",
   "execution_count": 5,
   "id": "c116fd8a",
   "metadata": {},
   "outputs": [
    {
     "name": "stdout",
     "output_type": "stream",
     "text": [
      "sum is  15\n"
     ]
    }
   ],
   "source": [
    "#Q1. Write a Python Program to find sum of array?\n",
    "l1 = [1,2,3,4,5]\n",
    "print(\"sum is \",sum(l1))"
   ]
  },
  {
   "cell_type": "code",
   "execution_count": 6,
   "id": "70570573",
   "metadata": {},
   "outputs": [
    {
     "name": "stdout",
     "output_type": "stream",
     "text": [
      "largest no is 9\n"
     ]
    }
   ],
   "source": [
    "#Q2. Write a Python Program to find largest element in an array?\n",
    "l2 = [1,2,3,9,5]\n",
    "print(\"largest no is\",max(l2))"
   ]
  },
  {
   "cell_type": "code",
   "execution_count": 15,
   "id": "0e0a94cf",
   "metadata": {},
   "outputs": [
    {
     "name": "stdout",
     "output_type": "stream",
     "text": [
      "Enter how many number do u want to rotate:2\n",
      "[3, 4, 5, 1, 2]\n"
     ]
    }
   ],
   "source": [
    "#Q3. Write a Python Program for array rotation?\n",
    "l3 = [1,2,3,4,5]\n",
    "a3 = int(input(\"Enter how many number do u want to rotate:\"))\n",
    "for i in range(a3):\n",
    "    i = 0\n",
    "    l3.append(l3.pop(i))\n",
    "print(l3)"
   ]
  },
  {
   "cell_type": "code",
   "execution_count": 14,
   "id": "9aca9cd1",
   "metadata": {},
   "outputs": [
    {
     "name": "stdout",
     "output_type": "stream",
     "text": [
      "[3, 4, 5, 1, 2]\n"
     ]
    }
   ],
   "source": [
    "#Q4. Write a Python Program to Split the array and add the first part to the end?\n",
    "l4 = [1,2,3,4,5]\n",
    "for i in range(int(len(l4)/2)):\n",
    "    i=0\n",
    "    l4.append(l4.pop(i))\n",
    "print(l4)"
   ]
  },
  {
   "cell_type": "code",
   "execution_count": 12,
   "id": "3528d7a8",
   "metadata": {},
   "outputs": [
    {
     "name": "stdout",
     "output_type": "stream",
     "text": [
      "list is monotonic\n"
     ]
    }
   ],
   "source": [
    "#Q5. Write a Python Program to check if given array is Monotonic?\n",
    "l5 = [9,5,5,2,1]\n",
    "if sorted(l5) == l5 or list(reversed(sorted(l5))) == l5:\n",
    "    print(\"list is monotonic\")\n",
    "else:\n",
    "    print(\"list is not monotonic\")"
   ]
  }
 ],
 "metadata": {
  "kernelspec": {
   "display_name": "Python 3",
   "language": "python",
   "name": "python3"
  },
  "language_info": {
   "codemirror_mode": {
    "name": "ipython",
    "version": 3
   },
   "file_extension": ".py",
   "mimetype": "text/x-python",
   "name": "python",
   "nbconvert_exporter": "python",
   "pygments_lexer": "ipython3",
   "version": "3.8.5"
  }
 },
 "nbformat": 4,
 "nbformat_minor": 5
}
