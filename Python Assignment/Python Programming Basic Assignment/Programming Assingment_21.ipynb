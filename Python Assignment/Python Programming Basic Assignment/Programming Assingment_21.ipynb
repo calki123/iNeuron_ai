{
 "cells": [
  {
   "cell_type": "code",
   "execution_count": 4,
   "id": "3aef38fe",
   "metadata": {},
   "outputs": [
    {
     "data": {
      "text/plain": [
       "'No list has been selected'"
      ]
     },
     "execution_count": 4,
     "metadata": {},
     "output_type": "execute_result"
    }
   ],
   "source": [
    "#Q1. Write a function that takes a list and a number as arguments. Add the number to the end of the list, \n",
    "#    then remove the first element of the list. The function should then return the updated list.\n",
    "def next_in_line(l, n):\n",
    "    if l:\n",
    "        l.pop(0)\n",
    "        l.append(n)\n",
    "        return l\n",
    "    else:\n",
    "        return \"No list has been selected\"\n",
    "next_in_line([], 6)"
   ]
  },
  {
   "cell_type": "code",
   "execution_count": 11,
   "id": "8e26e194",
   "metadata": {},
   "outputs": [
    {
     "data": {
      "text/plain": [
       "65700"
      ]
     },
     "execution_count": 11,
     "metadata": {},
     "output_type": "execute_result"
    }
   ],
   "source": [
    "#Q2. Create the function that takes a list of dictionaries and returns the sum of people's budgets.\n",
    "import functools\n",
    "def get_budgets(l):\n",
    "    x = [i['budget'] for i in l]\n",
    "    return sum(x)\n",
    "get_budgets([\n",
    "  { \"name\": \"John\", \"age\": 21, \"budget\": 23000 },\n",
    "  { \"name\": \"Steve\",  \"age\": 32, \"budget\": 40000 },\n",
    "  { \"name\": \"Martin\",  \"age\": 16, \"budget\": 2700 }\n",
    "])"
   ]
  },
  {
   "cell_type": "code",
   "execution_count": 14,
   "id": "f9aad436",
   "metadata": {},
   "outputs": [
    {
     "data": {
      "text/plain": [
       "'ehllo'"
      ]
     },
     "execution_count": 14,
     "metadata": {},
     "output_type": "execute_result"
    }
   ],
   "source": [
    "#Q3. Create a function that takes a string and returns a string with its letters in alphabetical order.\n",
    "def alphabet_soup(x):\n",
    "    return ''.join(sorted(x))\n",
    "alphabet_soup(\"hello\")"
   ]
  },
  {
   "cell_type": "code",
   "execution_count": 20,
   "id": "5045274c",
   "metadata": {},
   "outputs": [
    {
     "data": {
      "text/plain": [
       "105.0"
      ]
     },
     "execution_count": 20,
     "metadata": {},
     "output_type": "execute_result"
    }
   ],
   "source": [
    "#Q4. Suppose that you invest $10,000 for 10 years at an interest rate of 6% compounded monthly. \n",
    "#    What will be the value of your investment at the end of the 10 year period?\n",
    "#    Create a function that accepts the principal p, the term in years t, the interest rate r, \n",
    "#    and the number of compounding periods per year n. The function returns the value at the end \n",
    "#    of term rounded to the nearest cent.\n",
    "def compound_interest(p, t, r, n):\n",
    "    x = (1 + (r/n)) ** (n*t)\n",
    "    return round(p*x, 2)\n",
    "compound_interest(100, 1, 0.05, 1)"
   ]
  },
  {
   "cell_type": "code",
   "execution_count": 21,
   "id": "ce1db9e6",
   "metadata": {},
   "outputs": [
    {
     "data": {
      "text/plain": [
       "[9, 2, 16]"
      ]
     },
     "execution_count": 21,
     "metadata": {},
     "output_type": "execute_result"
    }
   ],
   "source": [
    "#Q5. Write a function that takes a list of elements and returns only the integers.\n",
    "def return_only_integer(l):\n",
    "    return list(filter(lambda a: type(a) == int, l))\n",
    "return_only_integer([9, 2, \"space\", \"car\", \"lion\", 16])"
   ]
  },
  {
   "cell_type": "code",
   "execution_count": null,
   "id": "a0ad2a33",
   "metadata": {},
   "outputs": [],
   "source": []
  }
 ],
 "metadata": {
  "kernelspec": {
   "display_name": "Python 3",
   "language": "python",
   "name": "python3"
  },
  "language_info": {
   "codemirror_mode": {
    "name": "ipython",
    "version": 3
   },
   "file_extension": ".py",
   "mimetype": "text/x-python",
   "name": "python",
   "nbconvert_exporter": "python",
   "pygments_lexer": "ipython3",
   "version": "3.8.5"
  }
 },
 "nbformat": 4,
 "nbformat_minor": 5
}
