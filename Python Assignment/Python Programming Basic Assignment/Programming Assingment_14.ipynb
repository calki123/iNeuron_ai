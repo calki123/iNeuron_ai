{
 "cells": [
  {
   "cell_type": "code",
   "execution_count": 1,
   "id": "5f96c333",
   "metadata": {},
   "outputs": [
    {
     "name": "stdout",
     "output_type": "stream",
     "text": [
      "Enter range:100\n",
      "0\n",
      "7\n",
      "14\n",
      "21\n",
      "28\n",
      "35\n",
      "42\n",
      "49\n",
      "56\n",
      "63\n",
      "70\n",
      "77\n",
      "84\n",
      "91\n",
      "98\n"
     ]
    }
   ],
   "source": [
    "#Q1. Define a class with a generator which can iterate the numbers, which are divisible by 7,\n",
    "#    between a given range 0 and n.\n",
    "a1 = int(input(\"Enter range:\"))\n",
    "def generate_divisible(num):\n",
    "    for i in range(num):\n",
    "        if i % 7 == 0:\n",
    "            yield i\n",
    "for i in generate_divisible(a1):\n",
    "    print(i)"
   ]
  },
  {
   "cell_type": "code",
   "execution_count": 15,
   "id": "8724874b",
   "metadata": {},
   "outputs": [
    {
     "name": "stdout",
     "output_type": "stream",
     "text": [
      "input string:New to Python or choosing between Python 2 and Python 3? Read Python 2 or Python 3.\n",
      "{'2': 2, '3.': 1, '3?': 1, 'New': 1, 'Python': 5, 'Read': 1, 'and': 1, 'between': 1, 'choosing': 1, 'or': 2, 'to': 1}\n"
     ]
    }
   ],
   "source": [
    "#Q2. Write a program to compute the frequency of the words from the input.\n",
    "#    The output should output after sorting the key alphanumerically.\n",
    "a2 = input(\"input string:\")\n",
    "dict2 = {}\n",
    "for i in a2.split():\n",
    "    if i in dict2:\n",
    "        dict2[i]+=1\n",
    "    else:\n",
    "        dict2[i]=1\n",
    "        \n",
    "print({key:value for key,value in sorted(dict2.items())})"
   ]
  },
  {
   "cell_type": "code",
   "execution_count": 22,
   "id": "5b3272f4",
   "metadata": {},
   "outputs": [
    {
     "name": "stdout",
     "output_type": "stream",
     "text": [
      "Male\n",
      "Female\n"
     ]
    }
   ],
   "source": [
    "#Q3. Define a class Person and its two child classes: Male and Female. \n",
    "#    All classes have a method \"getGender\" which can print \"Male\" for Male class and \"Female\" for Female class.\n",
    "class Person(object):\n",
    "    def getGender(self):\n",
    "        return ''\n",
    "class Male(Person):\n",
    "    def getGender(self):\n",
    "        return 'Male'\n",
    "class Female(Person):\n",
    "    def getGender(self):\n",
    "        return 'Female'\n",
    "male = Male()\n",
    "female = Female()\n",
    "print(male.getGender())\n",
    "print(female.getGender())"
   ]
  },
  {
   "cell_type": "code",
   "execution_count": 18,
   "id": "c81dbeb6",
   "metadata": {},
   "outputs": [
    {
     "name": "stdout",
     "output_type": "stream",
     "text": [
      "I Play Hockey\n",
      "I Play Football\n",
      "I Love Hockey\n",
      "I Love Football\n",
      "You Play Hockey\n",
      "You Play Football\n",
      "You Love Hockey\n",
      "You Love Football\n"
     ]
    }
   ],
   "source": [
    "#Q4. Please write a program to generate all sentences where subject is in [\"I\", \"You\"] and\n",
    "#    verb is in [\"Play\", \"Love\"] and the object is in [\"Hockey\",\"Football\"].\n",
    "for i in [\"I\", \"You\"]:\n",
    "    for j in [\"Play\", \"Love\"]:\n",
    "        for k in [\"Hockey\",\"Football\"]:\n",
    "            print(i,j,k)"
   ]
  },
  {
   "cell_type": "code",
   "execution_count": 39,
   "id": "41b5d3b7",
   "metadata": {},
   "outputs": [
    {
     "name": "stdout",
     "output_type": "stream",
     "text": [
      "b'x\\x9c\\xcbH\\xcd\\xc9\\xc9W(\\xcf/\\xcaIQ\\xcc \\x82\\r\\x00\\xbd[\\x11\\xf5'\n",
      "b'hello world!hello world!hello world!hello world!'\n"
     ]
    }
   ],
   "source": [
    "#Q5. Please write a program to compress and decompress the string \n",
    "#    \"hello world!hello world!hello world!hello world!\".\n",
    "import zlib\n",
    "import sys\n",
    "a5 = \"hello world!hello world!hello world!hello world!\"\n",
    "a5 = zlib.compress(a5.encode())\n",
    "print(a5)\n",
    "print(zlib.decompress(a5))"
   ]
  },
  {
   "cell_type": "code",
   "execution_count": 2,
   "id": "ad8f5be4",
   "metadata": {},
   "outputs": [
    {
     "name": "stdout",
     "output_type": "stream",
     "text": [
      "Enter which number index do you want: 6\n",
      "6\n"
     ]
    }
   ],
   "source": [
    "#Q6. Please write a binary search function which searches an item in a sorted list.\n",
    "#    The function should return the index of element to be searched in the list.\n",
    "l6 = [0,1,2,3,4,5,6,7,8]\n",
    "a6 = int(input('Enter which number index do you want: '))\n",
    "def binary_search(a1,list1, lower, upper):\n",
    "    try:\n",
    "        mid = lower + (upper - lower)//2\n",
    "        if list1[mid] == a1:\n",
    "            return mid\n",
    "        elif list1[mid] > a1:\n",
    "            result = binary_search(a1, list1, lower, mid-1)\n",
    "            return result\n",
    "        else:\n",
    "            result = binary_search(a1, list1, mid+1, upper)\n",
    "            return result\n",
    "    except:\n",
    "        return 'Number is not available in list.'\n",
    "print(binary_search(a6, l6, 0, len(l6)-1))"
   ]
  },
  {
   "cell_type": "code",
   "execution_count": null,
   "id": "9894ff38",
   "metadata": {},
   "outputs": [],
   "source": []
  }
 ],
 "metadata": {
  "kernelspec": {
   "display_name": "Python 3",
   "language": "python",
   "name": "python3"
  },
  "language_info": {
   "codemirror_mode": {
    "name": "ipython",
    "version": 3
   },
   "file_extension": ".py",
   "mimetype": "text/x-python",
   "name": "python",
   "nbconvert_exporter": "python",
   "pygments_lexer": "ipython3",
   "version": "3.8.5"
  }
 },
 "nbformat": 4,
 "nbformat_minor": 5
}
