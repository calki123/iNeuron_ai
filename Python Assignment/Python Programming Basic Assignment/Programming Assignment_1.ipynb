{
 "cells": [
  {
   "cell_type": "markdown",
   "id": "513e162b",
   "metadata": {},
   "source": [
    "1. Write a Python program to print \"Hello Python\"?"
   ]
  },
  {
   "cell_type": "code",
   "execution_count": 1,
   "id": "05258df3",
   "metadata": {},
   "outputs": [
    {
     "name": "stdout",
     "output_type": "stream",
     "text": [
      "Hello Python\n"
     ]
    }
   ],
   "source": [
    "print(\"Hello Python\")"
   ]
  },
  {
   "cell_type": "markdown",
   "id": "3f26fac9",
   "metadata": {},
   "source": [
    "2. Write a Python program to do arithmetical operations addition and division.?"
   ]
  },
  {
   "cell_type": "code",
   "execution_count": 4,
   "id": "bb9e62cc",
   "metadata": {},
   "outputs": [
    {
     "name": "stdout",
     "output_type": "stream",
     "text": [
      "Enter 1st no:2\n",
      "Enter 2nd no:3\n",
      "addition:  5\n",
      "division:  0.6666666666666666\n"
     ]
    }
   ],
   "source": [
    "a = int(input('Enter 1st no:'))\n",
    "b = int(input('Enter 2nd no:'))\n",
    "print(\"addition: \", a + b)\n",
    "print(\"division: \", a / b)"
   ]
  },
  {
   "cell_type": "markdown",
   "id": "515d2dc7",
   "metadata": {},
   "source": [
    "3. Write a Python program to find the area of a triangle?"
   ]
  },
  {
   "cell_type": "code",
   "execution_count": 5,
   "id": "1617b434",
   "metadata": {},
   "outputs": [
    {
     "name": "stdout",
     "output_type": "stream",
     "text": [
      "enter base:4\n",
      "enter height:2\n",
      "area of triangle is  4.0\n"
     ]
    }
   ],
   "source": [
    "b = float(input(\"enter base:\"))\n",
    "h = float(input(\"enter height:\"))\n",
    "print(\"area of triangle is \", (1/2)*b*h)"
   ]
  },
  {
   "cell_type": "markdown",
   "id": "f1965a1f",
   "metadata": {},
   "source": [
    "4. Write a Python program to swap two variables?"
   ]
  },
  {
   "cell_type": "code",
   "execution_count": 7,
   "id": "fd9adf52",
   "metadata": {},
   "outputs": [
    {
     "name": "stdout",
     "output_type": "stream",
     "text": [
      "enter 1st variable:2\n",
      "enter 2nd variable:3\n",
      "value of 1st is 3 and value of 2nd is 2\n"
     ]
    }
   ],
   "source": [
    "a = input(\"enter 1st variable:\")\n",
    "b = input(\"enter 2nd variable:\")\n",
    "a, b = b, a\n",
    "print(\"value of 1st is \" + a + \" and value of 2nd is \" + b)"
   ]
  },
  {
   "cell_type": "markdown",
   "id": "7d504ba6",
   "metadata": {},
   "source": [
    "5. Write a Python program to generate a random number?"
   ]
  },
  {
   "cell_type": "code",
   "execution_count": 8,
   "id": "1e6cae88",
   "metadata": {},
   "outputs": [
    {
     "name": "stdout",
     "output_type": "stream",
     "text": [
      "random no: 3\n"
     ]
    }
   ],
   "source": [
    "import random\n",
    "print(\"random no:\", random.randint(0, 50))"
   ]
  },
  {
   "cell_type": "code",
   "execution_count": null,
   "id": "f6758e34",
   "metadata": {},
   "outputs": [],
   "source": []
  },
  {
   "cell_type": "code",
   "execution_count": null,
   "id": "c55d50d3",
   "metadata": {},
   "outputs": [],
   "source": []
  }
 ],
 "metadata": {
  "kernelspec": {
   "display_name": "Python 3",
   "language": "python",
   "name": "python3"
  },
  "language_info": {
   "codemirror_mode": {
    "name": "ipython",
    "version": 3
   },
   "file_extension": ".py",
   "mimetype": "text/x-python",
   "name": "python",
   "nbconvert_exporter": "python",
   "pygments_lexer": "ipython3",
   "version": "3.8.5"
  }
 },
 "nbformat": 4,
 "nbformat_minor": 5
}
