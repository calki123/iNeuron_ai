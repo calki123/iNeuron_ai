{
 "cells": [
  {
   "cell_type": "code",
   "execution_count": 1,
   "id": "12d0228b",
   "metadata": {},
   "outputs": [
    {
     "data": {
      "text/plain": [
       "[1,\n",
       " 2,\n",
       " 3,\n",
       " 40,\n",
       " 5,\n",
       " 6,\n",
       " 7,\n",
       " 80,\n",
       " 9,\n",
       " 10,\n",
       " 11,\n",
       " 120,\n",
       " 13,\n",
       " 14,\n",
       " 15,\n",
       " 160,\n",
       " 17,\n",
       " 18,\n",
       " 19,\n",
       " 200,\n",
       " 21,\n",
       " 22,\n",
       " 23,\n",
       " 240,\n",
       " 25]"
      ]
     },
     "execution_count": 1,
     "metadata": {},
     "output_type": "execute_result"
    }
   ],
   "source": [
    "#Q1. Create a function that takes an integer and returns a list from 1 to the given number, where:\n",
    "#    If the number can be divided evenly by 4, amplify it by 10 (i.e. return 10 times the number).\n",
    "#    If the number cannot be divided evenly by 4, simply return the number.\n",
    "def amplify(n):\n",
    "    return [i*10 if i % 4 == 0 else i for i in range(1, n+1)]\n",
    "amplify(25)"
   ]
  },
  {
   "cell_type": "code",
   "execution_count": 2,
   "id": "d57966e5",
   "metadata": {},
   "outputs": [
    {
     "data": {
      "text/plain": [
       "0.77"
      ]
     },
     "execution_count": 2,
     "metadata": {},
     "output_type": "execute_result"
    }
   ],
   "source": [
    "#Q2. Create a function that takes a list of numbers and return the number that's unique.\n",
    "def unique(l):\n",
    "    a = []\n",
    "    for i in l:\n",
    "        if i not in a:\n",
    "            a.append(i)\n",
    "        else:\n",
    "            a.remove(i)\n",
    "    return a[0]\n",
    "unique([0, 0, 0.77, 0, 0])"
   ]
  },
  {
   "cell_type": "code",
   "execution_count": 7,
   "id": "ed2056f6",
   "metadata": {},
   "outputs": [
    {
     "name": "stdout",
     "output_type": "stream",
     "text": [
      "380.1327110843649\n",
      "69.11503837897544\n"
     ]
    }
   ],
   "source": [
    "#Q3. Your task is to create a Circle constructor that creates a circle with a radius provided by an argument. \n",
    "#    The circles constructed must have two getters getArea() (PIr^2) and getPerimeter() (2PI*r).\n",
    "import math\n",
    "class Circle:\n",
    "    def __init__(self, r):\n",
    "        self.r = r\n",
    "    def getArea(self):\n",
    "        return math.pi*self.r*self.r\n",
    "    def getPerimeter(self):\n",
    "        return 2*math.pi*self.r\n",
    "circy = Circle(11)\n",
    "print(circy.getArea())\n",
    "print(circy.getPerimeter())"
   ]
  },
  {
   "cell_type": "code",
   "execution_count": 8,
   "id": "50f88231",
   "metadata": {},
   "outputs": [
    {
     "data": {
      "text/plain": [
       "['Raphael', 'Leonardo', 'Donatello', 'Michelangelo']"
      ]
     },
     "execution_count": 8,
     "metadata": {},
     "output_type": "execute_result"
    }
   ],
   "source": [
    "#Q4. Create a function that takes a list of strings and return a list, sorted from shortest to longest.\n",
    "def sort_by_length(l):\n",
    "    return sorted(l, key=lambda l: len(l))\n",
    "sort_by_length([\"Leonardo\", \"Michelangelo\", \"Raphael\", \"Donatello\"])"
   ]
  },
  {
   "cell_type": "code",
   "execution_count": 10,
   "id": "bb76e0d0",
   "metadata": {},
   "outputs": [
    {
     "data": {
      "text/plain": [
       "False"
      ]
     },
     "execution_count": 10,
     "metadata": {},
     "output_type": "execute_result"
    }
   ],
   "source": [
    "#Q5. Create a function that validates whether three given integers form a Pythagorean triplet. \n",
    "#    The sum of the squares of the two smallest integers must equal the square of the largest number to \n",
    "#    be validated.\n",
    "def is_triplet(a, b, c):\n",
    "    l = [a,b,c]\n",
    "    l = sorted(l)\n",
    "    return True if l[0]**2 + l[1]**2 == l[2]**2 else False\n",
    "is_triplet(3, 4, 6)"
   ]
  },
  {
   "cell_type": "code",
   "execution_count": null,
   "id": "e9e70dad",
   "metadata": {},
   "outputs": [],
   "source": []
  }
 ],
 "metadata": {
  "kernelspec": {
   "display_name": "Python 3",
   "language": "python",
   "name": "python3"
  },
  "language_info": {
   "codemirror_mode": {
    "name": "ipython",
    "version": 3
   },
   "file_extension": ".py",
   "mimetype": "text/x-python",
   "name": "python",
   "nbconvert_exporter": "python",
   "pygments_lexer": "ipython3",
   "version": "3.8.5"
  }
 },
 "nbformat": 4,
 "nbformat_minor": 5
}
