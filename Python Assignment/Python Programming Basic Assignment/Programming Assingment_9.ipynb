{
 "cells": [
  {
   "cell_type": "code",
   "execution_count": 2,
   "id": "a79c7988",
   "metadata": {},
   "outputs": [
    {
     "name": "stdout",
     "output_type": "stream",
     "text": [
      "ENter no:10\n"
     ]
    }
   ],
   "source": [
    "#Q1. Write a Python program to check if the given number is a Disarium Number?\n",
    "a1 = int(input(\"ENter no:\"))\n",
    "sum1 = 0\n",
    "x1 = 1\n",
    "for i in (str(a1)):\n",
    "    sum1+=int(i)**x1\n",
    "    x1+=1\n",
    "if a1 == int(sum1):\n",
    "    print(\"number is disarium\")"
   ]
  },
  {
   "cell_type": "code",
   "execution_count": 3,
   "id": "5ad8c61e",
   "metadata": {},
   "outputs": [
    {
     "name": "stdout",
     "output_type": "stream",
     "text": [
      "1\n",
      "2\n",
      "3\n",
      "4\n",
      "5\n",
      "6\n",
      "7\n",
      "8\n",
      "9\n",
      "89\n"
     ]
    }
   ],
   "source": [
    "#Q2. Write a Python program to print all disarium numbers between 1 to 100?\n",
    "for i in range(1,100):\n",
    "    sum2=0\n",
    "    for j in range(len(str(i))):\n",
    "        sum2+= int(str(i)[j])**(j+1)\n",
    "    if i == int(sum2):\n",
    "        print(i)"
   ]
  },
  {
   "cell_type": "code",
   "execution_count": 4,
   "id": "890b07e1",
   "metadata": {},
   "outputs": [
    {
     "name": "stdout",
     "output_type": "stream",
     "text": [
      "Enter no:10\n",
      "number is happy number\n"
     ]
    }
   ],
   "source": [
    "#Q3. Write a Python program to check if the given number is Happy Number?\n",
    "a3 = int(input(\"Enter no:\"))\n",
    "def happy_no(num3):\n",
    "    sum3=0\n",
    "    for i in str(num3):\n",
    "        sum3+=int(i)**2\n",
    "    return sum3\n",
    "result = a3\n",
    "while result != 1 and result != 4:\n",
    "    result = happy_no(result)\n",
    "if result == 1:\n",
    "    print(\"number is happy number\")\n",
    "elif result == 4:\n",
    "    print(\"number is not hhappy number\")"
   ]
  },
  {
   "cell_type": "code",
   "execution_count": 5,
   "id": "c11f4da5",
   "metadata": {},
   "outputs": [
    {
     "name": "stdout",
     "output_type": "stream",
     "text": [
      "[1, 7, 10, 13, 19, 23, 28, 31, 32, 44, 49, 68, 70, 79, 82, 86, 91, 94, 97, 100]\n"
     ]
    }
   ],
   "source": [
    "#Q4. Write a Python program to print all happy numbers between 1 and 100?\n",
    "def happy_no(num4):\n",
    "    sum4=0\n",
    "    for i in str(num4):\n",
    "        sum4+=int(i)**2\n",
    "    return sum4\n",
    "list4 = []\n",
    "for i in range(1,101):\n",
    "    result = i\n",
    "\n",
    "    while result != 1 and result != 4:\n",
    "        result = happy_no(result)\n",
    "    if result == 1:\n",
    "        list4.append(i)\n",
    "print(list4)"
   ]
  },
  {
   "cell_type": "code",
   "execution_count": 15,
   "id": "8fa10284",
   "metadata": {},
   "outputs": [
    {
     "name": "stdout",
     "output_type": "stream",
     "text": [
      "Enter no:18\n",
      "number is harshad no.\n"
     ]
    }
   ],
   "source": [
    "#Q5. Write a Python program to determine whether the given number is a Harshad Number?\n",
    "a5 = int(input(\"Enter no:\"))\n",
    "sum_of_number = sum([int(i) for i in str(a5)])\n",
    "if a5 % sum_of_number == 0:\n",
    "    print(\"number is harshad no.\")"
   ]
  },
  {
   "cell_type": "code",
   "execution_count": 30,
   "id": "b5309a9d",
   "metadata": {},
   "outputs": [
    {
     "name": "stdout",
     "output_type": "stream",
     "text": [
      "2\n",
      "6\n",
      "12\n",
      "20\n",
      "30\n",
      "42\n",
      "56\n",
      "72\n",
      "90\n"
     ]
    }
   ],
   "source": [
    "#Q6. Write a Python program to print all pronic numbers between 1 and 100?\n",
    "for i in range(1,101):\n",
    "    for j in range(1,i+1):\n",
    "        if j*(j+1) == i:\n",
    "            print(i)"
   ]
  },
  {
   "cell_type": "code",
   "execution_count": null,
   "id": "85beba94",
   "metadata": {},
   "outputs": [],
   "source": []
  }
 ],
 "metadata": {
  "kernelspec": {
   "display_name": "Python 3",
   "language": "python",
   "name": "python3"
  },
  "language_info": {
   "codemirror_mode": {
    "name": "ipython",
    "version": 3
   },
   "file_extension": ".py",
   "mimetype": "text/x-python",
   "name": "python",
   "nbconvert_exporter": "python",
   "pygments_lexer": "ipython3",
   "version": "3.8.5"
  }
 },
 "nbformat": 4,
 "nbformat_minor": 5
}
