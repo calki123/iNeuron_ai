{
 "cells": [
  {
   "cell_type": "code",
   "execution_count": 1,
   "id": "b054ef7c",
   "metadata": {},
   "outputs": [
    {
     "name": "stdout",
     "output_type": "stream",
     "text": [
      "[[2, 4], [6, 8]]\n"
     ]
    }
   ],
   "source": [
    "#Q1. Write a Python Program to Add Two Matrices?\n",
    "m1 = [[1,2],\n",
    "      [3,4]]\n",
    "m2 = [[1,2],\n",
    "      [3,4]]\n",
    "result1 = [[0,0],\n",
    "           [0,0]]\n",
    "for i in range(len(m1)):\n",
    "    for j in range(len(m2)):\n",
    "        result1[i][j] = m1[i][j] + m2[i][j]\n",
    "print(result1)"
   ]
  },
  {
   "cell_type": "code",
   "execution_count": 2,
   "id": "e9f356bf",
   "metadata": {},
   "outputs": [
    {
     "name": "stdout",
     "output_type": "stream",
     "text": [
      "[[7, 10], [15, 22]]\n"
     ]
    }
   ],
   "source": [
    "#Q2. Write a Python Program to Multiply Two Matrices?\n",
    "m1 = [[1,2],\n",
    "      [3,4]]\n",
    "m2 = [[1,2],\n",
    "      [3,4]]\n",
    "result1 = [[0,0],\n",
    "           [0,0]]\n",
    "for i in range(len(m1)):\n",
    "    for j in range(len(m2[0])):\n",
    "        for k in range(len(m2)):\n",
    "            result1[i][j] += m1[i][k] * m2[k][j]\n",
    "print(result1)"
   ]
  },
  {
   "cell_type": "code",
   "execution_count": 3,
   "id": "10fffd64",
   "metadata": {},
   "outputs": [
    {
     "name": "stdout",
     "output_type": "stream",
     "text": [
      "[(1, 3), (2, 4)]\n"
     ]
    }
   ],
   "source": [
    "#Q3. Write a Python Program to Transpose a Matrix?\n",
    "m1 = [[1,2],\n",
    "      [3,4]]\n",
    "print(list(zip(*m1)))"
   ]
  },
  {
   "cell_type": "code",
   "execution_count": 4,
   "id": "b915f9f3",
   "metadata": {},
   "outputs": [
    {
     "name": "stdout",
     "output_type": "stream",
     "text": [
      "['and', 'he', 'hello', 'said', 'went']\n"
     ]
    }
   ],
   "source": [
    "#Q4. Write a Python Program to Sort Words in Alphabetic Order?\n",
    "a4 = \"Hello he said and went\"\n",
    "x4 = sorted([i.lower() for i in a4.split()])\n",
    "print(x4)"
   ]
  },
  {
   "cell_type": "code",
   "execution_count": 5,
   "id": "b862b2fa",
   "metadata": {},
   "outputs": [
    {
     "name": "stdout",
     "output_type": "stream",
     "text": [
      "Hello he said and went\n"
     ]
    }
   ],
   "source": [
    "#Q5. Write a Python Program to Remove Punctuation From a String?\n",
    "punctuations = '''!()-[]{};:'\"\\,<>./?@#$%^&*_~'''\n",
    "my_string = \"Hello!!!, he said ---and went.\"\n",
    "for i in my_string:\n",
    "    if i in punctuations:\n",
    "        my_string = my_string.replace(i, \"\")\n",
    "print(my_string)"
   ]
  },
  {
   "cell_type": "code",
   "execution_count": null,
   "id": "b5ef2df3",
   "metadata": {},
   "outputs": [],
   "source": []
  }
 ],
 "metadata": {
  "kernelspec": {
   "display_name": "Python 3",
   "language": "python",
   "name": "python3"
  },
  "language_info": {
   "codemirror_mode": {
    "name": "ipython",
    "version": 3
   },
   "file_extension": ".py",
   "mimetype": "text/x-python",
   "name": "python",
   "nbconvert_exporter": "python",
   "pygments_lexer": "ipython3",
   "version": "3.8.5"
  }
 },
 "nbformat": 4,
 "nbformat_minor": 5
}
