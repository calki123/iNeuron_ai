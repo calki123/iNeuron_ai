{
 "cells": [
  {
   "cell_type": "code",
   "execution_count": 13,
   "id": "8ed2082b",
   "metadata": {},
   "outputs": [
    {
     "name": "stdout",
     "output_type": "stream",
     "text": [
      "Enter input: st,100,150,180\n",
      "18,22,24\n"
     ]
    }
   ],
   "source": [
    "#Q1. Write a program that calculates and prints the value according to the given formula:\n",
    "#    Q = Square root of [(2 * C * D)/H]\n",
    "#    Following are the fixed values of C and H: C is 50. H is 30.\n",
    "#    D is the variable whose values should be input to your program in a comma-separated sequence.\n",
    "c = 50\n",
    "h = 30\n",
    "a1 = input(\"Enter input: \")\n",
    "def calculate_q(num):\n",
    "    for i in num.split(','):\n",
    "        try:\n",
    "            q = ((2*c*int(i))/h)**0.5\n",
    "            yield int(q)\n",
    "        except:\n",
    "            pass\n",
    "print(','.join(map(str,list(calculate_q(a1)))))"
   ]
  },
  {
   "cell_type": "code",
   "execution_count": 8,
   "id": "b0e83390",
   "metadata": {},
   "outputs": [
    {
     "name": "stdout",
     "output_type": "stream",
     "text": [
      "Enter how many row:3\n",
      "Enter how many column:5\n",
      "[[0, 0, 0, 0, 0], [0, 1, 2, 3, 4], [0, 2, 4, 6, 8]]\n"
     ]
    }
   ],
   "source": [
    "#Q2. Write a program which takes 2 digits, X,Y as input and generates a 2-dimensional array. \n",
    "#    The element value in the i-th row and j-th column of the array should be i*j.\n",
    "row = int(input(\"Enter how many row:\"))\n",
    "column = int(input(\"Enter how many column:\"))\n",
    "x1 = [[0 for i in range(column)] for j in range(row)]\n",
    "for i in range(row):\n",
    "    for j in range(column):\n",
    "        x1[i][j] = i*j\n",
    "print(x1)"
   ]
  },
  {
   "cell_type": "code",
   "execution_count": 20,
   "id": "6923d3ea",
   "metadata": {},
   "outputs": [
    {
     "name": "stdout",
     "output_type": "stream",
     "text": [
      "Enter words:without,hello,bag,world\n",
      "bag,hello,without,world\n"
     ]
    }
   ],
   "source": [
    "#Q3. Write a program that accepts a comma separated sequence of words as input and prints \n",
    "#    the words in a comma-separated sequence after sorting them alphabetically.\n",
    "a3 = input(\"Enter words:\")\n",
    "a3 = [i.lower() for i in a3.split(',')]\n",
    "print(','.join(sorted(a3)))"
   ]
  },
  {
   "cell_type": "code",
   "execution_count": 26,
   "id": "90c26be8",
   "metadata": {},
   "outputs": [
    {
     "name": "stdout",
     "output_type": "stream",
     "text": [
      "Enter words:hello world and practice makes perfect and hello world again\n",
      "again and hello makes perfect practice world\n"
     ]
    }
   ],
   "source": [
    "#Q4. Write a program that accepts a sequence of whitespace separated words as input and \n",
    "#    prints the words after removing all duplicate words and sorting them alphanumerically.\n",
    "a4 = input(\"Enter words:\")\n",
    "a4 = [i.lower() for i in a4.split()]\n",
    "print(' '.join(sorted(list(set(a4)))))"
   ]
  },
  {
   "cell_type": "code",
   "execution_count": 31,
   "id": "35c2830e",
   "metadata": {},
   "outputs": [
    {
     "name": "stdout",
     "output_type": "stream",
     "text": [
      "Enter sentence:hello world! 123\n",
      "digit 3\n",
      "letter 10\n"
     ]
    }
   ],
   "source": [
    "#Q5. Write a program that accepts a sentence and calculate the number of letters and digits.\n",
    "a5 = input(\"Enter sentence:\")\n",
    "print(\"digit\",sum(c.isdigit() for c in a5))\n",
    "print(\"letter\",sum(c.isalpha() for c in a5))"
   ]
  },
  {
   "cell_type": "code",
   "execution_count": 39,
   "id": "5dccebc4",
   "metadata": {},
   "outputs": [
    {
     "name": "stdout",
     "output_type": "stream",
     "text": [
      "Enter password:ABd1234@1,a F1#,2w3E*,2asas#\n",
      "ABd1234@1\n"
     ]
    }
   ],
   "source": [
    "#Q6. A website requires the users to input username and password to register. \n",
    "#    Write a program to check the validity of password input by users.\n",
    "import re\n",
    "a6 = input(\"Enter password:\")\n",
    "l6 = []\n",
    "for i in a6.split(','):\n",
    "    reg = \"^(?=.*[a-z])(?=.*[A-Z])(?=.*\\d)(?=.*[@$#])[A-Za-z\\d@$!#%*?&]{6,12}$\"\n",
    "    pat = re.compile(reg)\n",
    "    mat = re.search(pat, i)\n",
    "    if mat:\n",
    "        l6.append(i)\n",
    "print(','.join(l6))"
   ]
  },
  {
   "cell_type": "code",
   "execution_count": null,
   "id": "9154423a",
   "metadata": {},
   "outputs": [],
   "source": []
  }
 ],
 "metadata": {
  "kernelspec": {
   "display_name": "Python 3",
   "language": "python",
   "name": "python3"
  },
  "language_info": {
   "codemirror_mode": {
    "name": "ipython",
    "version": 3
   },
   "file_extension": ".py",
   "mimetype": "text/x-python",
   "name": "python",
   "nbconvert_exporter": "python",
   "pygments_lexer": "ipython3",
   "version": "3.8.5"
  }
 },
 "nbformat": 4,
 "nbformat_minor": 5
}
