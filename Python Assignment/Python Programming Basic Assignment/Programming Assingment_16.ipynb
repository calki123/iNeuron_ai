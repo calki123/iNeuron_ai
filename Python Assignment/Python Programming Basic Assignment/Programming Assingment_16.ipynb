{
 "cells": [
  {
   "cell_type": "code",
   "execution_count": 2,
   "id": "e092e0f9",
   "metadata": {},
   "outputs": [
    {
     "data": {
      "text/plain": [
       "'in... in... incredible?'"
      ]
     },
     "execution_count": 2,
     "metadata": {},
     "output_type": "execute_result"
    }
   ],
   "source": [
    "#Q1. Write a function that stutters a word as if someone is struggling to read it. \n",
    "#    The first two letters are repeated twice with an ellipsis ... and space after each, \n",
    "#    and then the word is pronounced with a question mark ?.\n",
    "def stutter(word):\n",
    "    if len(word) > 1:\n",
    "        return ((word[:2]+'... ')*2)+word+'?'\n",
    "stutter(\"incredible\")"
   ]
  },
  {
   "cell_type": "code",
   "execution_count": 4,
   "id": "bec9733b",
   "metadata": {},
   "outputs": [
    {
     "data": {
      "text/plain": [
       "2864.7889756541163"
      ]
     },
     "execution_count": 4,
     "metadata": {},
     "output_type": "execute_result"
    }
   ],
   "source": [
    "#Q2. Create a function that takes an angle in radians and returns the corresponding angle \n",
    "#    in degrees rounded to one decimal place.\n",
    "import math\n",
    "def radians_to_degrees(angle):\n",
    "    return angle*(180/math.pi)\n",
    "radians_to_degrees(50)"
   ]
  },
  {
   "cell_type": "code",
   "execution_count": 7,
   "id": "7e46c3c1",
   "metadata": {},
   "outputs": [
    {
     "data": {
      "text/plain": [
       "False"
      ]
     },
     "execution_count": 7,
     "metadata": {},
     "output_type": "execute_result"
    }
   ],
   "source": [
    "#Q3. In this challenge, establish if a given integer num is a Curzon number. \n",
    "#    If 1 plus 2 elevated to num is exactly divisible by 1 plus 2 multiplied by num, then num is a Curzon number.\n",
    "#    Given a non-negative integer num, implement a function that returns True if num is a Curzon number, or False otherwise.\n",
    "def is_curzon(num):\n",
    "    if int((2**num+1)/(2*num+1)) == (2**num+1)/(2*num+1):\n",
    "        return True\n",
    "    else:\n",
    "        return False\n",
    "is_curzon(10)"
   ]
  },
  {
   "cell_type": "code",
   "execution_count": 8,
   "id": "2bd19596",
   "metadata": {},
   "outputs": [
    {
     "data": {
      "text/plain": [
       "23.382685902179844"
      ]
     },
     "execution_count": 8,
     "metadata": {},
     "output_type": "execute_result"
    }
   ],
   "source": [
    "#Q4. Given the side length x find the area of a hexagon.\n",
    "def area_of_hexagon(num):\n",
    "    return (3*(3**0.5)*(num**2))/2\n",
    "area_of_hexagon(3)"
   ]
  },
  {
   "cell_type": "code",
   "execution_count": 11,
   "id": "78989c74",
   "metadata": {},
   "outputs": [
    {
     "data": {
      "text/plain": [
       "'1010'"
      ]
     },
     "execution_count": 11,
     "metadata": {},
     "output_type": "execute_result"
    }
   ],
   "source": [
    "#Q5. Create a function that returns a base-2 (binary) representation of a base-10 (decimal) string number. \n",
    "#    To convert is simple: ((2) means base-2 and (10) means base-10) 010101001(2) = 1 + 8 + 32 + 128.\n",
    "def decimal_to_binary(num):\n",
    "    return bin(num)[2:]\n",
    "decimal_to_binary(10)"
   ]
  },
  {
   "cell_type": "code",
   "execution_count": null,
   "id": "c24951ff",
   "metadata": {},
   "outputs": [],
   "source": []
  }
 ],
 "metadata": {
  "kernelspec": {
   "display_name": "Python 3",
   "language": "python",
   "name": "python3"
  },
  "language_info": {
   "codemirror_mode": {
    "name": "ipython",
    "version": 3
   },
   "file_extension": ".py",
   "mimetype": "text/x-python",
   "name": "python",
   "nbconvert_exporter": "python",
   "pygments_lexer": "ipython3",
   "version": "3.8.5"
  }
 },
 "nbformat": 4,
 "nbformat_minor": 5
}
