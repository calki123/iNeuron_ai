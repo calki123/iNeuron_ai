{
 "cells": [
  {
   "cell_type": "markdown",
   "id": "b7e31471",
   "metadata": {},
   "source": [
    "1. Write a Python Program to Find the Factorial of a Number?"
   ]
  },
  {
   "cell_type": "code",
   "execution_count": 16,
   "id": "72132f19",
   "metadata": {},
   "outputs": [
    {
     "name": "stdout",
     "output_type": "stream",
     "text": [
      "Enter no:5\n",
      "120\n"
     ]
    }
   ],
   "source": [
    "a = int(input('Enter no:'))\n",
    "factorial = 1\n",
    "if a < 0:\n",
    "    print(\"sorry!!\")\n",
    "else:    \n",
    "    for i in range(1,a+1):\n",
    "        factorial = factorial * i\n",
    "    print(factorial)"
   ]
  },
  {
   "cell_type": "markdown",
   "id": "86d978e7",
   "metadata": {},
   "source": [
    "2. Write a Python Program to Display the multiplication Table?"
   ]
  },
  {
   "cell_type": "code",
   "execution_count": 19,
   "id": "75618bc7",
   "metadata": {},
   "outputs": [
    {
     "name": "stdout",
     "output_type": "stream",
     "text": [
      "enter no:5\n",
      "5  *  1 = 5\n",
      "5  *  2 = 10\n",
      "5  *  3 = 15\n",
      "5  *  4 = 20\n",
      "5  *  5 = 25\n",
      "5  *  6 = 30\n",
      "5  *  7 = 35\n",
      "5  *  8 = 40\n",
      "5  *  9 = 45\n",
      "5  *  10 = 50\n"
     ]
    }
   ],
   "source": [
    "a = int(input(\"enter no:\"))\n",
    "for i in range(1,11):\n",
    "    print(a,\" * \", i ,\"=\",a*i )"
   ]
  },
  {
   "cell_type": "markdown",
   "id": "a2a9fc10",
   "metadata": {},
   "source": [
    "3. Write a Python Program to Print the Fibonacci sequence?"
   ]
  },
  {
   "cell_type": "code",
   "execution_count": 22,
   "id": "b77c8a06",
   "metadata": {},
   "outputs": [
    {
     "name": "stdout",
     "output_type": "stream",
     "text": [
      "how many number you want to print: 6\n",
      "0\n",
      "1\n",
      "1\n",
      "2\n",
      "3\n",
      "5\n"
     ]
    }
   ],
   "source": [
    "a = int(input(\"how many number you want to print: \"))\n",
    "x1 = 0\n",
    "x2 = 1\n",
    "sum = 0\n",
    "for i in range(1,a+1):\n",
    "    print(sum)\n",
    "    x1 = x2\n",
    "    x2 = sum\n",
    "    sum = x1 + x2\n",
    "    "
   ]
  },
  {
   "cell_type": "markdown",
   "id": "f94520a1",
   "metadata": {},
   "source": [
    "4. Write a Python Program to Check Armstrong Number?"
   ]
  },
  {
   "cell_type": "code",
   "execution_count": 20,
   "id": "3794cf17",
   "metadata": {},
   "outputs": [
    {
     "name": "stdout",
     "output_type": "stream",
     "text": [
      "Enter no to check: 1634\n",
      "1634  is armstrong number.\n"
     ]
    }
   ],
   "source": [
    "a = int(input(\"Enter no to check: \"))\n",
    "b = 0\n",
    "for i in str(a):\n",
    "    b+=int(i)**len(str(a))\n",
    "if a==b:\n",
    "    print(a,\" is armstrong number.\")"
   ]
  },
  {
   "cell_type": "markdown",
   "id": "e46c8dca",
   "metadata": {},
   "source": [
    "5. Write a Python Program to Find Armstrong Number in an Interval?"
   ]
  },
  {
   "cell_type": "code",
   "execution_count": 22,
   "id": "179844c5",
   "metadata": {},
   "outputs": [
    {
     "name": "stdout",
     "output_type": "stream",
     "text": [
      "Enter lower interval:100\n",
      "Enter uppar interval:2000\n",
      "[153, 370, 371, 407, 1634]\n"
     ]
    }
   ],
   "source": [
    "a1 = int(input(\"Enter lower interval:\"))\n",
    "a2 = int(input(\"Enter uppar interval:\"))\n",
    "list1 = []\n",
    "for i in range(a1, a2+1):\n",
    "    sum1 = 0\n",
    "    for j in str(i):\n",
    "        sum1+=int(j)**len(str(i))\n",
    "    if sum1 == i:\n",
    "        list1.append(i)\n",
    "print(list1)"
   ]
  },
  {
   "cell_type": "markdown",
   "id": "31f13202",
   "metadata": {},
   "source": [
    "6. Write a Python Program to Find the Sum of Natural Numbers?"
   ]
  },
  {
   "cell_type": "code",
   "execution_count": 26,
   "id": "51fd39fc",
   "metadata": {},
   "outputs": [
    {
     "name": "stdout",
     "output_type": "stream",
     "text": [
      "Enter how many number's sum you want: 16\n",
      "136\n"
     ]
    }
   ],
   "source": [
    "a3 = int(input(\"Enter how many number's sum you want: \"))\n",
    "sum2 = 0\n",
    "if a3 <= 0:\n",
    "    print(\"plz enter positive number\")\n",
    "else:\n",
    "    for i in range(1, a3+1):\n",
    "        sum2+=i\n",
    "    print(sum2)"
   ]
  },
  {
   "cell_type": "code",
   "execution_count": null,
   "id": "73b1b686",
   "metadata": {},
   "outputs": [],
   "source": []
  }
 ],
 "metadata": {
  "kernelspec": {
   "display_name": "Python 3",
   "language": "python",
   "name": "python3"
  },
  "language_info": {
   "codemirror_mode": {
    "name": "ipython",
    "version": 3
   },
   "file_extension": ".py",
   "mimetype": "text/x-python",
   "name": "python",
   "nbconvert_exporter": "python",
   "pygments_lexer": "ipython3",
   "version": "3.8.5"
  }
 },
 "nbformat": 4,
 "nbformat_minor": 5
}
