{
 "cells": [
  {
   "cell_type": "markdown",
   "id": "7d76f2e4",
   "metadata": {},
   "source": [
    "1. Write a Python program to convert kilometers to miles?"
   ]
  },
  {
   "cell_type": "code",
   "execution_count": 1,
   "id": "6692bc05",
   "metadata": {},
   "outputs": [
    {
     "name": "stdout",
     "output_type": "stream",
     "text": [
      "enter kilometers:5\n",
      "miles:  3.1069999999999998\n"
     ]
    }
   ],
   "source": [
    "a = float(input(\"enter kilometers:\"))\n",
    "print(\"miles: \", a * 0.6214)"
   ]
  },
  {
   "cell_type": "markdown",
   "id": "20657e80",
   "metadata": {},
   "source": [
    "2. Write a Python program to convert Celsius to Fahrenheit?"
   ]
  },
  {
   "cell_type": "code",
   "execution_count": 2,
   "id": "8b4aa449",
   "metadata": {},
   "outputs": [
    {
     "name": "stdout",
     "output_type": "stream",
     "text": [
      "Enter celsius: 5\n",
      "Fahrenheit:  41.0\n"
     ]
    }
   ],
   "source": [
    "c = float(input('Enter celsius: '))\n",
    "print(\"Fahrenheit: \", (c * 9/5) + 32)"
   ]
  },
  {
   "cell_type": "markdown",
   "id": "d2cbfeca",
   "metadata": {},
   "source": [
    "3. Write a Python program to display calendar?"
   ]
  },
  {
   "cell_type": "code",
   "execution_count": 3,
   "id": "1f5f57e3",
   "metadata": {},
   "outputs": [
    {
     "name": "stdout",
     "output_type": "stream",
     "text": [
      "enter year: 5\n",
      "enter month: 5\n",
      "       May 5\n",
      "Mo Tu We Th Fr Sa Su\n",
      "                   1\n",
      " 2  3  4  5  6  7  8\n",
      " 9 10 11 12 13 14 15\n",
      "16 17 18 19 20 21 22\n",
      "23 24 25 26 27 28 29\n",
      "30 31\n",
      "\n"
     ]
    }
   ],
   "source": [
    "import calendar\n",
    "y = int(input(\"enter year: \"))\n",
    "m = int(input(\"enter month: \"))\n",
    "print(calendar.month(y,m))"
   ]
  },
  {
   "cell_type": "markdown",
   "id": "d57e174c",
   "metadata": {},
   "source": [
    "4. Write a Python program to solve quadratic equation?"
   ]
  },
  {
   "cell_type": "code",
   "execution_count": 7,
   "id": "6cc27c0c",
   "metadata": {},
   "outputs": [
    {
     "name": "stdout",
     "output_type": "stream",
     "text": [
      "a: 5\n",
      "b: 6\n",
      "c: 1\n",
      "-0.2\n",
      "-1.0\n"
     ]
    }
   ],
   "source": [
    "import math\n",
    "a = float(input(\"a: \"))\n",
    "b = float(input(\"b: \"))\n",
    "c = float(input(\"c: \"))\n",
    "x = b * b - 4 * a * c\n",
    "if x == 0:\n",
    "    print(-b/(2*a))\n",
    "elif x > 0:\n",
    "    print((-b + math.sqrt(x))/(2 * a))\n",
    "    print((-b - math.sqrt(x))/(2 * a))\n",
    "else:\n",
    "    print(str(-b/(2 * a)) + '+' + str((math.sqrt(abs(x)))/(2 * a)) + 'i')\n",
    "    print(str(-b/(2 * a)) + '+' + str((math.sqrt(abs(x)))/(2 * a)) + 'j')"
   ]
  },
  {
   "cell_type": "markdown",
   "id": "667f6964",
   "metadata": {},
   "source": [
    "5. Write a Python program to swap two variables without temp variable?"
   ]
  },
  {
   "cell_type": "code",
   "execution_count": 5,
   "id": "9e6f977b",
   "metadata": {},
   "outputs": [
    {
     "name": "stdout",
     "output_type": "stream",
     "text": [
      "a: 5\n",
      "b: 3\n",
      "a:  3  b:  5\n"
     ]
    }
   ],
   "source": [
    "a = int(input(\"a: \"))\n",
    "b = int(input(\"b: \"))\n",
    "a, b = b, a\n",
    "print(\"a: \", a, \" b: \", b)"
   ]
  },
  {
   "cell_type": "code",
   "execution_count": null,
   "id": "3d388e55",
   "metadata": {},
   "outputs": [],
   "source": []
  }
 ],
 "metadata": {
  "kernelspec": {
   "display_name": "Python 3",
   "language": "python",
   "name": "python3"
  },
  "language_info": {
   "codemirror_mode": {
    "name": "ipython",
    "version": 3
   },
   "file_extension": ".py",
   "mimetype": "text/x-python",
   "name": "python",
   "nbconvert_exporter": "python",
   "pygments_lexer": "ipython3",
   "version": "3.8.5"
  }
 },
 "nbformat": 4,
 "nbformat_minor": 5
}
