{
 "cells": [
  {
   "cell_type": "code",
   "execution_count": 31,
   "id": "07475356",
   "metadata": {},
   "outputs": [
    {
     "name": "stdout",
     "output_type": "stream",
     "text": [
      "Enter no:10\n",
      "0\n",
      "1\n",
      "1\n",
      "2\n",
      "3\n",
      "5\n",
      "8\n",
      "13\n",
      "21\n",
      "34\n"
     ]
    }
   ],
   "source": [
    "#Q1. Write a Python Program to Display Fibonacci Sequence Using Recursion?\n",
    "n1 = int(input(\"Enter no:\"))\n",
    "def fibonacci(num):\n",
    "    if num <= 1:\n",
    "        return num\n",
    "    else:\n",
    "        return fibonacci(num-1)+fibonacci(num-2)\n",
    "for i in range(n1):\n",
    "    print(fibonacci(i))"
   ]
  },
  {
   "cell_type": "code",
   "execution_count": 17,
   "id": "3809b3cc",
   "metadata": {},
   "outputs": [
    {
     "name": "stdout",
     "output_type": "stream",
     "text": [
      "Enter no:7\n",
      "5040\n"
     ]
    }
   ],
   "source": [
    "#Q2. Write a Python Program to Find Factorial of Number Using Recursion?\n",
    "n2 = int(input(\"Enter no:\"))\n",
    "def factorial(num):\n",
    "    if num == 1:\n",
    "        return num\n",
    "    else:\n",
    "        return num*factorial(num-1)\n",
    "print(factorial(n2))"
   ]
  },
  {
   "cell_type": "code",
   "execution_count": 12,
   "id": "140a2988",
   "metadata": {},
   "outputs": [
    {
     "name": "stdout",
     "output_type": "stream",
     "text": [
      "Enter weight(in kg):80\n",
      "Enter height(in metre):5\n",
      "BMI is  3.2\n"
     ]
    }
   ],
   "source": [
    "#Q3. Write a Python Program to calculate your Body Mass Index?\n",
    "weight = float(input(\"Enter weight(in kg):\"))\n",
    "height = float(input(\"Enter height(in metre):\"))\n",
    "print(\"BMI is \", (weight/(height**2)))"
   ]
  },
  {
   "cell_type": "code",
   "execution_count": 8,
   "id": "b1ff53e8",
   "metadata": {},
   "outputs": [
    {
     "name": "stdout",
     "output_type": "stream",
     "text": [
      "Enter no:5\n",
      "log of number is  1.6094379124341003\n"
     ]
    }
   ],
   "source": [
    "#Q4. Write a Python Program to calculate the natural logarithm of any number?\n",
    "import math\n",
    "n4 = float(input(\"Enter no:\"))\n",
    "print(\"log of number is \",math.log(n4))"
   ]
  },
  {
   "cell_type": "code",
   "execution_count": 7,
   "id": "1dcc8778",
   "metadata": {},
   "outputs": [
    {
     "name": "stdout",
     "output_type": "stream",
     "text": [
      "Enter how many number sum you want:7\n",
      "sum is  784\n"
     ]
    }
   ],
   "source": [
    "#Q5. Write a Python Program for cube sum of first n natural numbers?\n",
    "n5 = int(input(\"Enter how many number sum you want:\"))\n",
    "if n5 > 0:\n",
    "    s5 = sum([i**3 for i in range(1,n5+1)])\n",
    "    print(\"sum is \",s5)\n",
    "else:\n",
    "    print(\"Plz enter valid number.\")"
   ]
  },
  {
   "cell_type": "code",
   "execution_count": null,
   "id": "33ef3132",
   "metadata": {},
   "outputs": [],
   "source": []
  }
 ],
 "metadata": {
  "kernelspec": {
   "display_name": "Python 3",
   "language": "python",
   "name": "python3"
  },
  "language_info": {
   "codemirror_mode": {
    "name": "ipython",
    "version": 3
   },
   "file_extension": ".py",
   "mimetype": "text/x-python",
   "name": "python",
   "nbconvert_exporter": "python",
   "pygments_lexer": "ipython3",
   "version": "3.8.5"
  }
 },
 "nbformat": 4,
 "nbformat_minor": 5
}
