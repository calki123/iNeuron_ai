{
 "cells": [
  {
   "cell_type": "code",
   "execution_count": 10,
   "id": "73ce182c",
   "metadata": {},
   "outputs": [
    {
     "data": {
      "text/plain": [
       "[1, 2, 123]"
      ]
     },
     "execution_count": 10,
     "metadata": {},
     "output_type": "execute_result"
    }
   ],
   "source": [
    "#Q1. Create a function that takes a list of non-negative integers and strings and \n",
    "#    return a new list without the strings.\n",
    "def filter_list(l):\n",
    "    a = []\n",
    "    for i in l:\n",
    "        if type(i) != str:\n",
    "            a.append(i)\n",
    "    return a\n",
    "filter_list([1, 2, \"aasf\", \"1\", \"123\", 123])"
   ]
  },
  {
   "cell_type": "code",
   "execution_count": 12,
   "id": "e70937d3",
   "metadata": {},
   "outputs": [
    {
     "data": {
      "text/plain": [
       "'DLROw OLLEh'"
      ]
     },
     "execution_count": 12,
     "metadata": {},
     "output_type": "execute_result"
    }
   ],
   "source": [
    "#Q2. The \"Reverser\" takes a string as input and returns that string in reverse order, with the opposite case.\n",
    "def reverse(a):\n",
    "    return a[::-1].swapcase()\n",
    "reverse(\"Hello World\")"
   ]
  },
  {
   "cell_type": "code",
   "execution_count": 15,
   "id": "96ddc619",
   "metadata": {},
   "outputs": [
    {
     "name": "stdout",
     "output_type": "stream",
     "text": [
      "1 [2, 3, 4, 5] 6\n"
     ]
    }
   ],
   "source": [
    "#Q3. destructuring assignment\n",
    "l1 = [1, 2, 3, 4, 5, 6]\n",
    "first, *middle, last = l1\n",
    "print(first, middle, last)"
   ]
  },
  {
   "cell_type": "code",
   "execution_count": 17,
   "id": "edebcc3d",
   "metadata": {},
   "outputs": [
    {
     "data": {
      "text/plain": [
       "120"
      ]
     },
     "execution_count": 17,
     "metadata": {},
     "output_type": "execute_result"
    }
   ],
   "source": [
    "#Q4. Write a function that calculates the factorial of a number recursively.\n",
    "def factorial(num):\n",
    "    if num <= 1:\n",
    "        return 1\n",
    "    return num * factorial(num-1)\n",
    "factorial(5)"
   ]
  },
  {
   "cell_type": "code",
   "execution_count": 20,
   "id": "94dd75fe",
   "metadata": {},
   "outputs": [
    {
     "name": "stdout",
     "output_type": "stream",
     "text": [
      "[7, 8, 1, 2, 3, 4, 9]\n"
     ]
    }
   ],
   "source": [
    "#Q5. Write a function that moves all elements of one type to the end of the list.\n",
    "def move_to_end(a, b):\n",
    "    a.sort(key=b.__eq__)\n",
    "    return a\n",
    "print(move_to_end([7, 8, 9, 1, 2, 3, 4], 9))"
   ]
  },
  {
   "cell_type": "code",
   "execution_count": null,
   "id": "fbf911bc",
   "metadata": {},
   "outputs": [],
   "source": []
  }
 ],
 "metadata": {
  "kernelspec": {
   "display_name": "Python 3",
   "language": "python",
   "name": "python3"
  },
  "language_info": {
   "codemirror_mode": {
    "name": "ipython",
    "version": 3
   },
   "file_extension": ".py",
   "mimetype": "text/x-python",
   "name": "python",
   "nbconvert_exporter": "python",
   "pygments_lexer": "ipython3",
   "version": "3.8.5"
  }
 },
 "nbformat": 4,
 "nbformat_minor": 5
}
