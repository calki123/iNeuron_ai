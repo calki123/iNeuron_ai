{
 "cells": [
  {
   "cell_type": "code",
   "execution_count": 2,
   "id": "4e722da9",
   "metadata": {},
   "outputs": [
    {
     "data": {
      "text/plain": [
       "'HHeelllloo  WWoorrlldd!!'"
      ]
     },
     "execution_count": 2,
     "metadata": {},
     "output_type": "execute_result"
    }
   ],
   "source": [
    "#Q1. Create a function that takes a string and returns a string in which each character is repeated once.\n",
    "def double_char(a):\n",
    "    x = \"\"\n",
    "    for i in a:\n",
    "        x += i+i\n",
    "    return x\n",
    "double_char(\"Hello World!\")"
   ]
  },
  {
   "cell_type": "code",
   "execution_count": 7,
   "id": "6ba7c5ff",
   "metadata": {},
   "outputs": [
    {
     "data": {
      "text/plain": [
       "False"
      ]
     },
     "execution_count": 7,
     "metadata": {},
     "output_type": "execute_result"
    }
   ],
   "source": [
    "#Q2. Create a function that reverses a boolean value and returns the string \"boolean expected\" \n",
    "#    if another variable type is given.\n",
    "def reverse(num):\n",
    "    if type(num) != bool:\n",
    "        return 'boolean expected'\n",
    "    if num is True:\n",
    "        return False\n",
    "    return True\n",
    "reverse(True)"
   ]
  },
  {
   "cell_type": "code",
   "execution_count": 11,
   "id": "1f54feb6",
   "metadata": {},
   "outputs": [
    {
     "data": {
      "text/plain": [
       "1048.576"
      ]
     },
     "execution_count": 11,
     "metadata": {},
     "output_type": "execute_result"
    }
   ],
   "source": [
    "#Q3. Create a function that returns the thickness (in meters) of a piece of paper after folding \n",
    "#    it n number of times. The paper starts off with a thickness of 0.5mm.\n",
    "def num_layers(num):\n",
    "    a = 0.5\n",
    "    for i in range(21):\n",
    "        a = a * 2\n",
    "    return a/1000\n",
    "num_layers(21)"
   ]
  },
  {
   "cell_type": "code",
   "execution_count": 13,
   "id": "1bf94bd8",
   "metadata": {},
   "outputs": [
    {
     "data": {
      "text/plain": [
       "[1, 3, 4, 6]"
      ]
     },
     "execution_count": 13,
     "metadata": {},
     "output_type": "execute_result"
    }
   ],
   "source": [
    "#Q4. Create a function that takes a single string as argument and returns an ordered list \n",
    "#    containing the indices of all capital letters in the string.\n",
    "def index_of_caps(x):\n",
    "    a = []\n",
    "    for i in range(len(x)):\n",
    "        \n",
    "        if x[i].isupper():\n",
    "            a.append(i)\n",
    "    return a\n",
    "index_of_caps(\"eQuINoX\")"
   ]
  },
  {
   "cell_type": "code",
   "execution_count": 14,
   "id": "223d92b9",
   "metadata": {},
   "outputs": [
    {
     "data": {
      "text/plain": [
       "[2, 4, 6, 8]"
      ]
     },
     "execution_count": 14,
     "metadata": {},
     "output_type": "execute_result"
    }
   ],
   "source": [
    "#Q5. Using list comprehensions, create a function that finds all even numbers from 1 to the given number.\n",
    "def find_even_nums(n):\n",
    "    return [i for i in range(1,n+1) if i % 2 ==0]\n",
    "find_even_nums(8)"
   ]
  },
  {
   "cell_type": "code",
   "execution_count": null,
   "id": "a1ce4537",
   "metadata": {},
   "outputs": [],
   "source": []
  }
 ],
 "metadata": {
  "kernelspec": {
   "display_name": "Python 3",
   "language": "python",
   "name": "python3"
  },
  "language_info": {
   "codemirror_mode": {
    "name": "ipython",
    "version": 3
   },
   "file_extension": ".py",
   "mimetype": "text/x-python",
   "name": "python",
   "nbconvert_exporter": "python",
   "pygments_lexer": "ipython3",
   "version": "3.8.5"
  }
 },
 "nbformat": 4,
 "nbformat_minor": 5
}
