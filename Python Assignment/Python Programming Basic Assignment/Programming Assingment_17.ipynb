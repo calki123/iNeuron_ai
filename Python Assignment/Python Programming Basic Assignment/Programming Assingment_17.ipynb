{
 "cells": [
  {
   "cell_type": "code",
   "execution_count": 2,
   "id": "edd55b4d",
   "metadata": {},
   "outputs": [
    {
     "data": {
      "text/plain": [
       "18"
      ]
     },
     "execution_count": 2,
     "metadata": {},
     "output_type": "execute_result"
    }
   ],
   "source": [
    "#Q1. Create a function that takes three arguments a, b, c and returns the sum of the numbers \n",
    "#    that are evenly divided by c from the range a, b inclusive.\n",
    "def evenly_divisible(a, b, c):\n",
    "    if c > b:\n",
    "        return 0\n",
    "    s = 0\n",
    "    for i in range(a, b):\n",
    "        if i % c == 0:\n",
    "            s += i\n",
    "    return s\n",
    "evenly_divisible(1, 10, 3)"
   ]
  },
  {
   "cell_type": "code",
   "execution_count": 23,
   "id": "55f40531",
   "metadata": {},
   "outputs": [
    {
     "name": "stdout",
     "output_type": "stream",
     "text": [
      "True\n"
     ]
    }
   ],
   "source": [
    "#Q2. Create a function that returns True if a given inequality expression is correct and False otherwise.\n",
    "def correct_signs(x):\n",
    "    a = x.split()\n",
    "    offset = 3\n",
    "    for i in range(0,len(a),2):\n",
    "        c = bool(''.join(a[i: i + offset]))\n",
    "        if not c:\n",
    "            return False\n",
    "    return True\n",
    "print(correct_signs(\"13 > 44 > 33 > 1\"))"
   ]
  },
  {
   "cell_type": "code",
   "execution_count": 25,
   "id": "36a99fb9",
   "metadata": {},
   "outputs": [
    {
     "data": {
      "text/plain": [
       "'th# ##rdv#rk'"
      ]
     },
     "execution_count": 25,
     "metadata": {},
     "output_type": "execute_result"
    }
   ],
   "source": [
    "#Q3. Create a function that replaces all the vowels in a string with a specified character.\n",
    "def replace_vowels(a,b):\n",
    "    vowels = \"aeiouAEIOU\"\n",
    "    for i in vowels:\n",
    "        a = a.replace(i,b)\n",
    "    return a\n",
    "replace_vowels(\"the aardvark\", \"#\")"
   ]
  },
  {
   "cell_type": "code",
   "execution_count": 30,
   "id": "a3361f2b",
   "metadata": {},
   "outputs": [
    {
     "data": {
      "text/plain": [
       "120"
      ]
     },
     "execution_count": 30,
     "metadata": {},
     "output_type": "execute_result"
    }
   ],
   "source": [
    "#Q4. Write a function that calculates the factorial of a number recursively.\n",
    "def factorial(num):\n",
    "    if num <= 1 :\n",
    "        return 1\n",
    "    return num * factorial(num-1)\n",
    "factorial(5)"
   ]
  },
  {
   "cell_type": "code",
   "execution_count": 33,
   "id": "42102b58",
   "metadata": {},
   "outputs": [
    {
     "data": {
      "text/plain": [
       "5"
      ]
     },
     "execution_count": 33,
     "metadata": {},
     "output_type": "execute_result"
    }
   ],
   "source": [
    "#Q5. Hamming distance is the number of characters that differ between two strings.\n",
    "#    Create a function that computes the hamming distance between two strings.\n",
    "def hamming_distance(num1,num2):\n",
    "    if len(num1) != len(num2):\n",
    "        return \"Word should be same length\"\n",
    "    x = 0\n",
    "    for i in range(len(num1)):\n",
    "        if num1[i] != num2[i]:\n",
    "            x += 1\n",
    "    return x\n",
    "hamming_distance(\"abcde\", \"bcdef\")"
   ]
  },
  {
   "cell_type": "code",
   "execution_count": null,
   "id": "96f61259",
   "metadata": {},
   "outputs": [],
   "source": []
  }
 ],
 "metadata": {
  "kernelspec": {
   "display_name": "Python 3",
   "language": "python",
   "name": "python3"
  },
  "language_info": {
   "codemirror_mode": {
    "name": "ipython",
    "version": 3
   },
   "file_extension": ".py",
   "mimetype": "text/x-python",
   "name": "python",
   "nbconvert_exporter": "python",
   "pygments_lexer": "ipython3",
   "version": "3.8.5"
  }
 },
 "nbformat": 4,
 "nbformat_minor": 5
}
