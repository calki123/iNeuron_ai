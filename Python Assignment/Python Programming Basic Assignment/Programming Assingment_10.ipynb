{
 "cells": [
  {
   "cell_type": "code",
   "execution_count": 1,
   "id": "5709ead4",
   "metadata": {},
   "outputs": [
    {
     "name": "stdout",
     "output_type": "stream",
     "text": [
      "sum of list is  15\n"
     ]
    }
   ],
   "source": [
    "#Q1. Write a Python program to find sum of elements in list?\n",
    "l1 = [1,2,3,4,5]\n",
    "print(\"sum of list is \",sum(l1))"
   ]
  },
  {
   "cell_type": "code",
   "execution_count": 2,
   "id": "94d50d06",
   "metadata": {},
   "outputs": [
    {
     "name": "stdout",
     "output_type": "stream",
     "text": [
      "120\n"
     ]
    }
   ],
   "source": [
    "#Q2. Write a Python program to Multiply all numbers in the list?\n",
    "l2 = [1,2,3,4,5]\n",
    "result = 1\n",
    "for i in l2:\n",
    "    result*=i\n",
    "print(result)"
   ]
  },
  {
   "cell_type": "code",
   "execution_count": 3,
   "id": "87962f60",
   "metadata": {},
   "outputs": [
    {
     "name": "stdout",
     "output_type": "stream",
     "text": [
      "1\n"
     ]
    }
   ],
   "source": [
    "#Q3. Write a Python program to find smallest number in a list?\n",
    "l3 = [1,2,3,4,5]\n",
    "print(min(l3))"
   ]
  },
  {
   "cell_type": "code",
   "execution_count": 4,
   "id": "b4e50d0f",
   "metadata": {},
   "outputs": [
    {
     "name": "stdout",
     "output_type": "stream",
     "text": [
      "5\n"
     ]
    }
   ],
   "source": [
    "#Q4. Write a Python program to find largest number in a list?\n",
    "l4 = [1,2,3,4,5]\n",
    "print(max(l4))"
   ]
  },
  {
   "cell_type": "code",
   "execution_count": 5,
   "id": "3373405f",
   "metadata": {},
   "outputs": [
    {
     "name": "stdout",
     "output_type": "stream",
     "text": [
      "5\n"
     ]
    }
   ],
   "source": [
    "#Q5. Write a Python program to find second largest number in a list?\n",
    "l5 = [1,5,9,3,4]\n",
    "print(sorted(l5)[-2])"
   ]
  },
  {
   "cell_type": "code",
   "execution_count": 6,
   "id": "f9252b55",
   "metadata": {},
   "outputs": [
    {
     "name": "stdout",
     "output_type": "stream",
     "text": [
      "Enter no:3\n",
      "[4, 5, 9]\n"
     ]
    }
   ],
   "source": [
    "#Q6. Write a Python program to find N largest elements from a list?\n",
    "a6 = int(input(\"Enter no:\"))\n",
    "l6 = [1,5,9,3,4]\n",
    "if len(l6) > a6:\n",
    "    print(sorted(l6)[-a6:])"
   ]
  },
  {
   "cell_type": "code",
   "execution_count": 9,
   "id": "e077a84d",
   "metadata": {},
   "outputs": [
    {
     "name": "stdout",
     "output_type": "stream",
     "text": [
      "[4]\n"
     ]
    }
   ],
   "source": [
    "#Q7. Write a Python program to print even numbers in a list?\n",
    "l7 = [1,5,9,3,4]\n",
    "print(list(filter(lambda i: i % 2 == 0,l7)))"
   ]
  },
  {
   "cell_type": "code",
   "execution_count": 10,
   "id": "62d21dfb",
   "metadata": {},
   "outputs": [
    {
     "name": "stdout",
     "output_type": "stream",
     "text": [
      "[1, 5, 9, 3]\n"
     ]
    }
   ],
   "source": [
    "#Q8. Write a Python program to print odd numbers in a List?\n",
    "l8 = [1,5,9,3,4]\n",
    "print(list(filter(lambda i: i % 2 != 0,l7)))"
   ]
  },
  {
   "cell_type": "code",
   "execution_count": 26,
   "id": "3c551409",
   "metadata": {},
   "outputs": [
    {
     "name": "stdout",
     "output_type": "stream",
     "text": [
      "[1, 2, [1]]\n"
     ]
    }
   ],
   "source": [
    "#Q9. Write a Python program to Remove empty List from List?\n",
    "l9 = [1,2,[],[1],[]]\n",
    "print(list(filter(None,l9)))"
   ]
  },
  {
   "cell_type": "code",
   "execution_count": 28,
   "id": "7326b734",
   "metadata": {},
   "outputs": [
    {
     "name": "stdout",
     "output_type": "stream",
     "text": [
      "[1, 2, [], [1], []]\n"
     ]
    }
   ],
   "source": [
    "#Q10. Write a Python program to Cloning or Copying a list?\n",
    "l10 = [1,2,[],[1],[]]\n",
    "l11 = l10.copy()\n",
    "print(l11)"
   ]
  },
  {
   "cell_type": "code",
   "execution_count": 29,
   "id": "65a5ffe2",
   "metadata": {},
   "outputs": [
    {
     "name": "stdout",
     "output_type": "stream",
     "text": [
      "4\n"
     ]
    }
   ],
   "source": [
    "#Q11. Write a Python program to Count occurrences of an element in a list?\n",
    "l12 = [1,2,3,45,6,8,5,2,3,1,3,5,2,5,2,5]\n",
    "print(l12.count(2))"
   ]
  },
  {
   "cell_type": "code",
   "execution_count": null,
   "id": "2dc70189",
   "metadata": {},
   "outputs": [],
   "source": []
  }
 ],
 "metadata": {
  "kernelspec": {
   "display_name": "Python 3",
   "language": "python",
   "name": "python3"
  },
  "language_info": {
   "codemirror_mode": {
    "name": "ipython",
    "version": 3
   },
   "file_extension": ".py",
   "mimetype": "text/x-python",
   "name": "python",
   "nbconvert_exporter": "python",
   "pygments_lexer": "ipython3",
   "version": "3.8.5"
  }
 },
 "nbformat": 4,
 "nbformat_minor": 5
}
