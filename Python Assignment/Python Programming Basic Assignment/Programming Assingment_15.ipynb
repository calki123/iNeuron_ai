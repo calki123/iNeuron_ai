{
 "cells": [
  {
   "cell_type": "code",
   "execution_count": 16,
   "id": "3263a2a6",
   "metadata": {},
   "outputs": [
    {
     "name": "stdout",
     "output_type": "stream",
     "text": [
      "Input range:100\n",
      "0,35,70\n"
     ]
    }
   ],
   "source": [
    "#Q1. Please write a program using generator to print the numbers which can be divisible by 5 and 7 \n",
    "#    between 0 and n in comma separated form while n is input by console.\n",
    "a1 = int(input(\"Input range:\"))\n",
    "def generator(num1):\n",
    "    for i in range(a1):\n",
    "        if i % 5 == 0 and i % 7 == 0:\n",
    "            yield i\n",
    "print(','.join(map(str, list(generator(a1)))))"
   ]
  },
  {
   "cell_type": "code",
   "execution_count": 1,
   "id": "0497f5c1",
   "metadata": {},
   "outputs": [
    {
     "name": "stdout",
     "output_type": "stream",
     "text": [
      "Enter number:10\n",
      "0,2,4,6,8,10\n"
     ]
    }
   ],
   "source": [
    "#Q2. Please write a program using generator to print the even numbers between 0 and n in \n",
    "#    comma separated form while n is input by console.\n",
    "a2 = int(input(\"Enter number:\"))\n",
    "def generator2(num):\n",
    "    for i in range(num+1):\n",
    "        if i % 2 == 0:\n",
    "            yield i\n",
    "print(','.join(map(str, list(generator2(a2)))))"
   ]
  },
  {
   "cell_type": "code",
   "execution_count": 16,
   "id": "d7500d4d",
   "metadata": {},
   "outputs": [
    {
     "name": "stdout",
     "output_type": "stream",
     "text": [
      "Enter input:7\n",
      "0,1,1,2,3,5,8,13\n"
     ]
    }
   ],
   "source": [
    "#Q3. The Fibonacci Sequence is computed based on the following formula:\n",
    "#    f(n)=0 if n=0\n",
    "#    f(n)=1 if n=1\n",
    "#    f(n)=f(n-1)+f(n-2) if n>1\n",
    "#    Please write a program using list comprehension to print the Fibonacci Sequence in \n",
    "#    comma separated form with a given n input by console.\n",
    "a3 = int(input(\"Enter input:\"))\n",
    "list1 = []\n",
    "f = lambda l: 0 if l==0 else 1 if l==1 else f(l-2)+f(l-1)\n",
    "print(','.join(map(str,[f(i) for i in range(a3+1)])))"
   ]
  },
  {
   "cell_type": "code",
   "execution_count": 17,
   "id": "b8101a54",
   "metadata": {},
   "outputs": [
    {
     "name": "stdout",
     "output_type": "stream",
     "text": [
      "Enter Email:kalkivi@keypress.co.in\n",
      "kalkivi\n"
     ]
    }
   ],
   "source": [
    "#Q4. Assuming that we have some email addresses in the \"username@companyname.com\" format, \n",
    "#    please write program to print the user name of a given email address. \n",
    "#    Both user names and company names are composed of letters only.\n",
    "a4 = input(\"Enter Email:\")\n",
    "print(a4.split('@')[0])"
   ]
  },
  {
   "cell_type": "code",
   "execution_count": 4,
   "id": "85b387fd",
   "metadata": {},
   "outputs": [
    {
     "name": "stdout",
     "output_type": "stream",
     "text": [
      "25\n",
      "0\n"
     ]
    }
   ],
   "source": [
    "#Q5. Define a class named Shape and its subclass Square. The Square class has an init function \n",
    "#    which takes a length as argument. Both classes have a area function which can print the \n",
    "#    area of the shape where Shape's area is 0 by default.\n",
    "class Shape:\n",
    "    def __init__(self):\n",
    "        pass\n",
    "    def area(self):\n",
    "        return 0\n",
    "class Square(Shape):\n",
    "    def __init__(self,length=0):\n",
    "        Shape.__init__(self)\n",
    "        self.length = length\n",
    "    def area(self):\n",
    "        return self.length**2\n",
    "print(Square(5).area())\n",
    "print(Square().area())"
   ]
  },
  {
   "cell_type": "code",
   "execution_count": null,
   "id": "140cbb37",
   "metadata": {},
   "outputs": [],
   "source": []
  }
 ],
 "metadata": {
  "kernelspec": {
   "display_name": "Python 3",
   "language": "python",
   "name": "python3"
  },
  "language_info": {
   "codemirror_mode": {
    "name": "ipython",
    "version": 3
   },
   "file_extension": ".py",
   "mimetype": "text/x-python",
   "name": "python",
   "nbconvert_exporter": "python",
   "pygments_lexer": "ipython3",
   "version": "3.8.5"
  }
 },
 "nbformat": 4,
 "nbformat_minor": 5
}
