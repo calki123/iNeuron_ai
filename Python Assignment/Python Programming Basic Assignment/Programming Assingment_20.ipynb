{
 "cells": [
  {
   "cell_type": "code",
   "execution_count": 2,
   "id": "748e1612",
   "metadata": {},
   "outputs": [
    {
     "data": {
      "text/plain": [
       "[0, 1729]"
      ]
     },
     "execution_count": 2,
     "metadata": {},
     "output_type": "execute_result"
    }
   ],
   "source": [
    "#Q1. Create a function that takes a list of strings and integers, and filters out the \n",
    "#    list so that it returns a list of integers only.\n",
    "def filter_list(l):\n",
    "    return list(filter(lambda a: type(a) == int, l))\n",
    "filter_list([\"A\", 0, \"Edabit\", 1729, \"Python\", \"1729\"])"
   ]
  },
  {
   "cell_type": "code",
   "execution_count": 6,
   "id": "b3730d24",
   "metadata": {},
   "outputs": [
    {
     "data": {
      "text/plain": [
       "[5, 5, 5, 5, 5]"
      ]
     },
     "execution_count": 6,
     "metadata": {},
     "output_type": "execute_result"
    }
   ],
   "source": [
    "#Q2. Given a list of numbers, create a function which returns the list but with each element's \n",
    "#    index in the list added to itself. This means you add 0 to the number at index 0, add 1 to \n",
    "#    the number at index 1, etc...\n",
    "def add_indexes(l):\n",
    "    return list(map(lambda a: a+l.index(a), l))\n",
    "add_indexes([5, 4, 3, 2, 1])"
   ]
  },
  {
   "cell_type": "code",
   "execution_count": 9,
   "id": "f1eea2cf",
   "metadata": {},
   "outputs": [
    {
     "data": {
      "text/plain": [
       "565.49"
      ]
     },
     "execution_count": 9,
     "metadata": {},
     "output_type": "execute_result"
    }
   ],
   "source": [
    "#Q3. Create a function that takes the height and radius of a cone as arguments and returns the \n",
    "#    volume of the cone rounded to the nearest hundredth. See the resources tab for the formula.\n",
    "import math\n",
    "def cone_volume(h, r):\n",
    "    return round((math.pi*r*r*h)/3,2)\n",
    "cone_volume(15, 6)"
   ]
  },
  {
   "cell_type": "code",
   "execution_count": 13,
   "id": "98dea575",
   "metadata": {},
   "outputs": [
    {
     "data": {
      "text/plain": [
       "23220"
      ]
     },
     "execution_count": 13,
     "metadata": {},
     "output_type": "execute_result"
    }
   ],
   "source": [
    "#Q4. This Triangular Number Sequence is generated from a pattern of dots that form a triangle. \n",
    "#    The first 5 numbers of the sequence, or dots, are: \n",
    "#    1, 3, 6, 10, 15\n",
    "#    This means that the first triangle has just one dot, the second one has three dots, \n",
    "#    the third one has 6 dots and so on.\n",
    "#    Write a function that gives the number of dots with its corresponding triangle number of the sequence.\n",
    "def triangle(num):\n",
    "    a = 0\n",
    "    for i in range(num+1):\n",
    "        a += i\n",
    "    return a\n",
    "triangle(215)"
   ]
  },
  {
   "cell_type": "code",
   "execution_count": 27,
   "id": "37eb8d15",
   "metadata": {},
   "outputs": [
    {
     "data": {
      "text/plain": [
       "7"
      ]
     },
     "execution_count": 27,
     "metadata": {},
     "output_type": "execute_result"
    }
   ],
   "source": [
    "#Q5. Create a function that takes a list of numbers between 1 and 10 (excluding one number) \n",
    "#    and returns the missing number.\n",
    "def missing_num(l):\n",
    "    a = filter(lambda a: a not in l ,list(range(1,11)))\n",
    "    return list(a)[0]\n",
    "missing_num([10, 5, 1, 2, 4, 6, 8, 3, 9])"
   ]
  },
  {
   "cell_type": "code",
   "execution_count": null,
   "id": "5b70be58",
   "metadata": {},
   "outputs": [],
   "source": []
  }
 ],
 "metadata": {
  "kernelspec": {
   "display_name": "Python 3",
   "language": "python",
   "name": "python3"
  },
  "language_info": {
   "codemirror_mode": {
    "name": "ipython",
    "version": 3
   },
   "file_extension": ".py",
   "mimetype": "text/x-python",
   "name": "python",
   "nbconvert_exporter": "python",
   "pygments_lexer": "ipython3",
   "version": "3.8.5"
  }
 },
 "nbformat": 4,
 "nbformat_minor": 5
}
