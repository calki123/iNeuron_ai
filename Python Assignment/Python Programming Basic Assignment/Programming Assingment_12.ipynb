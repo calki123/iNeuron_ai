{
 "cells": [
  {
   "cell_type": "code",
   "execution_count": 8,
   "id": "6fd8b25a",
   "metadata": {},
   "outputs": [
    {
     "name": "stdout",
     "output_type": "stream",
     "text": [
      "{1, 2, 5, 6, 7, 8, 10, 11, 12}\n"
     ]
    }
   ],
   "source": [
    "#Q1. Write a Python program to Extract Unique values dictionary values?\n",
    "a1 = {'gfg' : [5, 6, 7, 8],\n",
    "      'is' : [10, 11, 7, 5],\n",
    "      'best' : [6, 12, 10, 8],\n",
    "      'for' : [1, 2, 5]}\n",
    "print(set(j for i in a1.values() for j in i))"
   ]
  },
  {
   "cell_type": "code",
   "execution_count": 9,
   "id": "3a92d06c",
   "metadata": {},
   "outputs": [
    {
     "name": "stdout",
     "output_type": "stream",
     "text": [
      "600\n"
     ]
    }
   ],
   "source": [
    "#Q2. Write a Python program to find the sum of all items in a dictionary?\n",
    "a2 = {'a': 100, 'b':200, 'c':300}\n",
    "print(sum(a2.values()))"
   ]
  },
  {
   "cell_type": "code",
   "execution_count": 12,
   "id": "4963dd8a",
   "metadata": {},
   "outputs": [
    {
     "name": "stdout",
     "output_type": "stream",
     "text": [
      "{'a': 100, 'b': 200, 'c': 300, 'd': 400}\n"
     ]
    }
   ],
   "source": [
    "#Q3. Write a Python program to Merging two Dictionaries?\n",
    "a3 = {'a': 100, 'b':200, 'c':300}\n",
    "a4 = {'a': 100, 'b':200, 'c':300, 'd':400}\n",
    "a3.update(a4)\n",
    "print(a3)"
   ]
  },
  {
   "cell_type": "code",
   "execution_count": 42,
   "id": "71d07530",
   "metadata": {},
   "outputs": [
    {
     "name": "stdout",
     "output_type": "stream",
     "text": [
      "{1: 'Jan', 2: 'Feb', 3: 'March'}\n"
     ]
    }
   ],
   "source": [
    "#Q4. Write a Python program to convert key-values list to flat dictionary?\n",
    "a4 = {'month' : [1, 2, 3],\n",
    "      'name' : ['Jan', 'Feb', 'March']}\n",
    "print(dict(zip(a4['month'],a4['name'])))"
   ]
  },
  {
   "cell_type": "code",
   "execution_count": 44,
   "id": "043bbfe2",
   "metadata": {},
   "outputs": [
    {
     "name": "stdout",
     "output_type": "stream",
     "text": [
      "OrderedDict([('c', '3'), ('a', '1'), ('b', '2')])\n"
     ]
    }
   ],
   "source": [
    "#Q5. Write a Python program to insertion at the beginning in OrderedDict?\n",
    "from collections import OrderedDict\n",
    "a5 = OrderedDict([('a', '1'), ('b', '2')])\n",
    "a5.update({'c':'3'})\n",
    "a5.move_to_end('c', last=False)\n",
    "print(a5)"
   ]
  },
  {
   "cell_type": "code",
   "execution_count": 9,
   "id": "f55579dc",
   "metadata": {},
   "outputs": [
    {
     "name": "stdout",
     "output_type": "stream",
     "text": [
      "true\n"
     ]
    }
   ],
   "source": [
    "#Q6. Write a Python program to check order of character in string using OrderedDict()?\n",
    "from collections import OrderedDict\n",
    "def checkOrder(input, pattern): \n",
    "    dict = OrderedDict.fromkeys(input) \n",
    "  \n",
    "    ptrlen = 0\n",
    "    for key,value in dict.items(): \n",
    "        if (key == pattern[ptrlen]): \n",
    "            ptrlen = ptrlen + 1\n",
    "          \n",
    "        if (ptrlen == (len(pattern))): \n",
    "            return 'true'\n",
    "  \n",
    "    return 'false'\n",
    "print (checkOrder('i am calki','lk'))"
   ]
  },
  {
   "cell_type": "code",
   "execution_count": 3,
   "id": "9a59c1cb",
   "metadata": {},
   "outputs": [
    {
     "name": "stdout",
     "output_type": "stream",
     "text": [
      "{1: 1200, 5: 50, 9: 50, 30: 1, 80: 1}\n"
     ]
    }
   ],
   "source": [
    "#Q7. Write a Python program to sort Python Dictionaries by Key or Value?\n",
    "a7 = {1:1200, 9:50, 30:1, 5:50, 80:1}\n",
    "print(dict(sorted(a7.items())))"
   ]
  },
  {
   "cell_type": "code",
   "execution_count": null,
   "id": "cd28d0bc",
   "metadata": {},
   "outputs": [],
   "source": []
  }
 ],
 "metadata": {
  "kernelspec": {
   "display_name": "Python 3",
   "language": "python",
   "name": "python3"
  },
  "language_info": {
   "codemirror_mode": {
    "name": "ipython",
    "version": 3
   },
   "file_extension": ".py",
   "mimetype": "text/x-python",
   "name": "python",
   "nbconvert_exporter": "python",
   "pygments_lexer": "ipython3",
   "version": "3.8.5"
  }
 },
 "nbformat": 4,
 "nbformat_minor": 5
}
