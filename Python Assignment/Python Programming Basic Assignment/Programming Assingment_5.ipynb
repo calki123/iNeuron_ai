{
 "cells": [
  {
   "cell_type": "markdown",
   "id": "0950f244",
   "metadata": {},
   "source": [
    "1. Write a Python Program to Find LCM?"
   ]
  },
  {
   "cell_type": "code",
   "execution_count": 8,
   "id": "7e646902",
   "metadata": {},
   "outputs": [
    {
     "name": "stdout",
     "output_type": "stream",
     "text": [
      "enter 1st no: 36\n",
      "enter 2nd no: 44\n",
      "lcm is  396\n"
     ]
    }
   ],
   "source": [
    "n1 = int(input(\"enter 1st no: \"))\n",
    "n2 = int(input(\"enter 2nd no: \"))\n",
    "def lcm(num1,num2):\n",
    "    if num1 > num2:\n",
    "        greater = num1\n",
    "    else:\n",
    "        greater = num2\n",
    "    while True:\n",
    "        if greater % num1 == 0 and greater % num2 == 0:\n",
    "            lcm = greater\n",
    "            break\n",
    "        greater += 1\n",
    "    return lcm\n",
    "print(\"lcm is \",lcm(n1,n2))"
   ]
  },
  {
   "cell_type": "markdown",
   "id": "9474e470",
   "metadata": {},
   "source": [
    "2. Write a Python Program to Find HCF?"
   ]
  },
  {
   "cell_type": "code",
   "execution_count": 21,
   "id": "82ec92b8",
   "metadata": {},
   "outputs": [
    {
     "name": "stdout",
     "output_type": "stream",
     "text": [
      "enter 1st no: 20\n",
      "enter 2nd no: 30\n",
      "HCF is 10\n"
     ]
    }
   ],
   "source": [
    "n3 = int(input(\"enter 1st no: \"))\n",
    "n4 = int(input(\"enter 2nd no: \"))\n",
    "def divisior(num):\n",
    "    for i in range(2,int(num/2)+1):\n",
    "        if num % i == 0:\n",
    "            yield i\n",
    "    yield num\n",
    "n3_divisior = list(divisior(n3))\n",
    "n4_divisior = list(divisior(n4))\n",
    "intercetion_list = list(set(n3_divisior).intersection(n4_divisior))\n",
    "sort_intercetion = sorted(intercetion_list)\n",
    "print(\"HCF is\",sort_intercetion[-1])"
   ]
  },
  {
   "cell_type": "markdown",
   "id": "070434dc",
   "metadata": {},
   "source": [
    "3. Write a Python Program to Convert Decimal to Binary, Octal and Hexadecimal?"
   ]
  },
  {
   "cell_type": "code",
   "execution_count": 1,
   "id": "5a06f099",
   "metadata": {},
   "outputs": [
    {
     "name": "stdout",
     "output_type": "stream",
     "text": [
      "Enter no:60\n",
      "binary no is  0b111100\n",
      "octal no is  0o74\n",
      "hexadecimal no is  0x3c\n"
     ]
    }
   ],
   "source": [
    "a3 = int(input(\"Enter no:\"))\n",
    "print(\"binary no is \",bin(a3))\n",
    "print(\"octal no is \",oct(a3))\n",
    "print(\"hexadecimal no is \",hex(a3))"
   ]
  },
  {
   "cell_type": "markdown",
   "id": "267207c1",
   "metadata": {},
   "source": [
    "4. Write a Python Program To Find ASCII value of a character"
   ]
  },
  {
   "cell_type": "code",
   "execution_count": 3,
   "id": "c5d5a5e5",
   "metadata": {},
   "outputs": [
    {
     "name": "stdout",
     "output_type": "stream",
     "text": [
      "Enter character: p\n",
      "ASCII value is  112\n"
     ]
    }
   ],
   "source": [
    "a4 = input(\"Enter character: \")\n",
    "print(\"ASCII value is \",ord(a4))"
   ]
  },
  {
   "cell_type": "markdown",
   "id": "3cff2ce1",
   "metadata": {},
   "source": [
    "5. Write a Python Program to Make a Simple Calculator with 4 basic mathematical operations?"
   ]
  },
  {
   "cell_type": "code",
   "execution_count": 4,
   "id": "bcd602a6",
   "metadata": {},
   "outputs": [
    {
     "name": "stdout",
     "output_type": "stream",
     "text": [
      "ENter 1st no:5\n",
      "Enter 2nd no:10\n",
      "Enter operation(+,-,*,/):*\n",
      "multiplication is  50.0\n"
     ]
    }
   ],
   "source": [
    "a5 = float(input(\"ENter 1st no:\"))\n",
    "b5 = float(input(\"Enter 2nd no:\"))\n",
    "op = input(\"Enter operation(+,-,*,/):\")\n",
    "if op == \"+\":\n",
    "    print(\"sum is \",a5+b5)\n",
    "elif op == \"-\":\n",
    "    print(\"substraction is \",a5-b5)\n",
    "elif op == '*':\n",
    "    print(\"multiplication is \", a5*b5)\n",
    "elif op == '/':\n",
    "    print(\"division is \",a5/b5)\n",
    "else:\n",
    "    print(\"wrong input\")"
   ]
  },
  {
   "cell_type": "code",
   "execution_count": null,
   "id": "aaffac5a",
   "metadata": {},
   "outputs": [],
   "source": []
  }
 ],
 "metadata": {
  "kernelspec": {
   "display_name": "Python 3",
   "language": "python",
   "name": "python3"
  },
  "language_info": {
   "codemirror_mode": {
    "name": "ipython",
    "version": 3
   },
   "file_extension": ".py",
   "mimetype": "text/x-python",
   "name": "python",
   "nbconvert_exporter": "python",
   "pygments_lexer": "ipython3",
   "version": "3.8.5"
  }
 },
 "nbformat": 4,
 "nbformat_minor": 5
}
