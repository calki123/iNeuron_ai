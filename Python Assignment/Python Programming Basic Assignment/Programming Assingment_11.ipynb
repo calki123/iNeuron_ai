{
 "cells": [
  {
   "cell_type": "code",
   "execution_count": 2,
   "id": "c77dfe46",
   "metadata": {},
   "outputs": [
    {
     "name": "stdout",
     "output_type": "stream",
     "text": [
      "Enter length:5\n",
      "['developer.']\n"
     ]
    }
   ],
   "source": [
    "#Q1. Write a Python program to find words which are greater than given length k?\n",
    "s1 = \"hello my name is calki and i am odoo developer.\"\n",
    "k = int(input(\"Enter length:\"))\n",
    "print([i for i in s1.split() if len(i) > k])"
   ]
  },
  {
   "cell_type": "code",
   "execution_count": 6,
   "id": "635de2c0",
   "metadata": {},
   "outputs": [
    {
     "name": "stdout",
     "output_type": "stream",
     "text": [
      "Enter index which u want to remove character:2\n",
      "helo my name is calki and i am odoo developer.\n"
     ]
    }
   ],
   "source": [
    "#Q2. Write a Python program for removing i-th character from a string?\n",
    "s2 = \"hello my name is calki and i am odoo developer.\"\n",
    "i = int(input(\"Enter index which u want to remove character:\"))\n",
    "print(s2[:i]+s2[i+1:])"
   ]
  },
  {
   "cell_type": "code",
   "execution_count": 7,
   "id": "c32e5a80",
   "metadata": {},
   "outputs": [
    {
     "name": "stdout",
     "output_type": "stream",
     "text": [
      "hello,my,name,is,calki,and,i,am,odoo,developer.\n"
     ]
    }
   ],
   "source": [
    "#Q3. Write a Python program to split and join a string?\n",
    "s3 = \"hello my name is calki and i am odoo developer.\"\n",
    "print(','.join(s3.split()))"
   ]
  },
  {
   "cell_type": "code",
   "execution_count": 10,
   "id": "563b6dd1",
   "metadata": {},
   "outputs": [],
   "source": [
    "#Q4. Write a Python to check if a given string is binary string or not?\n",
    "s4 = '10101s01010'\n",
    "x4 = all(i in '01' for i in s4)\n",
    "if x4:\n",
    "    print(\"string is binary\")"
   ]
  },
  {
   "cell_type": "code",
   "execution_count": 15,
   "id": "d1895fae",
   "metadata": {},
   "outputs": [
    {
     "name": "stdout",
     "output_type": "stream",
     "text": [
      "{'calki', 'and', 'am', 'is', 'name', 'my', 'developer.', 'odoo'}\n"
     ]
    }
   ],
   "source": [
    "#Q5. Write a Python program to find uncommon words from two Strings?\n",
    "s5 = \"hello my name is calki and i am odoo developer.\"\n",
    "s6 = \"hello i like codeing.\"\n",
    "print(set(s5.split()).difference(set(s6.split())))"
   ]
  },
  {
   "cell_type": "code",
   "execution_count": 20,
   "id": "d1465c5c",
   "metadata": {},
   "outputs": [
    {
     "name": "stdout",
     "output_type": "stream",
     "text": [
      "['i', 'l', 'e', 'o', ' ']\n"
     ]
    }
   ],
   "source": [
    "#Q6. Write a Python to find all duplicate characters in string?\n",
    "s7 = \"hello i like codeing.\"\n",
    "print([i for i in set(s7) if s7.count(i) > 1])"
   ]
  },
  {
   "cell_type": "code",
   "execution_count": 24,
   "id": "7387acde",
   "metadata": {},
   "outputs": [
    {
     "name": "stdout",
     "output_type": "stream",
     "text": [
      "string containe special character\n"
     ]
    }
   ],
   "source": [
    "#Q7. Write a Python Program to check if a string contains any special character?\n",
    "special_character = '[@_!#$%^&*()<>?/\\|}{~:]'\n",
    "s8 = \"hello i like @codeing\"\n",
    "if any(i in special_character for i in s8):\n",
    "    print(\"string containe special character\")"
   ]
  },
  {
   "cell_type": "code",
   "execution_count": null,
   "id": "40fa402b",
   "metadata": {},
   "outputs": [],
   "source": []
  }
 ],
 "metadata": {
  "kernelspec": {
   "display_name": "Python 3",
   "language": "python",
   "name": "python3"
  },
  "language_info": {
   "codemirror_mode": {
    "name": "ipython",
    "version": 3
   },
   "file_extension": ".py",
   "mimetype": "text/x-python",
   "name": "python",
   "nbconvert_exporter": "python",
   "pygments_lexer": "ipython3",
   "version": "3.8.5"
  }
 },
 "nbformat": 4,
 "nbformat_minor": 5
}
