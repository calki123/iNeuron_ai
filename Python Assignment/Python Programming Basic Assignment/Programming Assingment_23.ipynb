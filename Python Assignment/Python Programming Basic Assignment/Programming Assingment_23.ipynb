{
 "cells": [
  {
   "cell_type": "code",
   "execution_count": 4,
   "id": "635c9a3e",
   "metadata": {},
   "outputs": [
    {
     "data": {
      "text/plain": [
       "False"
      ]
     },
     "execution_count": 4,
     "metadata": {},
     "output_type": "execute_result"
    }
   ],
   "source": [
    "#Q1. Create a function that takes a number as an argument and returns True or False depending \n",
    "#    on whether the number is symmetrical or not. A number is symmetrical when it is the same as its reverse.\n",
    "def is_symmetrical(num):\n",
    "    if str(num) == str(num)[::-1]:\n",
    "        return True\n",
    "    return False\n",
    "is_symmetrical(9939)"
   ]
  },
  {
   "cell_type": "code",
   "execution_count": 9,
   "id": "14fa4e00",
   "metadata": {},
   "outputs": [
    {
     "data": {
      "text/plain": [
       "-20"
      ]
     },
     "execution_count": 9,
     "metadata": {},
     "output_type": "execute_result"
    }
   ],
   "source": [
    "#Q2. Given a string of numbers separated by a comma and space, return the product of the numbers.\n",
    "import functools\n",
    "def multiply_nums(s):\n",
    "    l = s.split(', ')\n",
    "    l = list(map(int, l))\n",
    "    return functools.reduce(lambda a, b: a*b, l)\n",
    "multiply_nums(\"10, -2\")"
   ]
  },
  {
   "cell_type": "code",
   "execution_count": 14,
   "id": "066d9e2d",
   "metadata": {
    "scrolled": true
   },
   "outputs": [
    {
     "data": {
      "text/plain": [
       "811181"
      ]
     },
     "execution_count": 14,
     "metadata": {},
     "output_type": "execute_result"
    }
   ],
   "source": [
    "#Q3. Create a function that squares every digit of a number.\n",
    "def square_digits(num):\n",
    "    a = ''\n",
    "    for i in str(num):\n",
    "        a += str(int(i)*int(i))\n",
    "    return int(a)\n",
    "square_digits(9119)"
   ]
  },
  {
   "cell_type": "code",
   "execution_count": 16,
   "id": "79399b61",
   "metadata": {},
   "outputs": [
    {
     "data": {
      "text/plain": [
       "[1, 2, 3]"
      ]
     },
     "execution_count": 16,
     "metadata": {},
     "output_type": "execute_result"
    }
   ],
   "source": [
    "#Q4. Create a function that sorts a list and removes all duplicate items from it.\n",
    "def setify(l):\n",
    "    return sorted(list(set(l)))\n",
    "setify([3, 3, 3, 2, 1])"
   ]
  },
  {
   "cell_type": "code",
   "execution_count": 28,
   "id": "91e533f5",
   "metadata": {},
   "outputs": [
    {
     "data": {
      "text/plain": [
       "3.0"
      ]
     },
     "execution_count": 28,
     "metadata": {},
     "output_type": "execute_result"
    }
   ],
   "source": [
    "#Q5. Create a function that returns the mean of all digits.\n",
    "def mean(num):\n",
    "    return sum(map(int, list(str(num))))/len(str(num))\n",
    "mean(12345)"
   ]
  },
  {
   "cell_type": "code",
   "execution_count": null,
   "id": "2b9366b2",
   "metadata": {},
   "outputs": [],
   "source": []
  }
 ],
 "metadata": {
  "kernelspec": {
   "display_name": "Python 3",
   "language": "python",
   "name": "python3"
  },
  "language_info": {
   "codemirror_mode": {
    "name": "ipython",
    "version": 3
   },
   "file_extension": ".py",
   "mimetype": "text/x-python",
   "name": "python",
   "nbconvert_exporter": "python",
   "pygments_lexer": "ipython3",
   "version": "3.8.5"
  }
 },
 "nbformat": 4,
 "nbformat_minor": 5
}
