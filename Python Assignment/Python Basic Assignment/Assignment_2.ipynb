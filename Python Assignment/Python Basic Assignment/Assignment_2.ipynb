{
 "cells": [
  {
   "cell_type": "markdown",
   "id": "8f0f18ca",
   "metadata": {},
   "source": [
    "1. What are the two values of the Boolean data type? How do you write them?<br>\n",
    "Ans:<br>\n",
    "True/False"
   ]
  },
  {
   "cell_type": "markdown",
   "id": "118985cc",
   "metadata": {},
   "source": [
    "2. What are the three different types of Boolean operators?<br>\n",
    "Ans:<br>\n",
    "and, or, not"
   ]
  },
  {
   "cell_type": "markdown",
   "id": "fe9e92e7",
   "metadata": {},
   "source": [
    "3. Make a list of each Boolean operators truth tables (i.e. every possible combination of Boolean\n",
    "values for the operator and what it evaluate ).<br>\n",
    "Ans:<br>\n",
    "| AND--     |            | OR --     |             | NOT --|\n",
    "| t | f | o |            | t | f | o |             | v | o |\n",
    "| - | - | - |            | - | - | - |             | - | - |\n",
    "| 0 | 0 | 0 |            | 0 | 0 | 0 |             | 0 | 1 |\n",
    "| 0 | 1 | 0 |            | 0 | 1 | 1 |             | 1 | 0 |\n",
    "| 1 | 0 | 0 |            | 1 | 0 | 1 | \n",
    "| 1 | 1 | 1 |            | 1 | 1 | 1 |"
   ]
  },
  {
   "cell_type": "markdown",
   "id": "4bd72a1b",
   "metadata": {},
   "source": [
    "4. What are the values of the following expressions?\n",
    "(5 > 4) and (3 == 5)   Ans: False<br>\n",
    "not (5 > 4)   Ans: False<br>\n",
    "(5 > 4) or (3 == 5)   Ans: True<br>\n",
    "not ((5 > 4) or (3 == 5))   Ans: False<br>\n",
    "(True and True) and (True == False)   Ans: False<br>\n",
    "(not False) or (not True)   Ans: True<br>"
   ]
  },
  {
   "cell_type": "markdown",
   "id": "2a70aa75",
   "metadata": {},
   "source": [
    "5. What are the six comparison operators?<br>\n",
    "<, >, <=, >=, ==, !="
   ]
  },
  {
   "cell_type": "markdown",
   "id": "80300fd1",
   "metadata": {},
   "source": [
    "6. How do you tell the difference between the equal to and assignment operators?Describe a\n",
    "condition and when you would use one.<br>\n",
    "equal to(==) to use check condition and assignment(=) use to assign a value to variable."
   ]
  },
  {
   "cell_type": "markdown",
   "id": "ae89e751",
   "metadata": {},
   "source": [
    "7. Identify the three blocks in this code:<br>\n",
    "spam = 0<br>\n",
    "if spam == 10:<br>\n",
    "    print('eggs')<br>\n",
    "if spam > 5:<br>\n",
    "    print('bacon')<br>\n",
    "else:<br>\n",
    "    print('ham')<br>\n",
    "    print('spam')<br>\n",
    "    print('spam')<br>\n",
    "Ans:<br>\n",
    "if, if and else"
   ]
  },
  {
   "cell_type": "markdown",
   "id": "305a1f72",
   "metadata": {},
   "source": [
    "8. Write code that prints Hello if 1 is stored in spam, prints Howdy if 2 is stored in spam, and prints\n",
    "Greetings! if anything else is stored in spam.<br>\n",
    "Ans:"
   ]
  },
  {
   "cell_type": "code",
   "execution_count": 9,
   "id": "a1962b0b",
   "metadata": {},
   "outputs": [
    {
     "name": "stdout",
     "output_type": "stream",
     "text": [
      "Hello\n"
     ]
    }
   ],
   "source": [
    "spam = 1\n",
    "if spam == 1:\n",
    "    print(\"Hello\")\n",
    "elif spam == 2:\n",
    "    print(\"Howdy\")\n",
    "else:\n",
    "    print(\"Greetings!\")"
   ]
  },
  {
   "cell_type": "markdown",
   "id": "7dd91c04",
   "metadata": {},
   "source": [
    "9. If your programme is stuck in an endless loop, what keys you’ll press?<br>\n",
    "ctrl + c"
   ]
  },
  {
   "cell_type": "markdown",
   "id": "500ba8d2",
   "metadata": {},
   "source": [
    "10. How can you tell the difference between break and continue?<br>\n",
    "in break loop interation compalatelly break out of it and in continue only that particular running iteration going to skip."
   ]
  },
  {
   "cell_type": "markdown",
   "id": "5ede4038",
   "metadata": {},
   "source": [
    "11. In a for loop, what is the difference between range(10), range(0, 10), and range(0, 10, 1)?<br>\n",
    "Ans:<br>\n",
    "all will return same values 0 to 9."
   ]
  },
  {
   "cell_type": "markdown",
   "id": "68586c03",
   "metadata": {},
   "source": [
    "12. Write a short program that prints the numbers 1 to 10 using a for loop. Then write an equivalent\n",
    "program that prints the numbers 1 to 10 using a while loop.<br>\n",
    "Ans:"
   ]
  },
  {
   "cell_type": "code",
   "execution_count": 10,
   "id": "77f4834f",
   "metadata": {},
   "outputs": [
    {
     "name": "stdout",
     "output_type": "stream",
     "text": [
      "1\n",
      "2\n",
      "3\n",
      "4\n",
      "5\n",
      "6\n",
      "7\n",
      "8\n",
      "9\n",
      "10\n"
     ]
    }
   ],
   "source": [
    "for i in range(1,11):\n",
    "    print(i)"
   ]
  },
  {
   "cell_type": "code",
   "execution_count": 11,
   "id": "14169c32",
   "metadata": {},
   "outputs": [
    {
     "name": "stdout",
     "output_type": "stream",
     "text": [
      "1\n",
      "2\n",
      "3\n",
      "4\n",
      "5\n",
      "6\n",
      "7\n",
      "8\n",
      "9\n",
      "10\n"
     ]
    }
   ],
   "source": [
    "a = 1\n",
    "while a < 11:\n",
    "    print(a)\n",
    "    a += 1"
   ]
  },
  {
   "cell_type": "markdown",
   "id": "ed45015b",
   "metadata": {},
   "source": [
    "13. If you had a function named bacon() inside a module named spam, how would you call it after\n",
    "importing spam?<br>\n",
    "Ans:<br>\n",
    "spam.bacon()"
   ]
  },
  {
   "cell_type": "code",
   "execution_count": null,
   "id": "ec4e29bd",
   "metadata": {},
   "outputs": [],
   "source": []
  }
 ],
 "metadata": {
  "kernelspec": {
   "display_name": "Python 3",
   "language": "python",
   "name": "python3"
  },
  "language_info": {
   "codemirror_mode": {
    "name": "ipython",
    "version": 3
   },
   "file_extension": ".py",
   "mimetype": "text/x-python",
   "name": "python",
   "nbconvert_exporter": "python",
   "pygments_lexer": "ipython3",
   "version": "3.8.5"
  }
 },
 "nbformat": 4,
 "nbformat_minor": 5
}
