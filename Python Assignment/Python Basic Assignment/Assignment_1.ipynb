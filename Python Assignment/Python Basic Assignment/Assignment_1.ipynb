{
 "cells": [
  {
   "cell_type": "markdown",
   "id": "51a0ddb3",
   "metadata": {},
   "source": [
    "1. In the below elements which of them are values or an expression? eg:- values can be integer or string and expressions will be mathematical operators.<br>\n",
    "Ans:<br>\n",
    "values: 'hello', -87.8, 6<br>\n",
    "expression: *, -, /, +"
   ]
  },
  {
   "cell_type": "markdown",
   "id": "6aefc276",
   "metadata": {},
   "source": [
    "2. What is the difference between string and variable?<br>\n",
    "Ans:<br>\n",
    "string is datatype which represent type of data and variable is temparary storage which holds different type of datatype with reference to its memory location."
   ]
  },
  {
   "cell_type": "markdown",
   "id": "fa2a8ea0",
   "metadata": {},
   "source": [
    "3. Describe three different data types.<br>\n",
    "Ans:<br>\n",
    "Boolean: True/False<br>\n",
    "Integers: holds integer number<br>\n",
    "Float: holds floating point value which is specified with a decimal point"
   ]
  },
  {
   "cell_type": "markdown",
   "id": "4d7d3cb8",
   "metadata": {},
   "source": [
    "4. What is an expression made up of? What do all expressions do?<br>\n",
    "Ans:<br>\n",
    "expression is combination of operators and operands. all expression evaluate itself and return value."
   ]
  },
  {
   "cell_type": "markdown",
   "id": "f4208ff0",
   "metadata": {},
   "source": [
    "5. This assignment statements, like spam = 10. What is the difference between an expression and a statement?<br>\n",
    "Ans:<br>\n",
    "expression produce values and statement performs some action."
   ]
  },
  {
   "cell_type": "markdown",
   "id": "dab70514",
   "metadata": {},
   "source": [
    "6. After running the following code, what does the variable bacon contain?<br>\n",
    "bacon = 22<br>\n",
    "bacon + 1<br>\n",
    "Ans:<br>\n",
    "22"
   ]
  },
  {
   "cell_type": "markdown",
   "id": "50080b91",
   "metadata": {},
   "source": [
    "7. What should the values of the following two terms be?<br>\n",
    "'spam' + 'spamspam'<br>\n",
    "'spam' * 3<br>\n",
    "Ans:<br>\n",
    "'spamspamspam'<br>\n",
    "'spamspamspam'"
   ]
  },
  {
   "cell_type": "markdown",
   "id": "a57a0393",
   "metadata": {},
   "source": [
    "8. Why is eggs a valid variable name while 100 is invalid?<br>\n",
    "Ans:<br>\n",
    "because in python variable name must be start with a-z either lowercase or uppercase and _."
   ]
  },
  {
   "cell_type": "markdown",
   "id": "0bef4b43",
   "metadata": {},
   "source": [
    "9. What three functions can be used to get the integer, floating-point number, or string version of a value?<br>\n",
    "Ans:<br>\n",
    "int(), float(), string()"
   ]
  },
  {
   "cell_type": "markdown",
   "id": "e8036c4e",
   "metadata": {},
   "source": [
    "10. Why does this expression cause an error? How can you fix it?<br>\n",
    "'I have eaten ' + 99 + ' burritos.'<br>\n",
    "Ans:<br>\n",
    "'I have eaten ' + str(99) + ' burritos.'"
   ]
  }
 ],
 "metadata": {
  "kernelspec": {
   "display_name": "Python 3",
   "language": "python",
   "name": "python3"
  },
  "language_info": {
   "codemirror_mode": {
    "name": "ipython",
    "version": 3
   },
   "file_extension": ".py",
   "mimetype": "text/x-python",
   "name": "python",
   "nbconvert_exporter": "python",
   "pygments_lexer": "ipython3",
   "version": "3.8.5"
  }
 },
 "nbformat": 4,
 "nbformat_minor": 5
}
